{
 "cells": [
  {
   "cell_type": "markdown",
   "metadata": {},
   "source": [
    "# pandas 一共包含两个基本object: Series 和 DataFrame"
   ]
  },
  {
   "cell_type": "markdown",
   "metadata": {},
   "source": [
    "## DataFrame\n",
    "\n",
    "* A DataFrame is a table. It contains an array of individual entries, each of which has a certain value. Each entry corresponds to a row (or record) and a column.\n",
    "\n",
    "\n",
    "\n"
   ]
  },
  {
   "cell_type": "markdown",
   "metadata": {},
   "source": [
    "### 创建 DataFrame 对象：\n",
    "* 从字典创建 - 标准的创建方式\n",
    "* 从列表创建\n",
    "* 从 Series 创建\n",
    "* 从 Numpy 创建\n",
    "* 从 CSV 创建\n",
    "* 从 Excel 创建\n",
    "* 从 SQL 创建\n",
    "* 从 HTML 创建\n",
    "* 从 JSON 创建"
   ]
  },
  {
   "cell_type": "code",
   "execution_count": 11,
   "metadata": {},
   "outputs": [
    {
     "name": "stdout",
     "output_type": "stream",
     "text": [
      "test_a:\n",
      "    a  b\n",
      "0  1  4\n",
      "1  2  5\n",
      "2  3  6\n",
      "------------------------------------------------------------\n",
      "test_b:\n",
      "    a  b\n",
      "0  1  4\n",
      "1  2  5\n",
      "2  3  6\n"
     ]
    }
   ],
   "source": [
    "import pandas as pd\n",
    "\n",
    "# Create a DataFrame: 用 pd.DataFrame 来创建，里面填入的是一个字典，字典的 key 是列名，value 是 列表\n",
    "test_a = pd.DataFrame({'a': [1, 2, 3], 'b': [4, 5, 6]})\n",
    "\n",
    "test_b = pd.DataFrame([data=[1,4],[2,5],[3,6]],columns=['a','b'])   ## 前面的嵌套列表是 表格数据('data=' 这个关键词可以被省略)，等效于一个二维数组，里面的维度是每一行的数据\n",
    "print(\"test_a:\\n\",test_a)\n",
    "print(\"---\"*20)\n",
    "print(\"test_b:\\n\",test_b)"
   ]
  },
  {
   "cell_type": "code",
   "execution_count": 3,
   "metadata": {},
   "outputs": [
    {
     "data": {
      "text/html": [
       "<div>\n",
       "<style scoped>\n",
       "    .dataframe tbody tr th:only-of-type {\n",
       "        vertical-align: middle;\n",
       "    }\n",
       "\n",
       "    .dataframe tbody tr th {\n",
       "        vertical-align: top;\n",
       "    }\n",
       "\n",
       "    .dataframe thead th {\n",
       "        text-align: right;\n",
       "    }\n",
       "</style>\n",
       "<table border=\"1\" class=\"dataframe\">\n",
       "  <thead>\n",
       "    <tr style=\"text-align: right;\">\n",
       "      <th></th>\n",
       "      <th>Bob</th>\n",
       "      <th>Sue</th>\n",
       "    </tr>\n",
       "  </thead>\n",
       "  <tbody>\n",
       "    <tr>\n",
       "      <th>Product A</th>\n",
       "      <td>I liked it.</td>\n",
       "      <td>Pretty good.</td>\n",
       "    </tr>\n",
       "    <tr>\n",
       "      <th>Product B</th>\n",
       "      <td>It was awful.</td>\n",
       "      <td>Bland.</td>\n",
       "    </tr>\n",
       "  </tbody>\n",
       "</table>\n",
       "</div>"
      ],
      "text/plain": [
       "                     Bob           Sue\n",
       "Product A    I liked it.  Pretty good.\n",
       "Product B  It was awful.        Bland."
      ]
     },
     "execution_count": 3,
     "metadata": {},
     "output_type": "execute_result"
    }
   ],
   "source": [
    "# DataFrame 最左侧的一列叫做 index，可以自己指定，也可以不指定（默认从0开始对每一行进行编号）\n",
    "pd.DataFrame({'Bob': ['I liked it.', 'It was awful.'], \n",
    "              'Sue': ['Pretty good.', 'Bland.']},\n",
    "             index=['Product A', 'Product B'])    ## 用index参数指定最左侧的"
   ]
  },
  {
   "cell_type": "markdown",
   "metadata": {},
   "source": [
    "## Series\n",
    "\n",
    "* Series 是一维的数据结构，类似于一维的数组 （也可以直接看成是一个列表），但是每个元素都有一个标签，称为索引。Series 可以通过字典创建，也可以通过列表创建。\n",
    "\n",
    "* Series 有两个基本属性：index 和 values。index 是索引，values 是值。 \n",
    "\n",
    "* 如果把 DataFrame 看做是一个表格，那series 就是表格中的一列。\n",
    "    *  但是 Series 单独进行创建时无法指定每一个数据的 列名称（所有数据都是对应到同一个列名称，创建时可以用 name 来指定），只能指定每一个数据的 index。\n",
    "    * name只有一个的原因可以简单理解为 Series 是表格的里的一列，所以只能有一个name，它的数据对应着表格中的每一个行。"
   ]
  },
  {
   "cell_type": "code",
   "execution_count": 6,
   "metadata": {},
   "outputs": [
    {
     "name": "stdout",
     "output_type": "stream",
     "text": [
      "0    1\n",
      "1    2\n",
      "2    3\n",
      "3    4\n",
      "4    5\n",
      "dtype: int64 \n",
      "\n",
      "2015 Sales    30\n",
      "2016 Sales    35\n",
      "2017 Sales    40\n",
      "Name: Product A, dtype: int64\n"
     ]
    }
   ],
   "source": [
    "# 直接 用list 创建一个 series\n",
    "print(pd.Series([1, 2, 3, 4, 5]),\"\\n\")\n",
    "\n",
    "# 用index指定每一个数据的编号，用 name 指定series数据对应的名称\n",
    "print(pd.Series([30, 35, 40], index=['2015 Sales', '2016 Sales', '2017 Sales'], name='Product A'))\n"
   ]
  },
  {
   "cell_type": "markdown",
   "metadata": {},
   "source": [
    "## Pandas的一些基本操作\n",
    "\n",
    "### 简单操作\n",
    "* 读取 csv 文件\n",
    "    * pd.read_csv('file_path')   ## 如果不用 index_col=0，那么读取的DataFrame会多出一列数据作为行的index\n",
    "* 查看 csv 里表格的大小（多少行多少列）\n",
    "    * aaa.shape    # aaa是一个DataFrame对象，shape 返回 (行数, 列数)\n",
    "* 获取前5行\n",
    "    * aaa.head()\n",
    "    * aaa.head(1)  # 获取第1行数据（带表头的）\n",
    "* 保存为 csv 文件\n",
    "    * aaa.to_csv('file_path')"
   ]
  },
  {
   "cell_type": "markdown",
   "metadata": {},
   "source": [
    "### 对数据的操作\n",
    "* 访问某一列的数据：\n",
    "    * aaa.column_name\n",
    "    * aaa['column_name']  # 像字典变量一样读取就行，这种读法的优点是可以处理列名中有「空格」的情况\n",
    "    * aaa.column_name[0]  # 读取某一列的第一个数据\n",
    "\n",
    "* 访问某一行的数据：\n",
    "\n",
    "    * --------- 用 iloc : index 服从「左闭右开」原则 ---------\n",
    "    * aaa.iloc[0]         # 读取第一行的数据\n",
    "    * aaa.iloc[0:2]       # 读取第一行到第二行的数据.   也可以写成 aaa.iloc[:2] 或者 aaa.iloc[[0,1]]。 注意，这里只有一列数据，我们在选择行而已，它不是二维的数组。\n",
    "    * aaa.iloc[:2, [column_indx]]   # 读取 column_indx 指定的所有列 的 第一行和第二行\n",
    "\n",
    "    *  --------- 用 loc ：index 服从 「左闭右闭」原则 ---------\n",
    "    * aaa.loc[0:2,'column_name']  # 读取第一行到第二行的某一列的数据\n",
    "    * aaa.loc[0,['column_name1','column_name2']]  # 读取第一行的某两列的数据，有更多列直接扩充就行\n",
    "\n",
    "* 对 index 进行操作：\n",
    "    * aaa.set_index('column_name')   # 以表格的 column_name 作为表格最左侧的 index\n",
    "\n",
    "\n",
    "* 对数据进行条件筛选：\n",
    "    * ==            # 选择「等于」指定条件的表格元素\n",
    "        * reviews.loc[reviews.country == 'Italy']  等价于  reviews[reviews.country == 'Italy']\n",
    "    * &             # 同时满足 多个条件\n",
    "        * reviews.loc[reviews.country.isin(['Australia','New Zealand'])  & (reviews.points >= 95)]\n",
    "    * isin()        # 从表格中选择指定的列中，取值「满足指定值」的所有行\n",
    "        * reviews.country.isin(['Australia','New Zealand'])  # 选出 country 这一列里，取值为 'Australia' 或 'New Zealand' 的所有行， 此时返回的是 包含review表格所有列元素的 的子表格\n",
    "\n",
    "\n",
    "* 新建一列\n",
    "    * reviews['new_column_name'] = 某个常熟或者某个迭代表达式\n",
    "        * reviews['new_column_name'] = 1\n",
    "        * reviews['new_column_name'] = reviews['column_name1'] + reviews['column_name2']\n",
    "        * reviews['new_column_name] = range(len(reviews), 0, -1)  # 从 len(reviews) 到 1，步长为 -1"
   ]
  },
  {
   "cell_type": "markdown",
   "metadata": {},
   "source": [
    "### 一些常见的内置函数\n",
    "\n",
    "* describe()  # 返回表格的描述性统计信息\n",
    "    aaa.column_name.describe()\n",
    "* value_counts()  # 返回表格中每个元素出现的次数\n",
    "     aaa.column_name.value_counts()\n",
    "* mean()  # 返回表格中每个元素的平均值\n",
    "    aaa.column_name.mean()\n",
    "* median()  # 返回表格中每个元素的中位数\n",
    "    aaa.column_name.median()\n",
    "* unique() # 返回表格指定的某一列中每个元素的唯一值\n",
    "    aaa.column_name.unique()\n",
    "* idxmax()    # 返回最大值 对应的 index， 可以搭配 loc[] 函数把对应的那一行数据取出来\n",
    "    aaa.column_name.idxmax()\n",
    "\n",
    "* sort_values()  # 对表格进行排序\n",
    "    * aaa.sort_values(by='column_name', ascending=False)  # 按照 column_name 这一列的数据进行排序，ascending=False 表示降序排列\n",
    "    * aaa.sort_values(by=['column_name1', 'column_name2'], ascending=False)  # 按照 column_name1 这一列的数据进行排序，如果 column_name1 这一列的数据相同，那么按照 column_name2 这一列的数据进行排序\n",
    "\n",
    "\n",
    "#### map 和 apply: 它们会生成新的表格，不改变原来的表格变量\n",
    "* map()  # 对表格中的【每个元素】进行操作, 与 apply() 的区别是，map() 只能对表格中的每个元素进行操作，而 apply() 可以对表格中的【每一行/列】进行操作\n",
    "    * aaa.column_name.map(lambda x: x+1)  # 对 column_name 这一列的每个元素进行操作，每个元素都加 1\n",
    "    * aaa.column_name.map(lambda x: 'high' if x > 90 else 'low')  # 对 column_name 这一列的每个元素进行操作，如果元素大于 90，那么返回 'high'，否则返回 'low' \n",
    "\n",
    "* apply()  # 对表格中的每一行进行操作\n",
    "    * aaa.apply(lambda x: x['column_name1'] + x['column_name2'], axis=1)  # 对表格中的每一行进行操作，每一行的 column_name1 和 column_name2 进行相加.  axis=1也可以写成axis='columns'\n",
    "    * aaa.apply(lambda x: x['column_name1'] + x['column_name2'], axis=0)  # 对表格中的每一列进行操作，每一列的 column_name1 和 column_name2 进行相加. axis=0也可以写成axis='index'\n",
    "\n",
    "    ```\n",
    "    # 代码例子1\n",
    "        def remean_points(row):\n",
    "            row.points = row.points - review_points_mean\n",
    "            return row\n",
    "\n",
    "        reviews.apply(remean_points, axis='columns')\n",
    "\n",
    "    # 代码例子2\n",
    "        def stars(row):\n",
    "            if row.country == 'Canada':\n",
    "                return 3\n",
    "            elif row.points >= 95:\n",
    "                return 3\n",
    "            elif row.points >= 85:\n",
    "                return 2\n",
    "            else:\n",
    "                return 1\n",
    "\n",
    "        star_ratings = reviews.apply(stars, axis='columns')\n",
    "    ```\n",
    "\n"
   ]
  },
  {
   "cell_type": "markdown",
   "metadata": {},
   "source": [
    "#### 快速修改表格数据的一些操作\n",
    "\n",
    "* 加、减、乘、除、>、<、==： 会发生类似 numpy的广播 操作\n",
    "    * 以 减法 为例\n",
    "        * 当用表格的某一列 减去 一个常数时，表格的这一列数据都会减去这个常数  （这个常数被广播了）\n",
    "        * 当用表格的某一列 减去 一个元素数量相同的 Series时，表格的这一列数据会一一对应地减去对应的数"
   ]
  }
 ],
 "metadata": {
  "kernelspec": {
   "display_name": "Python 3.10.8 ('otto')",
   "language": "python",
   "name": "python3"
  },
  "language_info": {
   "codemirror_mode": {
    "name": "ipython",
    "version": 3
   },
   "file_extension": ".py",
   "mimetype": "text/x-python",
   "name": "python",
   "nbconvert_exporter": "python",
   "pygments_lexer": "ipython3",
   "version": "3.10.8"
  },
  "orig_nbformat": 4,
  "vscode": {
   "interpreter": {
    "hash": "245e97ba06923707dd11b4dcbd8a207781f3369a23feace1a161bb808686164b"
   }
  }
 },
 "nbformat": 4,
 "nbformat_minor": 2
}
