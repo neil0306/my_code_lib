{
 "cells": [
  {
   "cell_type": "markdown",
   "metadata": {},
   "source": [
    "# 学习数组\n",
    "## 代码随想录：https://programmercarl.com/%E6%95%B0%E7%BB%84%E7%90%86%E8%AE%BA%E5%9F%BA%E7%A1%80.html#%E6%95%B0%E7%BB%84%E7%90%86%E8%AE%BA%E5%9F%BA%E7%A1%80"
   ]
  },
  {
   "cell_type": "markdown",
   "metadata": {},
   "source": [
    "### 数组相关的基本知识\n",
    "* 数组下标都是从零开始的\n",
    "* 数组的内存地址是连续的\n",
    "    * 增删改的时候都需要对元素进行移动\n",
    "* 数组的元素是「不能删除的」，只能「覆盖」\n",
    "* \n",
    "\n",
    "\n",
    "【另】\n",
    "* 在 C++ 里，Vector 和 array 是不一样的。vector的底层实现是array，严格来说 vector 是容器，不是数组。"
   ]
  },
  {
   "cell_type": "code",
   "execution_count": null,
   "metadata": {},
   "outputs": [],
   "source": []
  }
 ],
 "metadata": {
  "language_info": {
   "name": "python"
  },
  "orig_nbformat": 4
 },
 "nbformat": 4,
 "nbformat_minor": 2
}
