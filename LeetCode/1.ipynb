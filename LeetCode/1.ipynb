{
 "cells": [
  {
   "cell_type": "markdown",
   "metadata": {},
   "source": [
    "# 1 两数之和 \n",
    "* 给定一个整数数组 nums 和一个整数目标值 target，请你在该数组中找出 和为目标值 target  的那 两个 整数，并返回它们的数组下标。\n",
    "\n",
    "* 你可以假设每种输入只会对应一个答案。但是，数组中同一个元素在答案里不能重复出现。\n",
    "\n",
    "* 你可以按任意顺序返回答案。\n",
    "\n",
    " \n",
    "\n",
    "* 示例 1：\n",
    "\n",
    "    * 输入：nums = [2,7,11,15], target = 9\n",
    "    * 输出：[0,1]\n",
    "    * 解释：因为 nums[0] + nums[1] == 9 ，返回 [0, 1] 。\n",
    "\n",
    "* 示例 2：\n",
    "\n",
    "    * 输入：nums = [3,2,4], target = 6\n",
    "    * 输出：[1,2]\n",
    "\n",
    "* 示例 3：\n",
    "\n",
    "    * 输入：nums = [3,3], target = 6\n",
    "    * 输出：[0,1]\n",
    " \n",
    "\n",
    "* 提示：\n",
    "\n",
    "    * 2 <= nums.length <= 104\n",
    "    * -109 <= nums[i] <= 109\n",
    "    * -109 <= target <= 109\n",
    "    * 只会存在一个有效答案\n",
    "\n",
    "来源：力扣（LeetCode）\n",
    "链接：https://leetcode.cn/problems/two-sum\n",
    "著作权归领扣网络所有。商业转载请联系官方授权，非商业转载请注明出处。"
   ]
  },
  {
   "cell_type": "markdown",
   "metadata": {},
   "source": [
    "# 分析\n",
    "* 题目问 '找出xxx', 换句话说就是 **xxx是否出现过** \n",
    "    * 这类问题都用 **哈希表** 去做\n",
    "\n",
    "# 思路:\n",
    "* 如果用暴力解法的话, 就是嵌套的两层 for 循环, 它的时间复杂度是 $O(n^2)$, 太慢了, 考虑其他办法.\n",
    "\n",
    "* 首先不要被 '之和' 把思路限制了, 两数之和等于target, 我们也可以理解为 当已知其中一个数的时候, 另一个数是否存在, 相当于做了 **减法**, 然后再判断元素是否存在\n",
    "    * 按照这个思路, 我们去做 '元素查找的话', 用哈希表是最快的\n",
    "\n",
    "    * 所以首先选择用什么数据结构作为哈希表, 哈希表通常考虑三种数据结构来构建, 数组, set 和 map\n",
    "        * 数组: 受到大小限制, 我们现在无法判断 nums 里有多少个数, 容易出现空间浪费, 不作为首选项\n",
    "        * set: 里面只能存放 value, 没办法同时把 元素的 index 也记录下来, 所以这里不选 set\n",
    "        * map: 存放的是 key:value, 满足需要\n",
    "\n",
    "    * 为了防止 **数组中同一个元素重复出现**, 我们不能先构建 哈希表 再进行遍历\n",
    "\n",
    "    * 我们需要查询的目标 一定要在 当前元素之前出现过, 否则就会出现重复!!\n",
    "    \n",
    "    * 遍历数组时:\n",
    "        * 我们要寻找的目标是 (target - nums[i]) 对应的 index, i 是当前遍历的元素 index\n",
    "            * 如果当前寻找的目标元素没有在 哈希表中出现过, **此时才可以** 把当前元素加入哈希表\n",
    "            * 如果 目标 找到了, 那么直接返回 i 和 (target - nums[i]) 对应的 index, 没找到就啥事不干\n"
   ]
  },
  {
   "cell_type": "code",
   "execution_count": 7,
   "metadata": {},
   "outputs": [],
   "source": [
    "class Solution:\n",
    "    def twoSum(self, nums, target):\n",
    "        hash_map = {}\n",
    "        \n",
    "        # 遍历数组, 寻找元素\n",
    "        for i in range(len(nums)):              \n",
    "            temp = target - nums[i]             # 计算寻找的目标元素\n",
    "            \n",
    "            if  temp not in hash_map.keys():\n",
    "                hash_map[ nums[i] ] = i         # i 之前的元素中都没有我们想找的目标, 此时更新 哈希表\n",
    "            \n",
    "            else:\n",
    "                return [i, hash_map[ temp ]]"
   ]
  },
  {
   "cell_type": "code",
   "execution_count": 8,
   "metadata": {},
   "outputs": [
    {
     "data": {
      "text/plain": [
       "[1, 0]"
      ]
     },
     "execution_count": 8,
     "metadata": {},
     "output_type": "execute_result"
    }
   ],
   "source": [
    "s = Solution()\n",
    "nums = [3,3]; target = 6\n",
    "s.twoSum(nums, target)"
   ]
  },
  {
   "cell_type": "markdown",
   "metadata": {},
   "source": [
    "# 一个更简洁, 更快的写法"
   ]
  },
  {
   "cell_type": "code",
   "execution_count": null,
   "metadata": {},
   "outputs": [],
   "source": [
    "class Solution:\n",
    "    def twoSum(self, nums: List[int], target: int) -> List[int]:\n",
    "        hashmap = {} ## 空字典\n",
    "        for i,num in enumerate(nums):\n",
    "            if hashmap.get(target - num) is not None:  # 找到求和项的第i个数\n",
    "                return [hashmap.get(target - num),i]   # hashmap.get()可以通过 value 找出字典的 key\n",
    "            hashmap[num]=i\n"
   ]
  }
 ],
 "metadata": {
  "kernelspec": {
   "display_name": "Python 3.9.12 ('base')",
   "language": "python",
   "name": "python3"
  },
  "language_info": {
   "codemirror_mode": {
    "name": "ipython",
    "version": 3
   },
   "file_extension": ".py",
   "mimetype": "text/x-python",
   "name": "python",
   "nbconvert_exporter": "python",
   "pygments_lexer": "ipython3",
   "version": "3.9.12"
  },
  "orig_nbformat": 4,
  "vscode": {
   "interpreter": {
    "hash": "901177bed68d7d4fbadb3177e755ced472e86ce1c03620f2ee52eeaae03fd4ab"
   }
  }
 },
 "nbformat": 4,
 "nbformat_minor": 2
}
