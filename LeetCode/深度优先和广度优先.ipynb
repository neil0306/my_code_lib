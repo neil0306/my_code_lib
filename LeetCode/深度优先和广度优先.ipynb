{
 "cells": [
  {
   "cell_type": "markdown",
   "metadata": {},
   "source": [
    "# 深度优先(DFS) 和 广度优先(BFS)\n",
    "原文: https://zhuanlan.zhihu.com/p/74472146"
   ]
  },
  {
   "cell_type": "markdown",
   "metadata": {},
   "source": [
    "## 概念要点:\n",
    "* 广度优先: 也叫层序遍历, 在一个图结构中, 按照 [由近到远] 的优先顺序进行遍历.\n",
    "* 深度优先: 先沿着一条边一直遍历到底(当前节点已经没有连接着新节点), 然后再原路返回, 遍历另一条边.\n",
    "\n",
    "## 代码实现的要点:\n",
    "* 相同特点:\n",
    "    * 都需要定一个 候选节点空间, 存放待遍历的节点\n",
    "\n",
    "* 不同特点:\n",
    "    * 广度优先的候选节点空间按照 [先进先出(队列)] 的规则选择下一个遍历的节点\n",
    "    * 深度优先的候选节点空间按照 [先进后出(栈)] 的规则选择下一个遍历的节点\n",
    "\n",
    "\n",
    "## 应用场景 -- 寻找最短路径\n",
    "* **非加权图**:\n",
    "    * 用广度优先遍历算法, 遍历到目标节点后, 返回包含节点数量最少的那条路径\n",
    "* **加权图**:\n",
    "    * 贝尔曼-福特算法（(Bellman-Ford）\n",
    "    * 狄克斯特拉算法（Dijkstra）\n",
    "    * A* 算法（A-Star）\n"
   ]
  },
  {
   "cell_type": "markdown",
   "metadata": {},
   "source": [
    "## 具体例子以及代码实例\n",
    "### 广度优先\n",
    "* 现在有一个 graph (图模型), 如下图所示.\n",
    "\n",
    "![jupyter](https://pic3.zhimg.com/v2-9458dcee63cd08a55f3f2f73ff0d9c3e_b.jpg)\n",
    "\n",
    "* 对于广度优先来说, 它的遍历顺序是:\n",
    "    * 红色节点表示当前节点\n",
    "    * 绿色节点是放入候选节点空间的节点\n",
    "    * 橙色节点表示已经遍历过的节点\n",
    "\n",
    "![jupyter](https://pic2.zhimg.com/v2-2301f101a860070f705540ac9c4c5609_b.jpg)\n",
    "\n",
    "### 深度优先\n",
    "\n",
    "* 同样, 有一个图模型如下图:\n",
    "\n",
    "![jupyter](https://pic1.zhimg.com/v2-881d99e3b36b6a478421b164ddac0c0c_b.jpg)\n",
    "\n",
    "* 对于深度优先来说, 它的遍历顺序是:\n",
    "    * 红色节点表示当前节点\n",
    "    * 绿色节点是放入候选节点空间的节点\n",
    "    * 橙色节点表示已经遍历过的节点\n",
    "\n",
    "![jupyter](https://pic3.zhimg.com/v2-413618ec9352d2984d25ac28cb9506aa_b.jpg)"
   ]
  },
  {
   "cell_type": "markdown",
   "metadata": {},
   "source": [
    "### 代码实现 -- 广度优先"
   ]
  },
  {
   "cell_type": "code",
   "execution_count": 11,
   "metadata": {},
   "outputs": [
    {
     "name": "stdout",
     "output_type": "stream",
     "text": [
      "B->D->F->C->E->C->G\n",
      "\n",
      "WE FIND IT!\n"
     ]
    },
    {
     "data": {
      "text/plain": [
       "True"
      ]
     },
     "execution_count": 11,
     "metadata": {},
     "output_type": "execute_result"
    }
   ],
   "source": [
    "# 广度优先\n",
    "def BFS(graph, start_node, target):\n",
    "    \"\"\"\n",
    "    广度优先遍历\n",
    "    Args:\n",
    "        graph (字典): 存储着非加权图, 每一个key对应一个节点, 如果key对应的节点有连接其他节点, 则 value 存储这些节点名字, 如果没有连接的节点就设置为空列表\n",
    "        start_node (字符串): 起始节点\n",
    "        target (字符串): 目标节点\n",
    "    \"\"\"\n",
    "    \n",
    "    # 初始化候选节点空间\n",
    "    from collections import deque           # deque 可以实现左右两侧元素的弹出\n",
    "    search_queue = deque()\n",
    "    \n",
    "    searched = []                           # 存放遍历过的节点\n",
    "    search_queue += graph[start_node]      # 把当前节点连接着的紧邻节点放入\n",
    "    \n",
    "    \n",
    "    while search_queue:\n",
    "        cur_node = search_queue.popleft()           # 这里假定最左侧的元素是 候选空间 里最先放进来的元素, 这里把最左侧元素pop出来了\n",
    "        # print(f\"We are now traversing: {cur_node}\")\n",
    "        \n",
    "        if cur_node == target:\n",
    "            print(cur_node)\n",
    "            print(\"\\nWE FIND IT!\")\n",
    "            return True\n",
    "        else:\n",
    "            print(cur_node, end=\"->\")\n",
    "            search_queue += graph[cur_node]\n",
    "            searched.append(cur_node)\n",
    "    \n",
    "    return False \n",
    "\n",
    "graph = {}\n",
    "graph[\"A\"] = [\"B\", \"D\", \"F\"]\n",
    "graph[\"B\"] = [\"C\", \"E\"]\n",
    "graph[\"D\"] = [\"C\"]\n",
    "graph[\"F\"] = [\"G\", \"H\"]\n",
    "graph[\"C\"] = []\n",
    "graph[\"E\"] = []\n",
    "graph[\"G\"] = []\n",
    "graph[\"H\"] = []\n",
    "\n",
    "BFS(graph=graph, start_node=\"A\", target =\"G\")"
   ]
  },
  {
   "cell_type": "code",
   "execution_count": 10,
   "metadata": {},
   "outputs": [
    {
     "name": "stdout",
     "output_type": "stream",
     "text": [
      "A->F->H->G\n",
      "\n",
      "WE FIND IT!\n"
     ]
    },
    {
     "data": {
      "text/plain": [
       "True"
      ]
     },
     "execution_count": 10,
     "metadata": {},
     "output_type": "execute_result"
    }
   ],
   "source": [
    "# 深度优先遍历\n",
    "\n",
    "def DFS(graph, start_node, target):\n",
    "    \"\"\"\n",
    "    深度优先遍历\n",
    "    Args:\n",
    "        graph (字典): 存储着非加权图, 每一个key对应一个节点, 如果key对应的节点有连接其他节点, 则 value 存储这些节点名字, 如果没有连接的节点就设置为空列表\n",
    "        start_node (字符串): 起始节点\n",
    "        target (字符串): 目标节点\n",
    "    \"\"\"\n",
    "    \n",
    "    # 初始化候选节点空间\n",
    "    from collections import deque           # deque 可以实现左右两侧元素的弹出\n",
    "    search_queue = deque()\n",
    "    \n",
    "    searched = []                          # 存放遍历过的节点\n",
    "    search_queue += graph[start_node]      # 把当前节点连接着的紧邻节点放入\n",
    "    \n",
    "    print(start_node, end=\"->\")\n",
    "    \n",
    "    while search_queue:\n",
    "        cur_node = search_queue.pop()           # 这里假定最左侧的元素是 候选空间 里最先放进来的元素, 这里把最右侧元素pop出来了   [与广度优先遍历代码的唯一区别!!]\n",
    "        # print(f\"We are now traversing: {cur_node}\")\n",
    "        \n",
    "        \n",
    "        if cur_node == target:\n",
    "            print(cur_node)\n",
    "            print(\"\\nWE FIND IT!\")\n",
    "            return True\n",
    "        else:\n",
    "            print(cur_node, end=\"->\")\n",
    "            search_queue += graph[cur_node]\n",
    "            searched.append(cur_node)\n",
    "    \n",
    "    return False \n",
    "\n",
    "graph = {}\n",
    "graph[\"A\"] = [\"B\", \"D\", \"F\"]\n",
    "graph[\"B\"] = [\"C\", \"E\"]\n",
    "graph[\"D\"] = [\"C\"]\n",
    "graph[\"F\"] = [\"G\", \"H\"]\n",
    "graph[\"C\"] = []\n",
    "graph[\"E\"] = []\n",
    "graph[\"G\"] = []\n",
    "graph[\"H\"] = []\n",
    "\n",
    "DFS(graph=graph, start_node=\"A\", target =\"G\")\n"
   ]
  }
 ],
 "metadata": {
  "kernelspec": {
   "display_name": "Python 3.9.12 ('base')",
   "language": "python",
   "name": "python3"
  },
  "language_info": {
   "codemirror_mode": {
    "name": "ipython",
    "version": 3
   },
   "file_extension": ".py",
   "mimetype": "text/x-python",
   "name": "python",
   "nbconvert_exporter": "python",
   "pygments_lexer": "ipython3",
   "version": "3.9.12"
  },
  "orig_nbformat": 4,
  "vscode": {
   "interpreter": {
    "hash": "901177bed68d7d4fbadb3177e755ced472e86ce1c03620f2ee52eeaae03fd4ab"
   }
  }
 },
 "nbformat": 4,
 "nbformat_minor": 2
}
