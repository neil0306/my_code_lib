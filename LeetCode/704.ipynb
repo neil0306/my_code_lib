{
 "cells": [
  {
   "cell_type": "markdown",
   "metadata": {},
   "source": [
    "# 704 二分查找\n",
    "* https://leetcode.cn/problems/binary-search/\n",
    "\n",
    "给定一个 n 个元素有序的（升序）整型数组 nums 和一个目标值 target  ，写一个函数搜索 nums 中的 target，如果目标值存在返回下标，否则返回 -1。"
   ]
  },
  {
   "cell_type": "markdown",
   "metadata": {},
   "source": [
    "输入: nums = [-1,0,3,5,9,12], target = 9     \n",
    "输出: 4       \n",
    "解释: 9 出现在 nums 中并且下标为 4  "
   ]
  },
  {
   "cell_type": "markdown",
   "metadata": {},
   "source": [
    "输入: nums = [-1,0,3,5,9,12], target = 2     \n",
    "输出: -1        \n",
    "解释: 2 不存在 nums 中因此返回 -1        "
   ]
  },
  {
   "cell_type": "markdown",
   "metadata": {},
   "source": [
    "提示：\n",
    "\n",
    "* 你可以假设 nums 中的所有元素是不重复的。\n",
    "* n 将在 [1, 10000]之间。\n",
    "* nums 的每个元素都将在 [-9999, 9999]之间。"
   ]
  },
  {
   "cell_type": "markdown",
   "metadata": {},
   "source": [
    "# 思路：\n",
    "## 使用二分查找的前提是数组是「有序」的，并且「无重复元素」。\n",
    "* 如果有重复元素，返回的下标就不唯一了。\n",
    "* 要遵循循环不变量原则，即每次循环中，要保持不变量，不然很容易写错边界条件。\n",
    "    * 写二分法，区间的定义一般为两种，左闭右闭即[left, right]，或者左闭右开即[left, right)。\n",
    "\n"
   ]
  },
  {
   "cell_type": "code",
   "execution_count": null,
   "metadata": {},
   "outputs": [],
   "source": [
    "## 写法一：左闭右闭\n",
    "要点\n",
    "* middle 的计算要防止溢出，用等价的表达式 (left + (right - left)//2) 来代替 (left + right)//2, middle 写到while里边\n",
    "* 更新 left： nums[middle] > target 时， left = middle + 1 \n",
    "* 更新 right： nums[middle] < target 时， right = middle - 1 "
   ]
  },
  {
   "cell_type": "code",
   "execution_count": 12,
   "metadata": {},
   "outputs": [
    {
     "data": {
      "text/plain": [
       "4"
      ]
     },
     "execution_count": 12,
     "metadata": {},
     "output_type": "execute_result"
    }
   ],
   "source": [
    "def search( nums, target):\n",
    "    left = 0\n",
    "    right = len(nums)-1\n",
    "    \n",
    "    while left <= right:\n",
    "        middle = left + ((right-left)//2)   # 防止溢出\n",
    "        \n",
    "        if nums[middle] > target:         # 目标在左区间\n",
    "            right = middle - 1\n",
    "        elif nums[middle] < target:        # 目标在右区间\n",
    "            left = middle + 1\n",
    "        else:\n",
    "            return middle\n",
    "    return -1\n",
    "\n",
    "nums = [-1,0,3,5,9,12]\n",
    "search(nums,target = 9)"
   ]
  }
 ],
 "metadata": {
  "kernelspec": {
   "display_name": "Python 3.10.8 ('otto')",
   "language": "python",
   "name": "python3"
  },
  "language_info": {
   "codemirror_mode": {
    "name": "ipython",
    "version": 3
   },
   "file_extension": ".py",
   "mimetype": "text/x-python",
   "name": "python",
   "nbconvert_exporter": "python",
   "pygments_lexer": "ipython3",
   "version": "3.10.8"
  },
  "orig_nbformat": 4,
  "vscode": {
   "interpreter": {
    "hash": "245e97ba06923707dd11b4dcbd8a207781f3369a23feace1a161bb808686164b"
   }
  }
 },
 "nbformat": 4,
 "nbformat_minor": 2
}
