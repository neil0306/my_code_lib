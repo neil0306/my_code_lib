{
 "cells": [
  {
   "cell_type": "markdown",
   "metadata": {},
   "source": [
    "# 题目\n",
    "\n",
    "给定一个按照升序排列的整数数组 nums，和一个目标值 target。找出给定目标值在数组中的开始位置和结束位置。\n",
    "\n",
    "如果数组中不存在目标值 target，返回 [-1, -1]。\n",
    "\n",
    "进阶：你可以设计并实现时间复杂度为 $O(\\log n)$ 的算法解决此问题吗？\n",
    "\n",
    "示例 1：\n",
    "\n",
    "输入：nums = [5,7,7,8,8,10], target = 8\n",
    "输出：[3,4]\n",
    "示例 2：\n",
    "\n",
    "输入：nums = [5,7,7,8,8,10], target = 6\n",
    "输出：[-1,-1]\n",
    "示例 3：\n",
    "\n",
    "输入：nums = [], target = 0\n",
    "输出：[-1,-1]\n",
    "\n",
    "# 提示：\n",
    "\n",
    "* 0 <= nums.length <= 105\n",
    "* -109 <= nums[i] <= 109\n",
    "* nums 是一个非递减数组\n",
    "* -109 <= target <= 109\n",
    "\n",
    "来源：力扣（LeetCode）\n",
    "链接：https://leetcode.cn/problems/find-first-and-last-position-of-element-in-sorted-array\n",
    "著作权归领扣网络所有。商业转载请联系官方授权，非商业转载请注明出处。"
   ]
  },
  {
   "cell_type": "markdown",
   "metadata": {},
   "source": [
    "# 分析\n",
    "题目特点：\n",
    "    1、数组是有序的（非降序，说明可能是升序且可能有重复元素）\n",
    "\n",
    "# 做题主要思路:\n",
    "    1. 目标是要找到最靠近 target 的左侧元素（左侧边界） 和 最靠近 target 的右侧元素（右侧边界）\n",
    "    2. 找边界的思路是：\n",
    "        对于左边界，本质上我们寻找的是「target左侧的分界点的位置」，因此我们使用二分的时候，分界点的左侧区间数值应该全部[小于]target，右侧区间数值应该[大于等于]target\n",
    "        对于右侧边界，我们寻找的也是分界点，分界点的左侧区域应该都[小于或等于]target，右侧区间应该都[大于]target\n",
    "    3. 检查找到的边界点：\n",
    "        注意寻找到的边界点是否超出数组范围。如果超出范围，说明数组中不存在 target，返回 [-1, -1] 即可。\n",
    "        对于左边界点，如果target在数组中，则它的值应该等于target，否则返回[-1,-1]\n",
    "        对于右边界点，我们在二分的时候它的最大值就是 len(nums)-1，不会出现异常，所以可以不做处理。"
   ]
  },
  {
   "cell_type": "code",
   "execution_count": 7,
   "metadata": {},
   "outputs": [],
   "source": [
    "class Solution:\n",
    "    def searchRange(self, nums, target):\n",
    "        \n",
    "        if len(nums) == 0:   # 空数组直接结束\n",
    "            return [-1, -1]\n",
    "        \n",
    "        l_bound = self.left_bound(nums, target)\n",
    "        if l_bound > len(nums)-1:                   # 提交时发现 l_bound 在 [2,2] target=3时，l_bound 会大于right，被多更新了一次。。。\n",
    "            return [-1,-1]\n",
    "        elif nums[l_bound] != target:               # l_bound 一定 <= target\n",
    "            return [-1,-1]\n",
    "        \n",
    "        r_bound = self.right_bound(nums, target)     # r_bound 一定 > target\n",
    "        \n",
    "        return [l_bound, r_bound]\n",
    "        \n",
    "    \n",
    "    def left_bound(self, nums, target):\n",
    "        ## 不管三七二十一，直接寻找左边界\n",
    "        left = 0; right = len(nums) - 1\n",
    "        # l_bound = -2                  ## -2 作为标记，表示没有找到左边界就结束了，此时target在数组的左侧\n",
    "        while left <=right:\n",
    "            mid = left + (right-left)//2\n",
    "            if nums[mid] < target:      # 对于左边界点， 它左侧的数全部小于target，右侧的数全部大于等于target\n",
    "                left = mid +1   \n",
    "            else:\n",
    "                right = mid -1\n",
    "        return left                     # left 最后一次更新是 left = mid +1，此时 left 是「最靠近target的左侧元素的下一个」，所以，如果target在nums里，则此时返回的left必定是target的index\n",
    "    \n",
    "    def right_bound(self, nums, target):\n",
    "        ## 不管三七二十一，直接寻找右边节点\n",
    "        left = 0; right = len(nums) - 1\n",
    "        while(left <=right):\n",
    "            mid = left + (right - left)//2   \n",
    "            if nums[mid] <= target:      # 对于右边节点，它左侧的数值全部小于等于target, 右侧的数值全部大于target\n",
    "                left = mid +1\n",
    "            else:\n",
    "                right = mid -1\n",
    "        return right\n",
    "        "
   ]
  },
  {
   "cell_type": "code",
   "execution_count": 8,
   "metadata": {},
   "outputs": [
    {
     "data": {
      "text/plain": [
       "[-1, -1]"
      ]
     },
     "execution_count": 8,
     "metadata": {},
     "output_type": "execute_result"
    }
   ],
   "source": [
    "# nums = [5,7,7,8,8,10]; target = 8\n",
    "# nums = [5,7,7,8,8,10]; target = 6\n",
    "# nums = []; target = 0\n",
    "nums = [2,2]; target = 3\n",
    "s = Solution()\n",
    "s.searchRange(nums,target)"
   ]
  }
 ],
 "metadata": {
  "kernelspec": {
   "display_name": "Python 3.9.12 ('base')",
   "language": "python",
   "name": "python3"
  },
  "language_info": {
   "codemirror_mode": {
    "name": "ipython",
    "version": 3
   },
   "file_extension": ".py",
   "mimetype": "text/x-python",
   "name": "python",
   "nbconvert_exporter": "python",
   "pygments_lexer": "ipython3",
   "version": "3.9.12"
  },
  "orig_nbformat": 4,
  "vscode": {
   "interpreter": {
    "hash": "901177bed68d7d4fbadb3177e755ced472e86ce1c03620f2ee52eeaae03fd4ab"
   }
  }
 },
 "nbformat": 4,
 "nbformat_minor": 2
}
