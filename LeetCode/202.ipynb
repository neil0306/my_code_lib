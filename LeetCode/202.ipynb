{
 "cells": [
  {
   "cell_type": "markdown",
   "metadata": {},
   "source": [
    "# 题目: 202 快乐树\n",
    "\n",
    "* 编写一个算法来判断一个数 n 是不是快乐数。\n",
    "\n",
    "* 「快乐数」 定义为：\n",
    "    * 对于一个正整数，每一次将该数替换为它每个位置上的数字的平方和。\n",
    "    * 然后重复这个过程直到这个数变为 1，也可能是 无限循环 但始终变不到 1。\n",
    "    * 如果这个过程 结果为 1，那么这个数就是快乐数。\n",
    "    * 如果 n 是 快乐数 就返回 true ；不是，则返回 false 。\n",
    "\n",
    " \n",
    "\n",
    "* 示例 1：\n",
    "\n",
    "    * 输入：n = 19\n",
    "    * 输出：true\n",
    "    * 解释：\n",
    "    * $1^2$ + $9^2$ = 82\n",
    "    * $8^2$ + $2^2$ = 68\n",
    "    * 62 + $8^2$ = 100\n",
    "    * $1^2$ + $0^2$ + $0^2$ = 1\n",
    "\n",
    "* 示例 2：\n",
    "\n",
    "    * 输入：n = 2\n",
    "    * 输出：false\n",
    " \n",
    "\n",
    "* 提示：\n",
    "\n",
    "    * 1 <= n <= $2^{31}$ - 1\n",
    "\n",
    "来源：力扣（LeetCode）\n",
    "链接：https://leetcode.cn/problems/happy-number\n",
    "著作权归领扣网络所有。商业转载请联系官方授权，非商业转载请注明出处。"
   ]
  },
  {
   "cell_type": "markdown",
   "metadata": {},
   "source": [
    "# 分析:\n",
    "* 题目中说到 '如果不是快乐数', 则是死循环, 即 sum 的结果与前一次一致,\n",
    "\n",
    "# 思路:\n",
    "* 只要 sum 结果与前一次一致, 就返回 false\n",
    "* 那么我们的判断条件就是 sum 的值是否重复出现 \n",
    "    * 判断 数值 是否重复出现一般用 **哈希表** 来做\n"
   ]
  },
  {
   "cell_type": "code",
   "execution_count": 12,
   "metadata": {},
   "outputs": [],
   "source": [
    "class Solution:\n",
    "    def isHappy(self, n: int) -> bool:\n",
    "        temp_dict = {}\n",
    "        temp_sum = 0\n",
    "        str_n = str(n)\n",
    "        \n",
    "        while True:\n",
    "            for i in str_n:                         # 对每一个数字求平方和\n",
    "                temp_sum += int(i)**2\n",
    "            \n",
    "            if temp_sum == 1:\n",
    "                return True\n",
    "            \n",
    "            if temp_sum in temp_dict.keys():        # sum 值曾经出现过\n",
    "                return False\n",
    "            \n",
    "            str_n = str(temp_sum)                   # 转换成 str, 方便下一次循环\n",
    "            temp_dict[temp_sum] = 1\n",
    "            temp_sum = 0                            # 别忘了更新 temp_sum"
   ]
  },
  {
   "cell_type": "code",
   "execution_count": 14,
   "metadata": {},
   "outputs": [
    {
     "data": {
      "text/plain": [
       "True"
      ]
     },
     "execution_count": 14,
     "metadata": {},
     "output_type": "execute_result"
    }
   ],
   "source": [
    "n=19\n",
    "s = Solution()\n",
    "s.isHappy(n)"
   ]
  }
 ],
 "metadata": {
  "kernelspec": {
   "display_name": "Python 3.9.12 ('base')",
   "language": "python",
   "name": "python3"
  },
  "language_info": {
   "codemirror_mode": {
    "name": "ipython",
    "version": 3
   },
   "file_extension": ".py",
   "mimetype": "text/x-python",
   "name": "python",
   "nbconvert_exporter": "python",
   "pygments_lexer": "ipython3",
   "version": "3.9.12"
  },
  "orig_nbformat": 4,
  "vscode": {
   "interpreter": {
    "hash": "901177bed68d7d4fbadb3177e755ced472e86ce1c03620f2ee52eeaae03fd4ab"
   }
  }
 },
 "nbformat": 4,
 "nbformat_minor": 2
}
