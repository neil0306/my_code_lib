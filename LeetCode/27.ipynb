{
 "cells": [
  {
   "cell_type": "markdown",
   "metadata": {},
   "source": [
    "# 题目：27 移除元素\n",
    "给你一个数组 nums 和一个值 val，你需要 原地 移除所有数值等于 val 的元素，并返回移除后数组的新长度。\n",
    "\n",
    "不要使用额外的数组空间，你必须仅使用 O(1) 额外空间并原地修改输入数组。\n",
    "\n",
    "元素的顺序可以改变。你不需要考虑数组中超出新长度后面的元素。\n",
    "\n",
    "示例 1: 给定 nums = [3,2,2,3], val = 3, 函数应该返回新的长度 2, 并且 nums 中的前两个元素均为 2。 你不需要考虑数组中超出新长度后面的元素。\n",
    "\n",
    "示例 2: 给定 nums = [0,1,2,2,3,0,4,2], val = 2, 函数应该返回新的长度 5, 并且 nums 中的前五个元素为 0, 1, 3, 0, 4。"
   ]
  },
  {
   "cell_type": "markdown",
   "metadata": {},
   "source": [
    "# 思路：\n",
    "    * 使用双指针（快慢指针）法\n",
    "        * 我们虚拟出一个新的数组，用来存放「删除/移动」指定 value 之后的元素，本质上还是在原来的数组上进行操作，所以还是属于instance。 \n",
    "        * 快指针的含义：   快指针指向我们[遍历的新元素，它同时也在完成寻找需要删除的元素的过程]\n",
    "        * 慢指针的含义：    慢指针指向我们[需要在「虚拟的新数组」里，需要更新的元素]"
   ]
  },
  {
   "cell_type": "code",
   "execution_count": 18,
   "metadata": {},
   "outputs": [],
   "source": [
    "class Solution:\n",
    "    def removeElement(self, nums, val) :\n",
    "        slow = 0                        # 初始化 slow 指针\n",
    "        for fast in range(len(nums)):   # fast 指针在for循环里初始化, 用 len(nums) 还可以排除空数组的情况\n",
    "            if nums[fast] != val:       # 寻找虚拟的新数组中需要存放的元素 \n",
    "                nums[slow] = nums[fast] # 给虚拟出来的新数组赋值，本质上是进行元素覆盖\n",
    "                slow += 1               # 做完元素覆盖之后，slow 指针需要移动到下一个位置\n",
    "                print(nums)\n",
    "        \n",
    "        return slow                     # 由于下标从0开始，且slow最后会指向「数组最后一个元素的[下一个位置]」，因此 slow 就是数组的大小 "
   ]
  },
  {
   "cell_type": "code",
   "execution_count": 19,
   "metadata": {},
   "outputs": [
    {
     "data": {
      "text/plain": [
       "0"
      ]
     },
     "execution_count": 19,
     "metadata": {},
     "output_type": "execute_result"
    }
   ],
   "source": [
    "s = Solution()\n",
    "\n",
    "nums = [3,2,3,2,3,4]; val = 2\n",
    "nums=[]\n",
    "s.removeElement(nums, val)"
   ]
  },
  {
   "cell_type": "code",
   "execution_count": null,
   "metadata": {},
   "outputs": [],
   "source": []
  },
  {
   "cell_type": "markdown",
   "metadata": {},
   "source": [
    "# 以前的笔记 —— 三种快慢指针写法"
   ]
  },
  {
   "cell_type": "code",
   "execution_count": null,
   "metadata": {},
   "outputs": [],
   "source": [
    "class Solution:\n",
    "    def removeElement(self, nums: List[int], val: int) -> int:\n",
    "        '''\n",
    "        快慢指针： \n",
    "            快指针随着遍历执行不断增加；\n",
    "            当 nums[fast] != val 时，慢指针移动一位，并将 快指针元素赋值给慢指针位置\n",
    "        '''\n",
    "        # l = len(nums)\n",
    "        # slow = 0\n",
    "        # for i in range(l):\n",
    "\n",
    "        # ## 写法1：\n",
    "        #     if nums[i] != val:\n",
    "        #         nums[slow] = nums[i]\n",
    "        #         slow += 1\n",
    "        # nums = nums[:slow]   ## 更新整个数组\n",
    "\n",
    "        ## 写法2：\n",
    "            # if nums[i] != val:\n",
    "            #     nums[slow], nums[i] = nums[i], nums[slow]   ## Python 允许不借助第三个变量的前提下交换元素\n",
    "            #     slow += 1\n",
    "\n",
    "        ## 写法3：\n",
    "        \n",
    "        fast = slow = 0\n",
    "\n",
    "        while fast < len(nums):\n",
    "\n",
    "            if nums[fast] != val:\n",
    "                nums[slow] = nums[fast]\n",
    "                slow += 1\n",
    "\n",
    "            # 当 fast 指针遇到要删除的元素时停止赋值\n",
    "            # slow 指针停止移动, fast 指针继续前进\n",
    "            fast += 1\n",
    "\n",
    "        return slow"
   ]
  }
 ],
 "metadata": {
  "kernelspec": {
   "display_name": "Python 3.9.12 ('base')",
   "language": "python",
   "name": "python3"
  },
  "language_info": {
   "codemirror_mode": {
    "name": "ipython",
    "version": 3
   },
   "file_extension": ".py",
   "mimetype": "text/x-python",
   "name": "python",
   "nbconvert_exporter": "python",
   "pygments_lexer": "ipython3",
   "version": "3.9.12"
  },
  "orig_nbformat": 4,
  "vscode": {
   "interpreter": {
    "hash": "901177bed68d7d4fbadb3177e755ced472e86ce1c03620f2ee52eeaae03fd4ab"
   }
  }
 },
 "nbformat": 4,
 "nbformat_minor": 2
}
