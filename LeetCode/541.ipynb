{
 "cells": [
  {
   "cell_type": "markdown",
   "metadata": {},
   "source": [
    "# 题目: 反转字符串Ⅱ\n",
    "* 给定一个字符串 s 和一个整数 k，从字符串开头算起，每计数至 2k 个字符，就反转这 2k 字符中的前 k 个字符。\n",
    "\n",
    "    * 如果剩余字符少于 k 个，则将剩余字符全部反转。\n",
    "    * 如果剩余字符小于 2k 但大于或等于 k 个，则反转前 k 个字符，其余字符保持原样。\n",
    " \n",
    "\n",
    "* 示例 1：\n",
    "\n",
    "    * 输入：s = \"abcdefg\", k = 2\n",
    "    * 输出：\"bacdfeg\"\n",
    "\n",
    "* 示例 2：\n",
    "\n",
    "    * 输入：s = \"abcd\", k = 2\n",
    "    * 输出：\"bacd\"\n",
    " \n",
    "\n",
    "* 提示：\n",
    "\n",
    "    * 1 <= s.length <= $10^4$\n",
    "    * s 仅由小写英文组成\n",
    "    * 1 <= k <= $10^4$\n",
    "\n",
    "来源：力扣（LeetCode）\n",
    "链接：https://leetcode.cn/problems/reverse-string-ii\n",
    "著作权归领扣网络所有。商业转载请联系官方授权，非商业转载请注明出处。"
   ]
  },
  {
   "cell_type": "markdown",
   "metadata": {},
   "source": [
    "# 分析:\n",
    "* 题目 没有 要求在原字符串上进行修改, 我们可以重新定义一个新的变量存放反转后的字母\n",
    "* 注意一点: 哪怕字符串有2k个, 我们也只反转 前k个!\n",
    "\n",
    "# 思路:\n",
    "* 1. 进行字符串反转时, 一般需要使用两个指针, 一前一后, 写成一个reverse函数就可以了\n",
    "* 2. [复杂的写法] 先让 r 走到 2k 位置:\n",
    "    * 定一个一个 step_cnt, 记录当前走的步数\n",
    "        * step_cnt 每走完2k次, 就把 [l,r] 个字符串进行反转   -- 注意 l 不能与 前一次反转的 r 相等\n",
    "        * 在 r指针走到 末尾的时候:\n",
    "            * 如果 0 < step_cnt < k, 则 把剩余字符串全部反转\n",
    "            * 如果 k < step_cnt < 2k, 则 只针对 k 个字符进行反转, 其余字符串保持原状\n",
    "\n",
    "* [简洁的写法] 遍历数组时, 不要 用 i+=1, 而是用 i +=2k, 一段段去跳跃, 这样的好处:\n",
    "    * 代码看上去更加简洁了\n",
    "    * 直接把 '剩余字符串 < k' 这种情况包含进去了, 因为此时不执行循环体, 我们把 reverse 过程定义在循环体里的话, 就可以直接避免对 字符串小于k个 的情况写 if 判断了"
   ]
  },
  {
   "cell_type": "markdown",
   "metadata": {},
   "source": [
    "# 遍历字符串时, 每次跳转2k个"
   ]
  },
  {
   "cell_type": "code",
   "execution_count": 10,
   "metadata": {},
   "outputs": [],
   "source": [
    "class Solution:\n",
    "    def reverseStr(self, s, k) -> str:\n",
    "        \n",
    "        # 先写反转函数\n",
    "        def my_reverse(s, star, end):\n",
    "            temp_s = [i for i in s]\n",
    "            l = star        \n",
    "            r = end -1                  # 只处理 [star, end] 区间内的字符串, 并且是左闭右开的\n",
    "            \n",
    "            while l <= r:\n",
    "                temp_s[l], temp_s[r] = temp_s[r], temp_s[l]\n",
    "                l +=1\n",
    "                r -=1\n",
    "            \n",
    "            return \"\".join(temp_s) \n",
    "        \n",
    "        # 遍历数组, 每次跳 i+2k 个, 数组元素不足2k个时, 跳出循环\n",
    "        for i in range(0, len(s)-1, 2*k):\n",
    "            # \n",
    "            if (i+k <= len(s)):             # 剩下字符不足k个时, 这些字符都要进行反转, 同时, 这个判断条件也包含了 [i, i+2k]区间内有2k个字符串的情况\n",
    "                s = my_reverse(s, i, i+k)   # 题目要求, 无论是否有2k个字符, 我们每次都只反转 前 k 个,  注意, my_reverse 是 左闭右开的 区间, 所以if判断语句需要包含 len(s)\n",
    "                continue                    # 用continue 跳开下面特殊条件的执行\n",
    "            \n",
    "            s = my_reverse(s, i, len(s) )            # 特殊条件: 当剩下的字符串 不足 k 个, 也要对剩余字符进行反转     \n",
    "        \n",
    "        return s"
   ]
  },
  {
   "cell_type": "code",
   "execution_count": 11,
   "metadata": {},
   "outputs": [
    {
     "data": {
      "text/plain": [
       "'dcba'"
      ]
     },
     "execution_count": 11,
     "metadata": {},
     "output_type": "execute_result"
    }
   ],
   "source": [
    "ans = Solution()\n",
    "\n",
    "s = \"abcdefg\"; k = 2\n",
    "s = \"abcd\"; k = 2\n",
    "s = \"abcd\"; k = 4\n",
    "ans.reverseStr(s, k)"
   ]
  }
 ],
 "metadata": {
  "kernelspec": {
   "display_name": "Python 3.9.12 ('base')",
   "language": "python",
   "name": "python3"
  },
  "language_info": {
   "codemirror_mode": {
    "name": "ipython",
    "version": 3
   },
   "file_extension": ".py",
   "mimetype": "text/x-python",
   "name": "python",
   "nbconvert_exporter": "python",
   "pygments_lexer": "ipython3",
   "version": "3.9.12"
  },
  "orig_nbformat": 4,
  "vscode": {
   "interpreter": {
    "hash": "901177bed68d7d4fbadb3177e755ced472e86ce1c03620f2ee52eeaae03fd4ab"
   }
  }
 },
 "nbformat": 4,
 "nbformat_minor": 2
}
