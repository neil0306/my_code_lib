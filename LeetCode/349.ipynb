{
 "cells": [
  {
   "cell_type": "markdown",
   "metadata": {},
   "source": [
    "# 题目 两个数组的交集\n",
    "\n",
    "* 给定两个数组 nums1 和 nums2 ，返回 它们的交集 。输出结果中的每个元素一定是 唯一 的。我们可以 不考虑输出结果的顺序 。\n",
    "\n",
    " \n",
    "* 示例 1：\n",
    "\n",
    "    * 输入：nums1 = [1,2,2,1], nums2 = [2,2]\n",
    "    * 输出：[2]\n",
    "\n",
    "\n",
    "* 示例 2：\n",
    "\n",
    "    * 输入：nums1 = [4,9,5], nums2 = [9,4,9,8,4]\n",
    "    * 输出：[9,4]\n",
    "    * 解释：[4,9] 也是可通过的\n",
    " \n",
    "\n",
    "* 提示：\n",
    "\n",
    "    * 1 <= nums1.length, nums2.length <= 1000\n",
    "    * 0 <= nums1[i], nums2[i] <= 1000\n",
    "\n",
    "\n",
    "来源：力扣（LeetCode）\n",
    "链接：https://leetcode.cn/problems/intersection-of-two-arrays\n",
    "著作权归领扣网络所有。商业转载请联系官方授权，非商业转载请注明出处。"
   ]
  },
  {
   "cell_type": "markdown",
   "metadata": {},
   "source": [
    "# 分析:\n",
    "* 题目问的是交集, 本质上就是问 A 的元素有没有在 B 中出现\n",
    "    * 问 [元素是否出现] 通常用 哈希表 求解\n",
    "    * 题目不要求有序, 且返回的元素是唯一的, 故 哈希表 可以选择 unordered_map 或者 unordered_set\n",
    "\n"
   ]
  },
  {
   "cell_type": "markdown",
   "metadata": {},
   "source": [
    "# 用集合求解, 遍历较短的数组"
   ]
  },
  {
   "cell_type": "code",
   "execution_count": null,
   "metadata": {},
   "outputs": [],
   "source": [
    "class Solution:\n",
    "    def intersection(self, nums1: List[int], nums2: List[int]) -> List[int]:\n",
    "        if len(nums1) >= len(nums2):            \n",
    "            nums1, nums2 = nums2, nums1         # 把 nums1 设置为较短的数组\n",
    "        \n",
    "        res = set()\n",
    "        for i in nums1:                         # 只遍历较短的数组\n",
    "            if i in nums2:\n",
    "                res.add(i)\n",
    "        \n",
    "        return res"
   ]
  },
  {
   "cell_type": "markdown",
   "metadata": {},
   "source": [
    "# (暴力解法) 用字典做统计求解, 用集合去重, 两个数组都遍历一次"
   ]
  },
  {
   "cell_type": "code",
   "execution_count": null,
   "metadata": {},
   "outputs": [],
   "source": [
    "class Solution:\n",
    "    def intersection(self, nums1: List[int], nums2: List[int]) -> List[int]:\n",
    "        \n",
    "        temp = {}\n",
    "        res = set()\n",
    "        for i in nums1:                         # 只遍历较短的数组\n",
    "            # temp[i] = temp.get(i, 0) +1\n",
    "            temp[i] = 1                         # 直接赋值为1, 多次出现的话会直接用1去覆盖\n",
    "        \n",
    "        for i in nums2: \n",
    "            if temp.get(i,0) !=0:\n",
    "                res.add(i)\n",
    "        return list(res)"
   ]
  }
 ],
 "metadata": {
  "kernelspec": {
   "display_name": "Python 3.9.12 ('base')",
   "language": "python",
   "name": "python3"
  },
  "language_info": {
   "codemirror_mode": {
    "name": "ipython",
    "version": 3
   },
   "file_extension": ".py",
   "mimetype": "text/x-python",
   "name": "python",
   "nbconvert_exporter": "python",
   "pygments_lexer": "ipython3",
   "version": "3.9.12"
  },
  "orig_nbformat": 4,
  "vscode": {
   "interpreter": {
    "hash": "901177bed68d7d4fbadb3177e755ced472e86ce1c03620f2ee52eeaae03fd4ab"
   }
  }
 },
 "nbformat": 4,
 "nbformat_minor": 2
}
