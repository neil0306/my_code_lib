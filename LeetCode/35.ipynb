{
 "cells": [
  {
   "cell_type": "markdown",
   "metadata": {},
   "source": [
    "# 题目\n",
    "\n",
    "给定一个排序数组和一个目标值，在数组中找到目标值，并返回其索引。如果目标值不存在于数组中，返回它将会被按顺序插入的位置。\n",
    "\n",
    "请必须使用时间复杂度为 O(log n) 的算法\n"
   ]
  },
  {
   "cell_type": "markdown",
   "metadata": {},
   "source": [
    "示例 1:\n",
    "\n",
    "输入: nums = [1,3,5,6], target = 5\n",
    "输出: 2\n",
    "\n",
    "示例 2:\n",
    "\n",
    "输入: nums = [1,3,5,6], target = 2\n",
    "输出: 1\n",
    "\n",
    "示例 4:\n",
    "\n",
    "输入: nums = [1,3,5,6], target = 7\n",
    "输出: 4\n",
    "\n",
    "\n",
    "\n",
    "提示:\n",
    "\n",
    "* 1 <= nums.length <= 104\n",
    "* -104 <= nums[i] <= 104\n",
    "* nums 为 无重复元素 的 升序 排列数组\n",
    "* -104 <= target <= 104\n"
   ]
  },
  {
   "cell_type": "code",
   "execution_count": 36,
   "metadata": {},
   "outputs": [],
   "source": [
    "# 使用二分法：左闭右闭\n",
    "\n",
    "class Solution:\n",
    "    def searchInsert(self, nums, target) -> int:\n",
    "        '''\n",
    "        题目已经满足使用二分法的基本条件：\n",
    "            1、有序数组\n",
    "            2、无重复元素\n",
    "        \n",
    "        代码写法：\n",
    "        此时需要先确定合法区间的构成，是「左闭右闭」，还是「左闭右开」？\n",
    "            1、定义左右区间：根据区间来定义 left 和 right\n",
    "            2、写while判断条件 （利用确定好的合法区间关系）\n",
    "            3、写 middle 的更新: 防止溢出的写法是 left + (right - left) // 2; 也可以写成 (left + right) // 2\n",
    "            4、写 if 语句，根据条件更新 left 和 right\n",
    "        '''\n",
    "        # step 1\n",
    "        left = 0\n",
    "        right = len(nums) - 1\n",
    "        \n",
    "        # step 2\n",
    "        while (left <= right):\n",
    "            \n",
    "            # step 3\n",
    "            middle = left + (right - left )//2\n",
    "            \n",
    "            # step 4\n",
    "            if nums[middle] < target:    # [left, middle, target_idx, right]  --> [middle+1, right]\n",
    "                left = middle + 1\n",
    "            elif nums[middle] > target:  # [left, target_idx, middle, right] --> [left, middle-1]\n",
    "                right = middle-1\n",
    "            else:\n",
    "                return middle\n",
    "        \n",
    "        ## 自己想的，简单的筛选出能满足排序的index\n",
    "        # if nums[middle]>target:\n",
    "        #     return middle\n",
    "        # else: \n",
    "        #     return middle +1\n",
    "        \n",
    "        \n",
    "        \n",
    "        ## 代码随想录给的答案：\n",
    "        return right +1     # target 在数组左侧时，最后更新的区间为[0,-1]，此时返回 right+1；\n",
    "                            # target 在数组中间且找不到匹配元素时，由于while退出的条件是 left > right，所以最后一次更新的是right，right是最靠近target 的元素了，因此返回right+1；\n",
    "                            # 如果 target 在数组右侧时，由于区间是左闭右闭,最后更新的区间是[left,right]，此时返回的是 right+1\n",
    "\n"
   ]
  },
  {
   "cell_type": "code",
   "execution_count": 37,
   "metadata": {},
   "outputs": [
    {
     "data": {
      "text/plain": [
       "4"
      ]
     },
     "execution_count": 37,
     "metadata": {},
     "output_type": "execute_result"
    }
   ],
   "source": [
    "testtt = Solution()\n",
    "# test\n",
    "nums = [1,3,5,6] \n",
    "target = 7\n",
    "testtt.searchInsert(nums, target)"
   ]
  },
  {
   "cell_type": "code",
   "execution_count": 38,
   "metadata": {},
   "outputs": [
    {
     "data": {
      "text/plain": [
       "2"
      ]
     },
     "execution_count": 38,
     "metadata": {},
     "output_type": "execute_result"
    }
   ],
   "source": [
    "testtt = Solution()\n",
    "nums = [1,3,5,6]; target = 4\n",
    "testtt.searchInsert(nums, target)"
   ]
  },
  {
   "cell_type": "code",
   "execution_count": 39,
   "metadata": {},
   "outputs": [
    {
     "data": {
      "text/plain": [
       "4"
      ]
     },
     "execution_count": 39,
     "metadata": {},
     "output_type": "execute_result"
    }
   ],
   "source": [
    "testtt = Solution()\n",
    "nums = [1,3,5,6]; target = 7\n",
    "testtt.searchInsert(nums, target)"
   ]
  },
  {
   "cell_type": "code",
   "execution_count": 40,
   "metadata": {},
   "outputs": [],
   "source": [
    "# 使用二分法: 左闭右开\n",
    "\n",
    "class Solution:\n",
    "    def searchInsert(self, nums, target) -> int:\n",
    "        '''\n",
    "        题目已经满足使用二分法的基本条件：\n",
    "            1、有序数组\n",
    "            2、无重复元素\n",
    "        \n",
    "        代码写法：\n",
    "        此时需要先确定合法区间的构成，是「左闭右闭」，还是「左闭右开」？\n",
    "            1、定义左右区间：根据区间来定义 left 和 right\n",
    "            2、写while判断条件 （利用确定好的合法区间关系）\n",
    "            3、写 middle 的更新: 防止溢出的写法是 left + (right - left) // 2; 也可以写成 (left + right) // 2\n",
    "            4、写 if 语句，根据条件更新 left 和 right\n",
    "        '''\n",
    "        # step 1\n",
    "        left = 0\n",
    "        right = len(nums)        # 左闭右开, 所以要给到最后一个元素的下一个位置\n",
    "        \n",
    "        # step 2\n",
    "        while (left < right):    # 左闭右开\n",
    "            \n",
    "            # step 3\n",
    "            middle = left + (right - left )//2\n",
    "            \n",
    "            # step 4\n",
    "            if nums[middle] < target:    # [left, middle, target_idx, right)  --> [middle+1, right)\n",
    "                left = middle + 1\n",
    "            elif nums[middle] > target:  # [left, target_idx, middle, right) --> [left, middle)  ，小心 right 的更新\n",
    "                right = middle\n",
    "            else:\n",
    "                return middle\n",
    "        \n",
    "        ## 自己想的，简单的筛选出能满足排序的index\n",
    "        # if nums[middle]>target:\n",
    "        #     return middle\n",
    "        # else: \n",
    "        #     return middle +1\n",
    "        \n",
    "        \n",
    "        \n",
    "        ## 代码随想录给的答案：\n",
    "        return right      # target 在数组左侧时，最后更新的区间为[0,0)，此时返回 right；\n",
    "                            # target 在数组中间且找不到匹配元素时，由于while退出的条件是 left >= right，所以最后一次更新的是right，right是最靠近 target 的元素了，并且是左闭右开，因此返回right；\n",
    "                            # 如果 target 在数组右侧时，由于区间是左闭右开,最后更新的区间是[left,right)，此时返回的是 right\n",
    "\n"
   ]
  },
  {
   "cell_type": "code",
   "execution_count": 44,
   "metadata": {},
   "outputs": [
    {
     "data": {
      "text/plain": [
       "2"
      ]
     },
     "execution_count": 44,
     "metadata": {},
     "output_type": "execute_result"
    }
   ],
   "source": [
    "testtt = Solution()\n",
    "# test\n",
    "nums = [1,3,5,6] \n",
    "target = 5\n",
    "testtt.searchInsert(nums, target)"
   ]
  },
  {
   "cell_type": "code",
   "execution_count": 42,
   "metadata": {},
   "outputs": [
    {
     "data": {
      "text/plain": [
       "2"
      ]
     },
     "execution_count": 42,
     "metadata": {},
     "output_type": "execute_result"
    }
   ],
   "source": [
    "testtt = Solution()\n",
    "nums = [1,3,5,6]; target = 4\n",
    "testtt.searchInsert(nums, target)"
   ]
  },
  {
   "cell_type": "code",
   "execution_count": 43,
   "metadata": {},
   "outputs": [
    {
     "data": {
      "text/plain": [
       "4"
      ]
     },
     "execution_count": 43,
     "metadata": {},
     "output_type": "execute_result"
    }
   ],
   "source": [
    "testtt = Solution()\n",
    "nums = [1,3,5,6]; target = 7\n",
    "testtt.searchInsert(nums, target)"
   ]
  }
 ],
 "metadata": {
  "kernelspec": {
   "display_name": "Python 3.9.12 ('base')",
   "language": "python",
   "name": "python3"
  },
  "language_info": {
   "codemirror_mode": {
    "name": "ipython",
    "version": 3
   },
   "file_extension": ".py",
   "mimetype": "text/x-python",
   "name": "python",
   "nbconvert_exporter": "python",
   "pygments_lexer": "ipython3",
   "version": "3.9.12"
  },
  "orig_nbformat": 4,
  "vscode": {
   "interpreter": {
    "hash": "901177bed68d7d4fbadb3177e755ced472e86ce1c03620f2ee52eeaae03fd4ab"
   }
  }
 },
 "nbformat": 4,
 "nbformat_minor": 2
}
