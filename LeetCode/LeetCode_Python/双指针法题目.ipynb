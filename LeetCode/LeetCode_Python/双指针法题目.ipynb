{
 "cells": [
  {
   "cell_type": "markdown",
   "metadata": {},
   "source": [
    "# 双指针法\n",
    "\n",
    "* 可以降低时间复杂度的数量级, 典型题为:\n",
    "    * [27 移除元素](https://leetcode.cn/problems/remove-element/)\n",
    "    * [15 三数之和](https://leetcode.cn/problems/3sum)\n",
    "    * [18 四数之和](https://leetcode.cn/problems/4sum/)"
   ]
  },
  {
   "cell_type": "markdown",
   "metadata": {},
   "source": [
    "# 双指针法 求解 链表相关的题目\n",
    "* [206 反转链表](https://leetcode.cn/problems/reverse-linked-list)\n",
    "* [19 删除链表的倒数第N个数](https://leetcode.cn/problems/remove-nth-node-from-end-of-list)\n",
    "* [面试题02.07. 链表相交](https://leetcode.cn/problems/intersection-of-two-linked-lists-lcci/)\n",
    "* [142 环形链表](https://leetcode.cn/problems/linked-list-cycle-ii)"
   ]
  }
 ],
 "metadata": {
  "kernelspec": {
   "display_name": "Python 3.9.12 ('base')",
   "language": "python",
   "name": "python3"
  },
  "language_info": {
   "name": "python",
   "version": "3.9.12"
  },
  "orig_nbformat": 4,
  "vscode": {
   "interpreter": {
    "hash": "901177bed68d7d4fbadb3177e755ced472e86ce1c03620f2ee52eeaae03fd4ab"
   }
  }
 },
 "nbformat": 4,
 "nbformat_minor": 2
}
