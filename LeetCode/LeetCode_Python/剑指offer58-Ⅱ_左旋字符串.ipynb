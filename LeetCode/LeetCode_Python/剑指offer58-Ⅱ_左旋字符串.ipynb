{
 "cells": [
  {
   "cell_type": "markdown",
   "metadata": {},
   "source": [
    "# 题目 剑指 Offer 58 - II. 左旋转字符串\n",
    "\n",
    "* 字符串的左旋转操作是把字符串前面的若干个字符转移到字符串的尾部。请定义一个函数实现字符串左旋转操作的功能。比如，输入字符串\"abcdefg\"和数字2，该函数将返回左旋转两位得到的结果\"cdefgab\"。\n",
    "\n",
    " \n",
    "\n",
    "* 示例 1：\n",
    "\n",
    "    * 输入: s = \"abcdefg\", k = 2\n",
    "    * 输出: \"cdefgab\"\n",
    "\n",
    "* 示例 2：\n",
    "\n",
    "    * 输入: s = \"lrloseumgh\", k = 6\n",
    "    * 输出: \"umghlrlose\"\n",
    " \n",
    "\n",
    "* 限制：\n",
    "\n",
    "* 1 <= k < s.length <= 10000\n",
    "\n",
    "来源：力扣（LeetCode）\n",
    "链接：https://leetcode.cn/problems/zuo-xuan-zhuan-zi-fu-chuan-lcof\n",
    "著作权归领扣网络所有。商业转载请联系官方授权，非商业转载请注明出处。"
   ]
  },
  {
   "cell_type": "code",
   "execution_count": null,
   "metadata": {},
   "outputs": [],
   "source": []
  },
  {
   "cell_type": "code",
   "execution_count": 1,
   "metadata": {},
   "outputs": [],
   "source": [
    "# python 直接用额外空间操作一下就好了, 因为string是不可变类型\n",
    "class Solution:\n",
    "    def reverseLeftWords(self, s, n) -> str:\n",
    "        return  \"\".join(list(s)[n:] + list(s)[:n])"
   ]
  },
  {
   "cell_type": "code",
   "execution_count": 5,
   "metadata": {},
   "outputs": [
    {
     "data": {
      "text/plain": [
       "'umghlrlose'"
      ]
     },
     "execution_count": 5,
     "metadata": {},
     "output_type": "execute_result"
    }
   ],
   "source": [
    "ans = Solution()\n",
    "\n",
    "s = \"abcdefg\"; k = 2\n",
    "s = \"lrloseumgh\"; k = 6\n",
    "\n",
    "ans.reverseLeftWords(s,k)"
   ]
  },
  {
   "cell_type": "markdown",
   "metadata": {},
   "source": [
    "# 代码随想录 - (C++) 不使用额外空间\n",
    "\n",
    "* 思路:\n",
    "    * 反转区间为前n的子串\n",
    "    * 反转区间为n到末尾的子串\n",
    "    * 反转整个字符串\n",
    "![jupyter](https://code-thinking.cdn.bcebos.com/pics/%E5%89%91%E6%8C%87Offer58-II.%E5%B7%A6%E6%97%8B%E8%BD%AC%E5%AD%97%E7%AC%A6%E4%B8%B2.png)"
   ]
  },
  {
   "cell_type": "code",
   "execution_count": null,
   "metadata": {},
   "outputs": [],
   "source": [
    "# C++ 代码:\n",
    "# 注: reverse 这个函数的时间复杂度是 O(n)\n",
    "class Solution {\n",
    "public:\n",
    "    string reverseLeftWords(string s, int n) {\n",
    "        reverse(s.begin(), s.begin() + n);\n",
    "        reverse(s.begin() + n, s.end());\n",
    "        reverse(s.begin(), s.end());\n",
    "        return s;\n",
    "    }\n",
    "};"
   ]
  },
  {
   "cell_type": "markdown",
   "metadata": {},
   "source": [
    "# 代码随想录 - Python版本"
   ]
  },
  {
   "cell_type": "code",
   "execution_count": null,
   "metadata": {},
   "outputs": [],
   "source": [
    "# 方法一: 直接切片, 字符串可以直接拼接的, 不需要使用额外空间\n",
    "class Solution:\n",
    "    def reverseLeftWords(self, s: str, n: int) -> str:\n",
    "        return s[n:] + s[0:n]"
   ]
  },
  {
   "cell_type": "code",
   "execution_count": null,
   "metadata": {},
   "outputs": [],
   "source": [
    "# 方法二：也可以使用上文描述的方法，有些面试中不允许使用切片，那就使用上文C++提到的方法\n",
    "class Solution:\n",
    "    def reverseLeftWords(self, s: str, n: int) -> str:\n",
    "        s = list(s)\n",
    "        s[0:n] = list(reversed(s[0:n]))\n",
    "        s[n:] = list(reversed(s[n:]))\n",
    "        s.reverse()\n",
    "        \n",
    "        return \"\".join(s)"
   ]
  },
  {
   "cell_type": "code",
   "execution_count": null,
   "metadata": {},
   "outputs": [],
   "source": [
    "# 方法三：如果连reversed也不让使用，那么自己手写一个\n",
    "class Solution:\n",
    "    def reverseLeftWords(self, s: str, n: int) -> str:\n",
    "        def reverse_sub(lst, left, right):\n",
    "            while left < right:\n",
    "                lst[left], lst[right] = lst[right], lst[left]       # reverse\n",
    "                left += 1\n",
    "                right -= 1\n",
    "        \n",
    "        res = list(s)\n",
    "        end = len(res) - 1\n",
    "        reverse_sub(res, 0, n - 1)\n",
    "        reverse_sub(res, n, end)\n",
    "        reverse_sub(res, 0, end)\n",
    "        return ''.join(res)\n",
    "\n",
    "# 同方法二\n",
    "# 时间复杂度：O(n)\n",
    "# 空间复杂度：O(n)，python的string为不可变，需要开辟同样大小的list空间来修改"
   ]
  },
  {
   "cell_type": "code",
   "execution_count": null,
   "metadata": {},
   "outputs": [],
   "source": [
    "#方法四：考虑不能用切片的情况下，利用模+下标实现\n",
    "class Solution:\n",
    "    def reverseLeftWords(self, s: str, n: int) -> str:\n",
    "        new_s = ''\n",
    "        for i in range(len(s)):         # 注意是 len(s)\n",
    "            j = (i+n)%len(s)            # i在最开始时,取完模得到的下标是n, i 走到倒数第n个位置时, 取完模下标是 n-1, i走到最后时, 取模得到0 \n",
    "            new_s = new_s + s[j]            \n",
    "        return new_s"
   ]
  },
  {
   "cell_type": "code",
   "execution_count": null,
   "metadata": {},
   "outputs": [],
   "source": [
    "# 方法五：另类的切片方法\n",
    "class Solution:\n",
    "    def reverseLeftWords(self, s: str, k: int) -> str:\n",
    "        n = len(s)\n",
    "        s = s + s               # 复制一份, 然后切片\n",
    "        return s[k : n+k]\n",
    "\n",
    "# 时间复杂度：O(n)\n",
    "# 空间复杂度：O(n)"
   ]
  }
 ],
 "metadata": {
  "kernelspec": {
   "display_name": "Python 3.9.12 ('base')",
   "language": "python",
   "name": "python3"
  },
  "language_info": {
   "codemirror_mode": {
    "name": "ipython",
    "version": 3
   },
   "file_extension": ".py",
   "mimetype": "text/x-python",
   "name": "python",
   "nbconvert_exporter": "python",
   "pygments_lexer": "ipython3",
   "version": "3.9.12"
  },
  "orig_nbformat": 4,
  "vscode": {
   "interpreter": {
    "hash": "901177bed68d7d4fbadb3177e755ced472e86ce1c03620f2ee52eeaae03fd4ab"
   }
  }
 },
 "nbformat": 4,
 "nbformat_minor": 2
}
