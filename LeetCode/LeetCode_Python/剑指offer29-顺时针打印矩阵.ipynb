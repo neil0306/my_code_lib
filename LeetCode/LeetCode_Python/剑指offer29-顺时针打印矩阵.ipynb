{
 "cells": [
  {
   "cell_type": "markdown",
   "metadata": {},
   "source": [
    "# 题目 - 剑指offer29 顺时针打印矩阵\n",
    "\n",
    "输入一个矩阵，按照从外向里以顺时针的顺序依次打印出每一个数字。\n",
    "\n",
    "![jupyter](https://pic.leetcode-cn.com/c6de3a1bc0f38820941dbcff0e17a49204eba91b967d4ccc0d5485e68a4fcc95-Picture1.png)\n",
    "\n",
    "* 示例 1：\n",
    "\n",
    "    * 输入：matrix = [[1,2,3],[4,5,6],[7,8,9]]\n",
    "    * 输出：[1,2,3,6,9,8,7,4,5]\n",
    "\n",
    "* 示例 2：\n",
    "\n",
    "    * 输入：matrix = [[1,2,3,4],[5,6,7,8],[9,10,11,12]]\n",
    "    * 输出：[1,2,3,4,8,12,11,10,9,5,6,7]\n",
    " \n",
    "\n",
    "* 限制：\n",
    "\n",
    "    * 0 <= matrix.length <= 100\n",
    "    * 0 <= matrix[i].length <= 100\n",
    "\n",
    "来源：力扣（LeetCode）\n",
    "链接：https://leetcode.cn/problems/shun-shi-zhen-da-yin-ju-zhen-lcof\n",
    "著作权归领扣网络所有。商业转载请联系官方授权，非商业转载请注明出处。"
   ]
  },
  {
   "cell_type": "markdown",
   "metadata": {},
   "source": [
    "# 分析\n",
    "    * 题目和59题的遍历过程一样，59题是生成矩阵，这里是给定矩阵要求遍历，\n",
    "    * 注意 matrix length 有 0 \n",
    "\n",
    "# 思路：\n",
    "    * 遵循循环不变量原则\n",
    "\n",
    "        * 遍历时，区间遵守「左闭右开」或「左开右闭」~~\n",
    "\n",
    "~~* 一共旋转 min(行数,列数)//2 次~~\n",
    "\n",
    "    * 首先判断是否为空矩阵，如果是空矩阵直接返回 []\n",
    "    * 定义四个边界条件(因为矩阵可能不是方形的): t,r,l,b  分别表示 top right left bottom\n",
    "        * 边界更新条件：\n",
    "            * 根据「是否打印完毕」来跳出循环，可以解决「需要转几圈」、「矩阵中间位置怎么获取」的问题\n",
    "| 打印方向 | 1. 根据边界打印   | 2. 边界向内收缩 | 3. 是否打印完毕 |\n",
    "|------|-------------|-----------|-----------|\n",
    "| 从左向右 | 左边界l ，右边界 r | 上边界 t 加 1 | 是否 t > b  |\n",
    "| 从上向下 | 上边界 t ，下边界b | 右边界 r 减 1 | 是否 l > r  |\n",
    "| 从右向左 | 右边界 r ，左边界l | 下边界 b 减 1 | 是否 t > b  |\n",
    "| 从下向上 | 下边界 b ，上边界t | 左边界 l 加 1 | 是否 l > r  |\n",
    "\n",
    "\n"
   ]
  },
  {
   "cell_type": "code",
   "execution_count": null,
   "metadata": {},
   "outputs": [],
   "source": [
    "class Solution:\n",
    "    def spiralOrder(self, matrix):\n",
    "        if len(matrix) == 0:    # 空矩阵\n",
    "            return []\n",
    "    \n",
    "        row = len(matrix)\n",
    "        col = len(matrix[0])\n",
    "    \n",
    "        # 开始遍历矩阵\n",
    "        start_x = 0\n",
    "        start_y = 0\n",
    "        offset = 1\n",
    "        res = []\n",
    "        x,y = 0,0\n",
    "        \n",
    "        for _ in range(min(row,col)//2):    # 一共绕 min(row, col)//2 圈\n",
    "            # 顶部（行）\n",
    "            for y in range(start_y, col-offset, 1):\n",
    "                res.append(matrix[start_x],[y])\n",
    "        \n",
    "            # 右侧（列）\n",
    "            for x in range(start_x, row-offset, 1):\n",
    "                res.append(matrix[x][col-offset])      # 因为是左闭右开，所以需要+1\n",
    "            \n",
    "            # 底部（行）\n",
    "            for y in range(col-offset, start_col, -1):\n",
    "                res.append(matrix[row-offset][y])\n",
    "                \n",
    "            # 左侧（列）\n",
    "            for x in range(row-offset, start_row, -1):\n",
    "                res.append(matrix[x][start_col])\n",
    "        \n",
    "        # 处理 row 或者 col 为奇数情况\n",
    "        if row<col and row%2 != 0:    # 单数行，可能有\n",
    "            \n",
    "            \n",
    "        elif col%2 != 0:\n",
    "            \n",
    "        \n",
    "        ## 未完。。。这个思路不太好写"
   ]
  },
  {
   "cell_type": "code",
   "execution_count": 10,
   "metadata": {},
   "outputs": [],
   "source": [
    "class Solution:\n",
    "    def spiralOrder(self, matrix):\n",
    "        if len(matrix)==0:              # 先判断是否为空矩阵，否则在获取矩阵行列数目的时候会err\n",
    "            return []\n",
    "        \n",
    "        row, col = len(matrix), len(matrix[0])  \n",
    "        t,b,l,r = 0,row-1,0,col-1       # 初始化边界 （注意，这里初始化成了合法的索引边界）\n",
    "        res = []                        # 存放结果\n",
    "        \n",
    "        while True:\n",
    "            # 遍历顺序为： top_row -> right_col -> bottom_row -> left_col\n",
    "            \n",
    "            for i in range(l,r+1):              # 循环不变量：左闭右开，由于初始化时r是合法的索引，要遵循左闭右开（访问到r才结束）的话，要把索引放到 r+1\n",
    "                res.append(matrix[t][i])\n",
    "            t += 1  # 下移\n",
    "            if t>b: break             # 输出结束后才判断一下是否结束\n",
    "            \n",
    "            for i in range(t,b+1):              # 循环不变量：左闭右开\n",
    "                res.append(matrix[i][r])\n",
    "            r -= 1  # 左移\n",
    "            if l>r: break\n",
    "        \n",
    "            for i in range(r,l-1,-1):           # 循环不变量：左闭右开\n",
    "                res.append(matrix[b][i])\n",
    "            b -= 1 # 上移\n",
    "            if b<t: break\n",
    "            \n",
    "            for i in range(b,t-1,-1):           # 循环不变量：左闭右开\n",
    "                res.append(matrix[i][l])\n",
    "            l +=1 \n",
    "            if l>r: break\n",
    "            \n",
    "        return res\n",
    "        "
   ]
  },
  {
   "cell_type": "code",
   "execution_count": 11,
   "metadata": {},
   "outputs": [
    {
     "data": {
      "text/plain": [
       "[1, 2, 3, 4, 8, 12, 11, 10, 9, 5, 6, 7]"
      ]
     },
     "execution_count": 11,
     "metadata": {},
     "output_type": "execute_result"
    }
   ],
   "source": [
    "s = Solution()\n",
    "# matrix=[]\n",
    "matrix = [[1,2,3,4],[5,6,7,8],[9,10,11,12]]\n",
    "\n",
    "s.spiralOrder(matrix)\n"
   ]
  },
  {
   "cell_type": "code",
   "execution_count": 6,
   "metadata": {},
   "outputs": [
    {
     "name": "stdout",
     "output_type": "stream",
     "text": [
      "a: 3\n",
      "3\n",
      "a: 2\n",
      "4\n"
     ]
    }
   ],
   "source": [
    "a = 3\n",
    "for i in range(a,5,1):\n",
    "    print(f'a: {a}')\n",
    "    print(i)\n",
    "    a -= 1\n",
    "\n",
    "# 结论： 在 for 循环里，起始位置在循环体中被修改时，不会影响 range "
   ]
  }
 ],
 "metadata": {
  "kernelspec": {
   "display_name": "Python 3.9.12 ('base')",
   "language": "python",
   "name": "python3"
  },
  "language_info": {
   "codemirror_mode": {
    "name": "ipython",
    "version": 3
   },
   "file_extension": ".py",
   "mimetype": "text/x-python",
   "name": "python",
   "nbconvert_exporter": "python",
   "pygments_lexer": "ipython3",
   "version": "3.9.12"
  },
  "orig_nbformat": 4,
  "vscode": {
   "interpreter": {
    "hash": "901177bed68d7d4fbadb3177e755ced472e86ce1c03620f2ee52eeaae03fd4ab"
   }
  }
 },
 "nbformat": 4,
 "nbformat_minor": 2
}
