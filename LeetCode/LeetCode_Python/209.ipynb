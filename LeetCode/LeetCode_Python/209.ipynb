{
 "cells": [
  {
   "cell_type": "markdown",
   "metadata": {},
   "source": [
    "# 题目 209 —— 长度最小的子数组\n",
    "给定一个含有 n 个正整数的数组和一个正整数 target 。\n",
    "\n",
    "找出该数组中满足其和 ≥ target 的长度最小的 连续子数组 [numsl, numsl+1, ..., numsr-1, numsr] ，并返回其长度。如果不存在符合条件的子数组，返回 0 。\n",
    "\n",
    "* 示例：\n",
    "\n",
    "    * 输入：target = 7, nums = [2,3,1,2,4,3]\n",
    "    * 输出：2\n",
    "    * 解释：子数组 [4,3] 是该条件下的长度最小的子数组。\n",
    "\n",
    "    * 输入：target = 4, nums = [1,4,4]\n",
    "    * 输出：1\n",
    "\n",
    "    * 输入：target = 11, nums = [1,1,1,1,1,1,1,1]\n",
    "    * 输出：0\n",
    "\n",
    "* 提示：\n",
    "\n",
    "    1 <= target <= 109\n",
    "    1 <= nums.length <= 105\n",
    "    1 <= nums[i] <= 105\n",
    "\n",
    "来源：力扣（LeetCode）\n",
    "链接：https://leetcode.cn/problems/minimum-size-subarray-sum\n",
    "著作权归领扣网络所有。商业转载请联系官方授权，非商业转载请注明出处。"
   ]
  },
  {
   "cell_type": "markdown",
   "metadata": {},
   "source": [
    "# 分析：\n",
    "    \n",
    "# 思路：\n",
    "    【暴力解法】： 先遍历一次数组，然后再从数组里挑选长度最小，且求和数值大于等于s的子串\n",
    "\n",
    "    利用滑动窗口（本质上还是双指针法）去求解：\n",
    "    * 【重点】：对数组进行遍历的时候，index到底代表的是[子串的初始位置]还是[子串的终止位置]？\n",
    "        * 【注】\n",
    "            * [起始位置]指的是「当前指针所指位置的右侧有部分元素 已经被访问」\n",
    "                * 直观一点，起始位置指的是子序列的起始索引\n",
    "            * [终止位置]值得是「当前指针所指位置的右侧任意元素 都没有访问过，但是左侧元素全部已经访问完毕」\n",
    "                * 终止位置也指的是序列的末尾索引\n",
    "        * 如果 index 表示初始位置，那么我们要找到符合条件的子串就必须把终止位置从数组最开始遍历到index 的位置，然后筛选出最短的出来，这时，时间复杂度和暴力解法是一模一样的！！！\n",
    "        * 如果 index 表示终止位置，那么我们只需要动态去移动[起始位置]就可以实现一个for循环完成窗口的缩小\n",
    "        \n",
    "        * 【滑动窗口】的精华：固定住终止位置时，如何移动起始位置！\n",
    "            * 滑动窗口方法在这里是【先移动「终止位置」，再移动「起始位置」】\n",
    "\n",
    "\n"
   ]
  },
  {
   "cell_type": "code",
   "execution_count": 20,
   "metadata": {},
   "outputs": [],
   "source": [
    "class Solution:\n",
    "    def minSubArrayLen(self, target, nums):\n",
    "        res = 100000000                    # 因为寻找的是「最短子串」，所以把 result 设置为一个很大的数\n",
    "        idx_star = 0                       # 初始化子串的起始位置\n",
    "        sum_subL = 0                       # 初始化一个子串内求和的值\n",
    "        \n",
    "        for idx_end in range(len(nums)):   # 先移动终止位置\n",
    "            sum_subL += nums[idx_end]      # 每遍历一个元素就用它更新子串的和\n",
    "            \n",
    "            \n",
    "            while (sum_subL >= target):          # 当子串字符之和大于target，就要缩小子串\n",
    "                \n",
    "                # 完成新元素收集之后，先记录当前合法子串的长度，再开始移动「起始位置」，以缩小子串\n",
    "                sub_len = idx_end - idx_star +1   # 记录当前子串长度\n",
    "                res = min(sub_len, res)         # 以此不断更新寻找最短子串的长度\n",
    "                \n",
    "                sum_subL -= nums[idx_star]      # 更新子串内元素之和，此时已经弹出最左侧元素\n",
    "                idx_star += 1                   # 移动起始位置，开始缩小子串长度   —— 注意！一定是先删除元素，再更新index！\n",
    "                \n",
    "                # print(f'origin:{nums} | sub_len: {sub_len}| updated: {nums[idx_star: min(idx_end +1, len(nums))]}')\n",
    "            \n",
    "        if res == 100000000:\n",
    "            return 0                       # res 没进行更新，直接返回0 \n",
    "        else:\n",
    "            return res"
   ]
  },
  {
   "cell_type": "code",
   "execution_count": null,
   "metadata": {},
   "outputs": [],
   "source": [
    "class Solution:\n",
    "    def minSubArrayLen(self, target: int, nums: List[int]) -> int:\n",
    "        start_p = 0 ## 子序列头指针\n",
    "        # sub_len = 0 ## 子序列长度，迭代时可变\n",
    "        res = 1e9     ## 最终子序列的长度\n",
    "        num_sum = 0 ## 子序列元素之和\n",
    "        for i in range(len(nums)):   ## i 是子序列的末尾指针\n",
    "            num_sum += nums[i]       ## 新元素进来就直接加起来\n",
    "\n",
    "            while num_sum >= target:        ## 满足条件，开始迭代更新子序列头指针的位置（尝试缩减子序列长度）\n",
    "                res = min(i - start_p + 1, res)   ## 更新最终子序列长度     —— 与上面的写法不同的地方是把两行代码合二为一了，速度快了一些。\n",
    "                num_sum -= nums[start_p]    ## 缩减1个子序列元素，更新子序列元素之和\n",
    "                start_p += 1                      ## 子序列头指针向前1位\n",
    "            \n",
    "        if res == 1e9:\n",
    "            return 0\n",
    "        else:\n",
    "            return res"
   ]
  },
  {
   "cell_type": "code",
   "execution_count": 21,
   "metadata": {},
   "outputs": [
    {
     "data": {
      "text/plain": [
       "5"
      ]
     },
     "execution_count": 21,
     "metadata": {},
     "output_type": "execute_result"
    }
   ],
   "source": [
    "s = Solution()\n",
    "target = 7; nums = [2,3,1,2,4,3]\n",
    "# target = 4; nums = [1,4,4]\n",
    "# target = 11; nums = [1,1,1,1,1,1,1,1]\n",
    "target = 15; nums=[1,2,3,4,5]\n",
    "s.minSubArrayLen(target,nums)"
   ]
  }
 ],
 "metadata": {
  "kernelspec": {
   "display_name": "Python 3.9.12 ('base')",
   "language": "python",
   "name": "python3"
  },
  "language_info": {
   "codemirror_mode": {
    "name": "ipython",
    "version": 3
   },
   "file_extension": ".py",
   "mimetype": "text/x-python",
   "name": "python",
   "nbconvert_exporter": "python",
   "pygments_lexer": "ipython3",
   "version": "3.9.12"
  },
  "orig_nbformat": 4,
  "vscode": {
   "interpreter": {
    "hash": "901177bed68d7d4fbadb3177e755ced472e86ce1c03620f2ee52eeaae03fd4ab"
   }
  }
 },
 "nbformat": 4,
 "nbformat_minor": 2
}
