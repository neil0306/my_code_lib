{
 "cells": [
  {
   "cell_type": "markdown",
   "metadata": {},
   "source": [
    "# 题目\n",
    "给你一个正整数 num 。如果 num 是一个完全平方数，则返回 true ，否则返回 false 。\n",
    "\n",
    "完全平方数 是一个可以写成某个整数的平方的整数。换句话说，它可以写成某个整数和自身的乘积。\n",
    "\n",
    "不能使用任何内置的库函数，如  sqrt \n",
    "\n",
    "## 示例：\n",
    "输入：num = 16\n",
    "输出：true\n",
    "解释：返回 true ，因为 4 * 4 = 16 且 4 是一个整数。\n",
    "\n",
    "输入：num = 14\n",
    "输出：false\n",
    "解释：返回 false ，因为 3.742 * 3.742 = 14 但 3.742 不是一个整数。\n",
    "\n",
    "* 提示：\n",
    "    * 1 <= num <= 2^31 - 1\n",
    "\n",
    "来源：力扣（LeetCode）\n",
    "链接：https://leetcode.cn/problems/valid-perfect-square\n",
    "著作权归领扣网络所有。商业转载请联系官方授权，非商业转载请注明出处。"
   ]
  },
  {
   "cell_type": "markdown",
   "metadata": {},
   "source": [
    "# 题目分析：\n",
    "    这道题和 69 题很相似，都是与[整数的平方]相关，可以使用二分法去寻找答案\n",
    "\n",
    "# 思路（二分法）：\n",
    "    * 寻找左边界点k，进行如下区间定义，要求k满足：\n",
    "        * k的左侧区间 [0,k^2]：k^2 <= target, 则 left = mid\n",
    "        * k的右侧区间 [k, x]： k^2 > target, 则 right = mid -1\n",
    "    * 如果 k^2 == target， 返回 true， 否则跑完二分之后返回 false"
   ]
  },
  {
   "cell_type": "code",
   "execution_count": 9,
   "metadata": {},
   "outputs": [],
   "source": [
    "class Solution:\n",
    "    def isPerfectSquare(self, num):\n",
    "        left = 0\n",
    "        right = num\n",
    "        \n",
    "        # 写法1： 左闭右开\n",
    "        # while (left < right):\n",
    "        #     mid = left + (right - left) //2  +1    # +1 防止死循环\n",
    "            \n",
    "        #     if mid < num/mid:          # 平方很容易发生溢出，用除法去验证\n",
    "        #         left = mid \n",
    "        #     elif mid == num/mid:\n",
    "        #         return True\n",
    "        #     else:\n",
    "        #         right = mid -1\n",
    "        # return False\n",
    "        \n",
    "        \n",
    "        # 写法2： 左闭右闭\n",
    "        while (left <= right):\n",
    "            mid = left + (right - left) //2  +1    # +1 防止死循环\n",
    "            if mid < num/mid:\n",
    "                left = mid\n",
    "            elif mid == num/mid:\n",
    "                return True\n",
    "            else:\n",
    "                right = mid -2\n",
    "        return False"
   ]
  },
  {
   "cell_type": "code",
   "execution_count": 12,
   "metadata": {},
   "outputs": [
    {
     "data": {
      "text/plain": [
       "True"
      ]
     },
     "execution_count": 12,
     "metadata": {},
     "output_type": "execute_result"
    }
   ],
   "source": [
    "s = Solution()\n",
    "\n",
    "num = 100\n",
    "s.isPerfectSquare(num)"
   ]
  }
 ],
 "metadata": {
  "kernelspec": {
   "display_name": "Python 3.9.12 ('base')",
   "language": "python",
   "name": "python3"
  },
  "language_info": {
   "codemirror_mode": {
    "name": "ipython",
    "version": 3
   },
   "file_extension": ".py",
   "mimetype": "text/x-python",
   "name": "python",
   "nbconvert_exporter": "python",
   "pygments_lexer": "ipython3",
   "version": "3.9.12"
  },
  "orig_nbformat": 4,
  "vscode": {
   "interpreter": {
    "hash": "901177bed68d7d4fbadb3177e755ced472e86ce1c03620f2ee52eeaae03fd4ab"
   }
  }
 },
 "nbformat": 4,
 "nbformat_minor": 2
}
