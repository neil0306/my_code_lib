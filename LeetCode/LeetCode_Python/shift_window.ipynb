{
 "cells": [
  {
   "cell_type": "markdown",
   "metadata": {},
   "source": [
    "# 滑动窗口 （本质上属于双指针）\n",
    "    * 要点：\n",
    "        * 窗口里是什么？要满足什么条件？\n",
    "        * 怎么移动 star_point ?\n",
    "        * 怎么移动 end_point ?\n",
    "    * 代码要点：\n",
    "        * 最外层遍历的是 end_point\n",
    "        * 常见的是利用 for + while （内含 if 移动star_point） 结构\n",
    "\n",
    "\n",
    "\n",
    "# 相关题目：\n",
    "    * 209 (要求窗口内元素连续，寻找最小窗口)\n",
    "    * 904 (要求窗口内元素连续，寻找最大窗口)\n",
    "    * 76  (不要求窗口内元素连续，寻找最小窗口)"
   ]
  }
 ],
 "metadata": {
  "language_info": {
   "name": "python"
  },
  "orig_nbformat": 4
 },
 "nbformat": 4,
 "nbformat_minor": 2
}
