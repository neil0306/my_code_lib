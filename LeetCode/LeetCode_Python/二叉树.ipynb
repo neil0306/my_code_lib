{
 "cells": [
  {
   "cell_type": "markdown",
   "metadata": {},
   "source": [
    "# 二叉树理论基础\n"
   ]
  },
  {
   "cell_type": "markdown",
   "metadata": {},
   "source": [
    "\n",
    "## 种类\n",
    "* 满二叉树\n",
    "    * 节点数量为 $2^k -1$ \n",
    "\n",
    "![jupyter](https://code-thinking-1253855093.file.myqcloud.com/pics/20200806185805576.png)\n",
    "\n",
    "\n"
   ]
  },
  {
   "cell_type": "markdown",
   "metadata": {},
   "source": [
    "* 完全二叉树\n",
    "    * 除了底部之外, 上层全都一定是满节点; 最底层虽然可能不是满节点, 但是底层的节点从左到右是连续出现的, 中间没有出现空着的位置\n",
    "    * 满二叉树一定是完全二叉树\n",
    "\n",
    "![jupyter](https://code-thinking-1253855093.file.myqcloud.com/pics/20200920221638903.png)"
   ]
  },
  {
   "cell_type": "markdown",
   "metadata": {},
   "source": [
    "* 二叉搜索树 [有序] -- O(logn)\n",
    "    * 对节点的布局样式没有要求\n",
    "    * 对节点的顺序排布有要求, 假设树的最上方节点叫做'中间节点', 那么此时二叉搜索树需要满足 \"中间节点左侧的所有节点都比中间结点小, 而右侧所有节点都比中间节点大\"\n",
    "    * 搜索节点的时间复杂度是 O(logn)\n",
    "\n",
    "![jupyter](https://code-thinking-1253855093.file.myqcloud.com/pics/20200806190304693.png)\n",
    "\n"
   ]
  },
  {
   "cell_type": "markdown",
   "metadata": {},
   "source": [
    "* 平衡二叉搜索树 [有序] -- O(logn)\n",
    "    * 左子树和右子树的高度差不能超过1\n",
    "    * 搜索节点 和 插入节点 的时间复杂度是 O(logn) \n",
    "\n",
    "![jupyter](https://code-thinking-1253855093.file.myqcloud.com/pics/20200806190511967.png)\n"
   ]
  },
  {
   "cell_type": "markdown",
   "metadata": {},
   "source": [
    "# 二叉树的存储方式"
   ]
  },
  {
   "cell_type": "markdown",
   "metadata": {},
   "source": [
    "## 链性存储 -- 用指针\n",
    "\n",
    "![jupyter](https://code-thinking-1253855093.file.myqcloud.com/pics/2020092019554618.png)"
   ]
  },
  {
   "cell_type": "markdown",
   "metadata": {},
   "source": []
  },
  {
   "cell_type": "markdown",
   "metadata": {},
   "source": [
    "## (做题不常用) 顺序存储 -- 用数组 \n",
    "![jupyter](https://code-thinking-1253855093.file.myqcloud.com/pics/20200920200429452.png)"
   ]
  },
  {
   "cell_type": "markdown",
   "metadata": {},
   "source": [
    "* 对于顺序储存方式, 如果我们想找节点下标 i 的左右孩子, 使用的公式是:\n",
    "    * 左孩子: 2*i + 1\n",
    "    * 右孩子: 2*i + 2\n"
   ]
  },
  {
   "cell_type": "markdown",
   "metadata": {},
   "source": []
  },
  {
   "cell_type": "markdown",
   "metadata": {},
   "source": [
    "# 二叉树的遍历 -- 深度优先(DFS) 和 广度优先(BFS)"
   ]
  },
  {
   "cell_type": "markdown",
   "metadata": {},
   "source": [
    "## 深度优先搜索 depth-first search (一般都用递归实现)\n",
    "* 定义: 保持当前搜索方向不变, 一直搜索到最深的位置, 然后回退, 此时才换方向, 因此叫做深度优先\n",
    "    * 前序遍历, 中序遍历, 后序遍历 都属于深度优先\n",
    "        * 一般使用递归去实现, 而递归底层其实是用栈去实现的, 所以用栈实现也没毛病 (**后进先出**)\n",
    "        * 递归也可以转成用迭代, 就是可能会很麻烦\n",
    "\n",
    "**区分前中后序的方法是: 看 中间(顶部) 节点是什么时候遍历**\n",
    "\n",
    "### 前序遍历方式\n",
    "* 实现的顺序是: 中(顶部) -> 左(子树)   -> 右(子树)\n",
    "\n",
    "### 中序遍历方式\n",
    "* 实现顺序是:   左(子树) -> 中(顶部)   -> 右(子树)\n",
    "\n",
    "### 后序遍历方式\n",
    "* 实现顺序是:   左(子树) -> 右(子树) -> 中(顶部)\n",
    "\n",
    "![jupyter](https://code-thinking-1253855093.file.myqcloud.com/pics/20200806191109896.png)"
   ]
  },
  {
   "cell_type": "markdown",
   "metadata": {},
   "source": [
    "## 广度优先搜索 breadth-first search\n",
    "* 定义: 一层层/一圈圈 去遍历\n",
    "    * 层序遍历就是广度优先搜索的一种\n",
    "        * 用队列来实现 (**先进先出**)"
   ]
  },
  {
   "cell_type": "markdown",
   "metadata": {},
   "source": []
  },
  {
   "cell_type": "markdown",
   "metadata": {},
   "source": []
  },
  {
   "cell_type": "code",
   "execution_count": null,
   "metadata": {},
   "outputs": [],
   "source": []
  }
 ],
 "metadata": {
  "kernelspec": {
   "display_name": "Python 3.9.12 ('base')",
   "language": "python",
   "name": "python3"
  },
  "language_info": {
   "codemirror_mode": {
    "name": "ipython",
    "version": 3
   },
   "file_extension": ".py",
   "mimetype": "text/x-python",
   "name": "python",
   "nbconvert_exporter": "python",
   "pygments_lexer": "ipython3",
   "version": "3.9.12"
  },
  "orig_nbformat": 4,
  "vscode": {
   "interpreter": {
    "hash": "901177bed68d7d4fbadb3177e755ced472e86ce1c03620f2ee52eeaae03fd4ab"
   }
  }
 },
 "nbformat": 4,
 "nbformat_minor": 2
}
