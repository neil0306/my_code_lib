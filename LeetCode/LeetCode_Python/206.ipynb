{
 "cells": [
  {
   "cell_type": "markdown",
   "metadata": {},
   "source": [
    "# 题目： 206. 反转链表\n",
    "\n",
    "给你单链表的头节点 head ，请你反转链表，并返回反转后的链表。\n",
    "\n",
    "* 示例1\n",
    "    * 输入：head = [1,2,3,4,5]\n",
    "    * 输出：[5,4,3,2,1]\n",
    "\n",
    "![jupyter](https://assets.leetcode.com/uploads/2021/02/19/rev1ex1.jpg)\n",
    "\n",
    "\n",
    "\n",
    "* 示例2：\n",
    "    * 输入：head = [1,2]\n",
    "    * 输出：[2,1]\n",
    "    \n",
    "![jupyter](https://assets.leetcode.com/uploads/2021/02/19/rev1ex2.jpg)\n",
    "\n",
    "* 示例 3：\n",
    "\n",
    "    * 输入：head = []\n",
    "    * 输出：[]\n",
    "\n",
    "\n",
    "提示：\n",
    "\n",
    "链表中节点的数目范围是 [0, 5000]\n",
    "-5000 <= Node.val <= 5000\n",
    " \n",
    "\n",
    "进阶：链表可以选用迭代或递归方式完成反转。你能否用两种方法解决这道题？\n",
    "\n",
    "来源：力扣（LeetCode）\n",
    "链接：https://leetcode.cn/problems/reverse-linked-list\n",
    "著作权归领扣网络所有。商业转载请联系官方授权，非商业转载请注明出处。"
   ]
  },
  {
   "cell_type": "markdown",
   "metadata": {},
   "source": [
    "# 分析：\n",
    "    题目的逻辑很简单，就是把一个链表的指针方向反过来。但是，这个题目的难点在于，如何在不破坏链表的情况下，把链表的指针方向反过来。\n",
    "\n",
    "![jupyter](https://code-thinking.cdn.bcebos.com/gifs/206.%E7%BF%BB%E8%BD%AC%E9%93%BE%E8%A1%A8.gif)\n",
    "\n",
    "# 思路：\n",
    "* 双「指针法」 —— 使用单链表的结构：\n",
    "    \n",
    "    * 由于要把链表指针反向，我们需要知道前一个节点才能获取到「指向当前节点的指针」，因此，我们需要一个 pre_node，这个 pre_node 也可以理解为双指针法的第一个指针\n",
    "    \n",
    "    * 当前遍历的时候需要一个指针： current_node ，双指针法的第二个指针\n",
    "        * 初始化时，pre_node 要指向 None，因为处理结束时，pre_node 的初始化位置就是链表的尾节点\n",
    "        * 初始化时，current_node 放在 head 节点位置，因为我们是从 head 开始遍历的\n",
    "    \n",
    "    * 遍历的终止条件：\n",
    "        * current_node 本身处于 None 时，表示我们已经遍历到尾节点的【下一个位置】，此时 pre_node 才位于链表尾节点，不需要再继续处理了\n",
    "    \n",
    "    * 遍历过程中进行的操作 —— 一共4步：\n",
    "        1. 定义一个临时指针 [temp_node = current_node.next]， 即把它放在 current_node 的下一个节点位置，效果是把 current_node 存放的next指针保存起来，防止丢失，从而无法把current_node 往下移\n",
    "        2. 改变 current_node 的 next 指针，效果是改变链表指针方向： [current_node.next = pre_node]\n",
    "        3. 更新 pre_node 为 current_node, 效果是把 pre_node 移动到下一个位置\n",
    "        4. 更新 current_node 为 temp_node, 效果是把 current_node 往下移\n"
   ]
  },
  {
   "cell_type": "markdown",
   "metadata": {},
   "source": [
    "# 单链表\n",
    "## 双指针法"
   ]
  },
  {
   "cell_type": "code",
   "execution_count": null,
   "metadata": {},
   "outputs": [],
   "source": [
    "# Definition for singly-linked list.\n",
    "# class ListNode:\n",
    "#     def __init__(self, val=0, next=None):\n",
    "#         self.val = val\n",
    "#         self.next = next\n",
    "\n",
    "class Solution:\n",
    "    def reverseList(self, head: Optional[ListNode]) -> Optional[ListNode]:\n",
    "        pre_node = None                     # 初始化，pre_node 的 next 指向 None\n",
    "        current_node = head\n",
    "        \n",
    "        while (current_node is not None):   # 终止条件是 current_node 位于 None 位置（尾节点的下一个节点）\n",
    "            temp_node = current_node.next   # 操作第一步：把 temp_node 放在 current_node 的下一个节点，效果是保存 current_node.next 指针\n",
    "            current_node.next = pre_node    # 操作第二步：把current_node 指针反向，效果是逐步改变链表指针方向\n",
    "            pre_node = current_node         # 操作第三步：改变 pre_node 位置，效果是把 pre_node 往后移动一个节点\n",
    "            current_node = temp_node        # 操作第四步：改变 current_node，效果是 current_node 往后移动一个节点\n",
    "        \n",
    "        return pre_node                     # 遍历结束时，current_node 指向尾节点的下一个位置（即 None），pre_node 位于尾节点\n"
   ]
  },
  {
   "cell_type": "markdown",
   "metadata": {},
   "source": [
    "## 双指针的基础上改用递归写法\n",
    "* 改写思路：\n",
    "    * 定义一个反转链表的递归函数 my_reverse(pre_node, current_node)\n",
    "        * 考虑函数的输入参数：\n",
    "            * pre_node = None, current_node = head\n",
    "                * 需要定义参数 pre_node 和 current_node 的逻辑是 我们在双指针写法中需要初始化 两个指针\n",
    "                * 【初始化赋值是可选操作】这两个参数的默认值 也是根据双指针法的初始化 去赋值的   \n",
    "        * 考虑函数的返回值： \n",
    "            * 写递归函数一定要先写递归停止条件，也就是 basecase：\n",
    "                * 当递归结束时，我们返回的是 pre_node    ——  这是根据双指针的最后一个 return 写的\n",
    "                * 递归结束的条件是 current_node is None —— 这是根据while循环的判断语句写的\n",
    "                * 写成代码：\n",
    "                ``` \n",
    "                if my_reverse( pre_node, current_node) is None:  \n",
    "                    return pre_node \n",
    "                ```\n",
    "        * 考虑递归操作：\n",
    "            * 递归之前时，我们需要把「递推公式」或者「每次循环的操作」写好\n",
    "            * 递归时，修改函数的出入\n",
    "            * 写成代码：\n",
    "            ``` \n",
    "            temp_node = current_node.next\n",
    "            current_node.next = pre_node        # 反转当前链表节点的指针\n",
    "            my_reverse(pre_node=current_node, current_node=temp_node)   # 递归，更新输入参数\n",
    "            ```\n",
    "\n",
    "    * 在 主函数 reverseList 里调用：\n",
    "        * 直接调用 函数，此时函数的输入是 递归的初始值\n",
    "\n"
   ]
  },
  {
   "cell_type": "code",
   "execution_count": null,
   "metadata": {},
   "outputs": [],
   "source": [
    "# Definition for singly-linked list.\n",
    "# class ListNode:\n",
    "#     def __init__(self, val=0, next=None):\n",
    "#         self.val = val\n",
    "#         self.next = next\n",
    "\n",
    "class Solution:\n",
    "    def reverseList(self, head: Optional[ListNode]) -> Optional[ListNode]:\n",
    "    \n",
    "    # python 的 class 里如果要递归调用某个函数，要么这个函数是定义在 class 外面，要么就在函数里套一层函数定义\n",
    "        def my_reverse(pre_node, current_node):\n",
    "            if current_node is None:                                  # basecase\n",
    "                return pre_node\n",
    "            \n",
    "            temp_node = current_node.next                             # 递推公式\n",
    "            current_node.next = pre_node\n",
    "            \n",
    "            return my_reverse(pre_node = current_node, current_node = temp_node)   # 更新下一次迭代的参数，并执行递归     —— 不要忘记写 return！！\n",
    "    \n",
    "        return my_reverse(pre_node = None, current_node = head)   # 相当于双指针法里初始化两个指针"
   ]
  },
  {
   "cell_type": "markdown",
   "metadata": {},
   "source": [
    "# 【还没看懂，留着以后有时间分析吧】不同于 双指针的递归写法 \n",
    "    * 主要思想是「从后向前反转指针」，前面双指针是 pre_node，这里用的是 last_node"
   ]
  },
  {
   "cell_type": "code",
   "execution_count": null,
   "metadata": {},
   "outputs": [],
   "source": [
    "# python 版本，没带注释\n",
    "\n",
    "# Definition for singly-linked list.\n",
    "# class ListNode:\n",
    "#     def __init__(self, val=0, next=None):\n",
    "#         self.val = val\n",
    "#         self.next = next\n",
    "class Solution:\n",
    "    def reverseList(self, head: Optional[ListNode]) -> Optional[ListNode]:\n",
    "        if not head or not head.next: return head\n",
    "        p = self.reverseList(head.next)\n",
    "        head.next.next = head\n",
    "        head.next = None\n",
    "        return p"
   ]
  },
  {
   "cell_type": "code",
   "execution_count": null,
   "metadata": {},
   "outputs": [],
   "source": [
    "# C++ 版本，带注释\n",
    "class Solution {\n",
    "public:\n",
    "    ListNode* reverseList(ListNode* head) {\n",
    "        // 边缘条件判断\n",
    "        if(head == NULL) return NULL;\n",
    "        if (head->next == NULL) return head;\n",
    "        \n",
    "        // 递归调用，翻转第二个节点开始往后的链表\n",
    "        ListNode *last = reverseList(head->next);\n",
    "        // 翻转头节点与第二个节点的指向\n",
    "        head->next->next = head;\n",
    "        // 此时的 head 节点为尾节点，next 需要指向 NULL\n",
    "        head->next = NULL;\n",
    "        return last;\n",
    "    }\n",
    "}; "
   ]
  }
 ],
 "metadata": {
  "kernelspec": {
   "display_name": "Python 3.9.12 ('base')",
   "language": "python",
   "name": "python3"
  },
  "language_info": {
   "name": "python",
   "version": "3.9.12"
  },
  "orig_nbformat": 4,
  "vscode": {
   "interpreter": {
    "hash": "901177bed68d7d4fbadb3177e755ced472e86ce1c03620f2ee52eeaae03fd4ab"
   }
  }
 },
 "nbformat": 4,
 "nbformat_minor": 2
}
