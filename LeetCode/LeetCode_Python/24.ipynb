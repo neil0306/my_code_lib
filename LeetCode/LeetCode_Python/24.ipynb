{
 "cells": [
  {
   "cell_type": "markdown",
   "metadata": {},
   "source": [
    "# 题目 24 两两交换链表中的节点\n",
    "    给你一个链表，两两交换其中相邻的节点，并返回交换后链表的头节点。你必须在不修改节点内部的值的情况下完成本题（即，只能进行节点交换）。\n",
    "\n",
    "* 示例1：\n",
    "    * 输入：head = [1,2,3,4]\n",
    "    * 输出：[2,1,4,3]\n",
    "    \n",
    "![jupyter](https://assets.leetcode.com/uploads/2020/10/03/swap_ex1.jpg)\n",
    "\n",
    "* 示例 2：\n",
    "\n",
    "    * 输入：head = []\n",
    "    * 输出：[]\n",
    "\n",
    "* 示例 3：\n",
    "\n",
    "    * 输入：head = [1]\n",
    "    * 输出：[1]\n",
    " \n",
    "\n",
    "* 提示：\n",
    "\n",
    "链表中节点的数目在范围 [0, 100] 内\n",
    "0 <= Node.val <= 100\n",
    "\n",
    "来源：力扣（LeetCode）\n",
    "链接：https://leetcode.cn/problems/swap-nodes-in-pairs\n",
    "著作权归领扣网络所有。商业转载请联系官方授权，非商业转载请注明出处。\n",
    "\n"
   ]
  },
  {
   "cell_type": "markdown",
   "metadata": {},
   "source": [
    "# 分析\n",
    "    主要需要注意的是操作逻辑，什么时候停止遍历，除此之外，还需要注意节点是否需要额外先保存一下，防止丢失节点\n",
    "\n",
    "# 思路：\n",
    "* 操作逻辑如下图：\n",
    "    * 需要定义一个虚拟头结点 dummy_head, 它位于 index=-1 的位置，dummy_head.next 指向 head\n",
    "    * 开始执行遍历时，定义一个 current_node 节点，用来表示当前位置\n",
    "        * 为了保证能对两个节点进行操作，current_node 必须处于 被操作的两个节点之前，也就是 current_node 指向 被操作的第一个节点\n",
    "    * 停止遍历的条件：\n",
    "        * 当链表长度为奇数时，current_node.next.next 为 None.\n",
    "        * 当链表长度为偶数时，current_node.next 为 None.\n",
    "        * 在写代码时，为了防止出现【对空指针取next】导致发生异常，我们必须先判断 current_node.next 是否为 None，再判断 current_node.next.next 是否为 None.\n",
    "    * 交换节点时，需要注意保存【指向被操作的两个节点的指针】：\n",
    "        * 下图中，current_node 后面的两个节点是被操作的节点，注意保存指向图中 1 和 3 这两个节点的指针，用代码来说就是把这两个节点分别赋值给两个临时变量即可。\n",
    "        \n",
    "![jupyter](https://code-thinking.cdn.bcebos.com/pics/24.%E4%B8%A4%E4%B8%A4%E4%BA%A4%E6%8D%A2%E9%93%BE%E8%A1%A8%E4%B8%AD%E7%9A%84%E8%8A%82%E7%82%B92.png)`\n",
    " "
   ]
  },
  {
   "cell_type": "markdown",
   "metadata": {},
   "source": [
    "# 单链表实现"
   ]
  },
  {
   "cell_type": "code",
   "execution_count": null,
   "metadata": {},
   "outputs": [],
   "source": [
    "# Definition for singly-linked list.\n",
    "class ListNode:\n",
    "    def __init__(self, val=0, next=None):\n",
    "        self.val = val\n",
    "        self.next = next\n",
    "\n",
    "class Solution:\n",
    "    def swapPairs(self, head: Optional[ListNode]) -> Optional[ListNode]:\n",
    "        \n",
    "        # 定义虚拟头结点，并放在 head 节点之前 （index = -1 位置）\n",
    "        dummy_head = ListNode()\n",
    "        dummy_head.next = head\n",
    "        \n",
    "        # 初始化 current_node 节点，把它放在被操作的两个节点之前，故此处应放在 dummy_head 位置\n",
    "        current_node = dummy_head\n",
    "        \n",
    "        # 初始化两个临时节点，用来保存 指向 被交换的两个节点的指针\n",
    "        temp_node_1 = ListNode()\n",
    "        temp_node_3 = ListNode()\n",
    "        \n",
    "        while (current_node.next != None and current_node.next.next != None):   # 第一个条件对应 链表长度为偶数， 第二个条件对应 链表长度为奇数， 必须先判断 current_node.next 再判断 current_node.next.next，\n",
    "                                                                                # 否则可能出现空指针操作异常\n",
    "            # 保存 指向 被交换的两个节点的指针 (通过直接把节点放到指定位置的形式, 注意，赋值操作就是把 value 的地址赋给变量)\n",
    "            temp_node_1 = current_node.next\n",
    "            temp_node_3 = current_node.next.next.next           # 这里变量命 temp_3 是为了容易理解，3表示 current_node 往后数的第三个节点\n",
    "            \n",
    "            # 步骤一: 移动 next指针 到[第二个被操作的节点]\n",
    "            current_node.next = current_node.next.next          # 把 current_node 的next指针 更新 到 current_node 后面的第二个节点， 此时的 current_node.next 就是图中的节点2\n",
    "            \n",
    "            # 步骤二：移动 第二个被操作节点的next指针到 [第一个被操作的节点]\n",
    "            current_node.next.next = temp_node_1                \n",
    "            \n",
    "            # 步骤三：把 第一个被操作节点 的 next指针 更新到 第三个节点\n",
    "            temp_node_1.next = temp_node_3                      # 完成这一步后，节点1 和 节点2 已经交换完成了, 此时 current_node.next 指向原来的节点2，current_node.next.next 指向原来的节点1\n",
    "            \n",
    "            \n",
    "            # 步骤四：移动/赋值 currrent_node 到/为 [原来的节点1位置] （不是移动指针，是移动节点）\n",
    "            current_node = current_node.next.next\n",
    "        \n",
    "        return dummy_head.next\n"
   ]
  }
 ],
 "metadata": {
  "language_info": {
   "name": "python"
  },
  "orig_nbformat": 4
 },
 "nbformat": 4,
 "nbformat_minor": 2
}
