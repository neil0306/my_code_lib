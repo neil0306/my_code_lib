{
 "cells": [
  {
   "cell_type": "markdown",
   "metadata": {},
   "source": [
    "# 题目 344 \n",
    "* 编写一个函数，其作用是将输入的字符串反转过来。输入字符串以字符数组 s 的形式给出。\n",
    "\n",
    "* 不要给另外的数组分配额外的空间，你必须原地修改输入数组、使用 O(1) 的额外空间解决这一问题。\n",
    "\n",
    " \n",
    "\n",
    "* 示例 1：\n",
    "\n",
    "    * 输入：s = [\"h\",\"e\",\"l\",\"l\",\"o\"]\n",
    "    * 输出：[\"o\",\"l\",\"l\",\"e\",\"h\"]\n",
    "\n",
    "* 示例 2：\n",
    "\n",
    "    * 输入：s = [\"H\",\"a\",\"n\",\"n\",\"a\",\"h\"]\n",
    "    * 输出：[\"h\",\"a\",\"n\",\"n\",\"a\",\"H\"]\n",
    " \n",
    "\n",
    "* 提示：\n",
    "\n",
    "    * 1 <= s.length <= $10^5$\n",
    "    * s[i] 都是 ASCII 码表中的可打印字符\n",
    "\n",
    "来源：力扣（LeetCode）\n",
    "链接：https://leetcode.cn/problems/reverse-string\n",
    "著作权归领扣网络所有。商业转载请联系官方授权，非商业转载请注明出处。"
   ]
  },
  {
   "cell_type": "code",
   "execution_count": 12,
   "metadata": {},
   "outputs": [],
   "source": [
    "class Solution:\n",
    "    def reverseString(self, s) :\n",
    "        \"\"\"\n",
    "        Do not return anything, modify s in-place instead.\n",
    "        \"\"\"\n",
    "        \n",
    "        l = 0\n",
    "        r = len(s) -1\n",
    "        \n",
    "        while l <= r:\n",
    "            # 利用Python特性写的交换过程\n",
    "            s[l], s[r] = s[r], s[l]\n",
    "            \n",
    "            l += 1\n",
    "            r -=1\n"
   ]
  },
  {
   "cell_type": "markdown",
   "metadata": {},
   "source": [
    "* 如果是数值交换, 我们可以利用异或运算来写, 不需要开辟新的存储空间\n",
    "    * 利用 异或运算 写的交换过程\n",
    "    ```\n",
    "    s[l] = s[l] ^ s[r]  \n",
    "    s[r] = s[l] ^ s[r]      # b = (a^b)^b = a^b^b = a^0 = a\n",
    "    s[l] = s[l] ^ s[r]      # a = (a^b)^((a^b)^b) = (a^b)^a = a^b^a = b\n",
    "    ```\n",
    "\n",
    "* 本题是string做交换, 所以没办法直接这么做"
   ]
  },
  {
   "cell_type": "code",
   "execution_count": 14,
   "metadata": {},
   "outputs": [
    {
     "name": "stdout",
     "output_type": "stream",
     "text": [
      "['o', 'l', 'l', 'e', 'h']\n"
     ]
    }
   ],
   "source": [
    "ans = Solution()\n",
    "\n",
    "s = [\"h\",\"e\",\"l\",\"l\",\"o\"]\n",
    "# s = ['1']\n",
    "ans.reverseString(s)\n",
    "print(s)"
   ]
  }
 ],
 "metadata": {
  "kernelspec": {
   "display_name": "Python 3.9.12 ('base')",
   "language": "python",
   "name": "python3"
  },
  "language_info": {
   "codemirror_mode": {
    "name": "ipython",
    "version": 3
   },
   "file_extension": ".py",
   "mimetype": "text/x-python",
   "name": "python",
   "nbconvert_exporter": "python",
   "pygments_lexer": "ipython3",
   "version": "3.9.12"
  },
  "orig_nbformat": 4,
  "vscode": {
   "interpreter": {
    "hash": "901177bed68d7d4fbadb3177e755ced472e86ce1c03620f2ee52eeaae03fd4ab"
   }
  }
 },
 "nbformat": 4,
 "nbformat_minor": 2
}
