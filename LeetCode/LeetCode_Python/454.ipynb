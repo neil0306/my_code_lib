{
 "cells": [
  {
   "cell_type": "markdown",
   "metadata": {},
   "source": [
    "# 题目 四数相加Ⅲ\n",
    "\n",
    "* 给你四个整数数组 nums1、nums2、nums3 和 nums4 ，数组长度都是 n ，请你计算有多少个元组 (i, j, k, l) 能满足：\n",
    "\n",
    "    * 0 <= i, j, k, l < n\n",
    "    * nums1[i] + nums2[j] + nums3[k] + nums4[l] == 0\n",
    " \n",
    "\n",
    "* 示例 1：\n",
    "\n",
    "    * 输入：nums1 = [1,2], nums2 = [-2,-1], nums3 = [-1,2], nums4 = [0,2]\n",
    "    * 输出：2\n",
    "    * 解释：\n",
    "    * 两个元组如下：\n",
    "    * 1. (0, 0, 0, 1) -> nums1[0] + nums2[0] + nums3[0] + nums4[1] = 1 + (-2) + (-1) + 2 = 0\n",
    "    * 2. (1, 1, 0, 0) -> nums1[1] + nums2[1] + nums3[0] + nums4[0] = 2 + (-1) + (-1) + 0 = 0\n",
    "\n",
    "* 示例 2：\n",
    "\n",
    "    * 输入：nums1 = [0], nums2 = [0], nums3 = [0], nums4 = [0]\n",
    "    * 输出：1\n",
    " \n",
    "\n",
    "* 提示：\n",
    "\n",
    "    * n == nums1.length\n",
    "    * n == nums2.length\n",
    "    * n == nums3.length\n",
    "    * n == nums4.length\n",
    "    * 1 <= n <= 200\n",
    "    * $-2^{28}$ <= nums1[i], nums2[i], nums3[i], nums4[i] <= $2^{28}$\n",
    "\n",
    "来源：力扣（LeetCode）\n",
    "链接：https://leetcode.cn/problems/4sum-ii\n",
    "著作权归领扣网络所有。商业转载请联系官方授权，非商业转载请注明出处。"
   ]
  },
  {
   "cell_type": "markdown",
   "metadata": {},
   "source": [
    "# 分析:\n",
    "* 这里是 4个 数组分别取一个元素出来相加, 然后我们需要统计取出来的元素相加等于0的情况.\n",
    "    * 题目不要求对 tuple 进行去重 ==> 它和 '四数相加' 的题目就不一样了, 四数相加因为4个数都在同一个数组中, 所以是需要去重的\n",
    "\n",
    "# 思路:\n",
    "* 直接用暴力解法的话, 需要嵌套for循环来遍历数组, 时间复杂度是 $O(n^4)$\n",
    "* 为了降低复杂度, 然后参考 两数之和, 四数之和 的思路, 可以这么干:\n",
    "    * 先把前两个数组的元素进行两两求和, 然后把结果放入一个 哈希表中, 同时统计这个 **求和值** 出现了多少次\n",
    "    * 然后 再遍历后两个数组, 此时, 我们把后两个数组的元素进行相加之后, 直接去 建立好的哈希表中查询我们需要的元素之和就行了, 由于不需要去重, 所以这么干是合理的\n",
    "        * 此时 嵌套的for 循环就减少了, 时间复杂度就从 $O(n^4)$ 降为 $O(n^2)$, 因为 $O(2*n^2)$ 等价于 $O(n^2)$\n",
    "    \n",
    "    * 确定了大体做法, 还需要确定一下用什么数据结构去实现哈希表:\n",
    "        * 数组?  nums 里的元素数值可能很大, 数组可能会浪费很多空间, 所以数组不合适\n",
    "        * set? set 只能存 key, 没办法存 value (key出现的次数), 所以这里也不适合\n",
    "        * map: 有key 和value, 可以使用"
   ]
  },
  {
   "cell_type": "markdown",
   "metadata": {},
   "source": []
  },
  {
   "cell_type": "code",
   "execution_count": 26,
   "metadata": {},
   "outputs": [],
   "source": [
    "class Solution:\n",
    "    def fourSumCount(self, nums1, nums2, nums3, nums4):\n",
    "        hash_map = {}\n",
    "        for i in range(len(nums1)):\n",
    "            for j in range(len(nums2)):\n",
    "                hash_map[ nums1[i] + nums2[j] ] = hash_map.get(nums1[i] + nums2[j], 0) + 1\n",
    "        \n",
    "        cnt = 0\n",
    "        for i in range(len(nums3)):\n",
    "            for j in range(len(nums4)):\n",
    "                if hash_map.get( -(nums3[i]+ nums4[j]), 0) != 0:\n",
    "                    cnt += hash_map[ -(nums3[i]+ nums4[j]) ]\n",
    "    \n",
    "        return cnt "
   ]
  },
  {
   "cell_type": "code",
   "execution_count": 28,
   "metadata": {},
   "outputs": [
    {
     "data": {
      "text/plain": [
       "6"
      ]
     },
     "execution_count": 28,
     "metadata": {},
     "output_type": "execute_result"
    }
   ],
   "source": [
    "s = Solution()\n",
    "\n",
    "# nums1 = [1,2]; nums2 = [-2,-1]; nums3 = [-1,2]; nums4 = [0,2]\n",
    "# nums1 = [0]; nums2 = [0]; nums3 = [0]; nums4 = [0]\n",
    "nums1 = [-1,-1]; nums2 = [-1,1]; nums3 = [-1,1]; nusm4 = [1,-1]\n",
    "s.fourSumCount(nums1, nums2, nums3, nums4)"
   ]
  }
 ],
 "metadata": {
  "kernelspec": {
   "display_name": "Python 3.9.12 ('base')",
   "language": "python",
   "name": "python3"
  },
  "language_info": {
   "codemirror_mode": {
    "name": "ipython",
    "version": 3
   },
   "file_extension": ".py",
   "mimetype": "text/x-python",
   "name": "python",
   "nbconvert_exporter": "python",
   "pygments_lexer": "ipython3",
   "version": "3.9.12"
  },
  "orig_nbformat": 4,
  "vscode": {
   "interpreter": {
    "hash": "901177bed68d7d4fbadb3177e755ced472e86ce1c03620f2ee52eeaae03fd4ab"
   }
  }
 },
 "nbformat": 4,
 "nbformat_minor": 2
}
