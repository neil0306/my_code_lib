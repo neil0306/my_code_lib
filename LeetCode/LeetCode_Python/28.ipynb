{
 "cells": [
  {
   "cell_type": "markdown",
   "metadata": {},
   "source": [
    "# 题目: 28. 找出字符串中第一个匹配的下标\n",
    "* 给你两个字符串 haystack 和 needle ，请你在 haystack 字符串中找出 needle 字符串的第一个匹配项的下标（下标从 0 开始）。如果 needle 不是 haystack 的一部分，则返回  -1 。\n",
    "\n",
    " \n",
    "\n",
    "* 示例 1：\n",
    "\n",
    "    * 输入：haystack = \"sadbutsad\", needle = \"sad\"\n",
    "    * 输出：0\n",
    "    * 解释：\"sad\" 在下标 0 和 6 处匹配。\n",
    "    * 第一个匹配项的下标是 0 ，所以返回 0 。\n",
    "\n",
    "* 示例 2：\n",
    "\n",
    "    * 输入：haystack = \"leetcode\", needle = \"leeto\"\n",
    "    * 输出：-1\n",
    "    * 解释：\"leeto\" 没有在 \"leetcode\" 中出现，所以返回 -1 。\n",
    " \n",
    "\n",
    "* 提示：\n",
    "\n",
    "* 1 <= haystack.length, needle.length <= $10^4$\n",
    "* haystack 和 needle 仅由小写英文字符组成\n",
    "\n",
    "来源：力扣（LeetCode）\n",
    "链接：https://leetcode.cn/problems/find-the-index-of-the-first-occurrence-in-a-string\n",
    "著作权归领扣网络所有。商业转载请联系官方授权，非商业转载请注明出处。"
   ]
  },
  {
   "cell_type": "code",
   "execution_count": 1,
   "metadata": {},
   "outputs": [
    {
     "data": {
      "text/plain": [
       "True"
      ]
     },
     "execution_count": 1,
     "metadata": {},
     "output_type": "execute_result"
    }
   ],
   "source": [
    "# 测试: 当needle 为空时返回什么? 答案是0, 这是C语言 strstr() 定义的, Python本身底层也是C/C++, 满足这个定义\n",
    "\"\" in \"a\""
   ]
  },
  {
   "cell_type": "markdown",
   "metadata": {},
   "source": [
    "* 分析:\n",
    "    * 本题是KMP算法的经典问题, 具体理论查看KMP算法的笔记文件\n",
    "\n",
    "* 解题思路 :\n",
    "1. 构建 Next 数组 (next数组 等价于 前缀表记录的数据 \"统一减1\")\n",
    "    * 主要解决三个问题:\n",
    "        * 初始化\n",
    "        * 前缀与后缀不相同的情况\n",
    "        * 前缀与后缀相同的情况 \n",
    "2. 利用 next 数组做匹配"
   ]
  },
  {
   "cell_type": "markdown",
   "metadata": {},
   "source": [
    "## 对**模板串**(needle)构建 next 数组"
   ]
  },
  {
   "cell_type": "code",
   "execution_count": 2,
   "metadata": {},
   "outputs": [],
   "source": [
    "def get_next_arr(needle):\n",
    "    '''\n",
    "    关键思路: 使用两个指针 i,k, i指向后缀的末尾, k指向前缀的末尾(同时也是最长相等前后缀的长度)\n",
    "    注意: \n",
    "        1. next[index] 表示的是 index(包含index) 字符之前的 子串的 最长相等前后缀的长度 \n",
    "        2. next 数组最小值是-1, 当 相同前后缀的最大长度为0时, next 数组记录的是-1 \n",
    "        3. 假设needle最少得有1个元素, needle 为空字符串的情况不应生成 next 数组\n",
    "    '''\n",
    "    # 初始化:\n",
    "    next_arr = ['' for _ in range(len(needle))]\n",
    "    k = -1                              # 当 needle 只有1个元素时, 前后缀都不存在, 此时next数组应该记录为 -1\n",
    "    next_arr[0] = k                    \n",
    "    \n",
    "    #  遍历模板串 needle, 逐步构建next数组\n",
    "    for i in range(1, len(needle)):     # 注意 i 从 1 开始遍历\n",
    "        \n",
    "        # 处理前缀与后缀不相同的情况.  (注意: 对于当前遍历到的每一个子串, 都是从最长的前缀开始进行判断, 不相等时就缩短对应的前缀)\n",
    "        # 做完这一步, 前缀末尾指针 k 要么会停在前后缀相等的位置, 要么直接为-1\n",
    "        while (k > -1 and needle[i] != needle[k+1]):\n",
    "            k = next_arr[k]                 # 这里按照 next 数组的定义去移动k: next[index] 表示的是 index(包含index) 字符之前的 子串的 最长相等前后缀的长度    ==〉 这里也是我们写的 【循环不变量】\n",
    "                                        # 前缀被缩短到前一个字符里存储的最长相等子串的位置, 这个位置在 next 数组里保存着, 由于 i 是从 needle 头部开始遍历, 所以无论如何next数组都是能找到对应值的\n",
    "    \n",
    "        # 处理 前后缀相等的情况.  注意: 前面的 while 走完, k 要么为-1, 要么走到前后缀相等的位置\n",
    "        if needle[i] == needle[k+1]:\n",
    "            k += 1                      # 如果找到了前后缀相等的位置, 那么就要把 k+1 （因为k不仅表示前缀的末尾，还表示着最长相等前后缀的长度，现在找到了更长的像等前后缀，当然要加1）, k+1后还相当于方便了下一次遍历\n",
    "                                        # i 的增加在 for 循环里完成\n",
    "\n",
    "        next_arr[i] = k \n",
    "    return next_arr"
   ]
  },
  {
   "cell_type": "markdown",
   "metadata": {},
   "source": [
    "### 生成前缀表过程 动图:\n",
    "![jupyter](https://code-thinking.cdn.bcebos.com/gifs/KMP%E7%B2%BE%E8%AE%B23.gif)\n"
   ]
  },
  {
   "cell_type": "code",
   "execution_count": 4,
   "metadata": {},
   "outputs": [
    {
     "name": "stdout",
     "output_type": "stream",
     "text": [
      "Next array: [-1, 0, -1, 0, 1, -1]\n",
      "prefix array: [0, 1, 0, 1, 2, 0]\n"
     ]
    }
   ],
   "source": [
    "# 测试一下 next 数组生成函数\n",
    "needle = \"aabaaf\"\n",
    "# needle = \"abac\"\n",
    "temp = get_next_arr(needle)\n",
    "print(f'Next array: {temp}')\n",
    "\n",
    "import numpy as np \n",
    "print(f'prefix array: {(np.array(temp) + 1).tolist()}')"
   ]
  },
  {
   "cell_type": "markdown",
   "metadata": {},
   "source": [
    "## 完整的匹配过程动图:\n",
    "\n",
    "![jupyter](https://code-thinking.cdn.bcebos.com/gifs/KMP%E7%B2%BE%E8%AE%B22.gif)"
   ]
  },
  {
   "cell_type": "markdown",
   "metadata": {},
   "source": [
    "## 完整代码"
   ]
  },
  {
   "cell_type": "code",
   "execution_count": 1,
   "metadata": {},
   "outputs": [],
   "source": [
    "class Solution:\n",
    "    def strStr(self, haystack, needle) -> int:\n",
    "        if len(needle) == 0:                        # 如果 needle 为空数组, 则直接结束, 不生成前缀表\n",
    "            return -1\n",
    "        \n",
    "        next_arr = self.get_next_arr(needle)        # 生成 next 数组\n",
    "        \n",
    "        j = -1           # j 用来遍历 needle\n",
    "        for i in range(len(haystack)):\n",
    "            while j >= 0 and haystack[i] != needle[j+1]:            # 这里的判断逻辑和 get_next_arr 里的逻辑是相同的, 这里只是把 needle[i] 换成了 haystack[i]\n",
    "                j = next_arr[j] \n",
    "            \n",
    "            if  haystack[i] == needle[j+1]:                         # 更新遍历参数 j,  i 在for里面更新\n",
    "                j += 1                                              \n",
    "            \n",
    "            if j == len(needle)-1:                                  # 遍历结束的一个条件: needle 遍历到末尾\n",
    "                return i - (len(needle) -1)\n",
    "        \n",
    "        return -1\n",
    "        \n",
    "        \n",
    "    def get_next_arr(self, needle):\n",
    "        '''\n",
    "        关键思路: 使用两个指针 i,k, i指向后缀的末尾, k指向前缀的末尾\n",
    "        注意: \n",
    "            1. next[index] 表示的是 index(包含index) 字符之前的 子串的 最长相等前后缀的长度 \n",
    "            2. next 数组最小值是-1, 当 相同前后缀的最大长度为0时, next 数组记录的是-1 \n",
    "            3. 假设needle最少得有1个元素, needle 为空字符串的情况不应生成 next 数组\n",
    "        '''\n",
    "        # 初始化:\n",
    "        next_arr = ['' for _ in range(len(needle))]\n",
    "        k = -1                              # 当 needle 只有1个元素时, 前后缀都不存在, 此时next数组应该记录为 -1\n",
    "        next_arr[0] = k                    \n",
    "        \n",
    "        #  遍历模板串 needle, 逐步构建next数组\n",
    "        for i in range(1, len(needle)):     # 注意 i 从 1 开始遍历\n",
    "            \n",
    "            # 处理前缀与后缀不相同的情况.  (注意: 对于当前遍历到的每一个子串, 都是从最长的前缀开始进行判断, 不相等时就缩短对应的前缀)\n",
    "            # 做完这一步, 前缀末尾指针 k 要么会停在前后缀相等的位置, 要么直接为-1\n",
    "            while (k > -1 and needle[i] != needle[k+1]):\n",
    "                k = next_arr[k]                 # 这里按照 next 数组的定义去移动k: next[index] 表示的是 index(包含index) 字符之前的 子串的 最长相等前后缀的长度 \n",
    "                                            # 前缀被缩短到前一个字符里存储的最长相等子串的位置, 这个位置在 next 数组里保存着, 由于 i 是从 needle 头部开始遍历, 所以无论如何next数组都是能找到对应值的\n",
    "        \n",
    "            # 处理 前后缀相等的情况.  注意: 前面的 while 走完, k 要么为-1, 要么走到前后缀相等的位置\n",
    "            if needle[i] == needle[k+1]:\n",
    "                k += 1                      # 如果找到了前后缀相等的位置, 那么就把 k 往右移, 用来更新 next 数组, 同时方便下一次遍历\n",
    "                                            # i 的增加在 for 循环里完成\n",
    "\n",
    "            next_arr[i] = k \n",
    "        return next_arr"
   ]
  },
  {
   "cell_type": "code",
   "execution_count": 36,
   "metadata": {},
   "outputs": [
    {
     "data": {
      "text/plain": [
       "0"
      ]
     },
     "execution_count": 36,
     "metadata": {},
     "output_type": "execute_result"
    }
   ],
   "source": [
    "_test = Solution()\n",
    "\n",
    "haystack = \"leetcode\"; needle = \"leeto\"\n",
    "haystack = \"sadbutsad\"; needle = \"sad\"\n",
    "\n",
    "_test.get_next_arr(needle)\n",
    "_test.strStr(haystack, needle)"
   ]
  }
 ],
 "metadata": {
  "kernelspec": {
   "display_name": "Python 3.9.12 ('base')",
   "language": "python",
   "name": "python3"
  },
  "language_info": {
   "codemirror_mode": {
    "name": "ipython",
    "version": 3
   },
   "file_extension": ".py",
   "mimetype": "text/x-python",
   "name": "python",
   "nbconvert_exporter": "python",
   "pygments_lexer": "ipython3",
   "version": "3.9.12"
  },
  "orig_nbformat": 4,
  "vscode": {
   "interpreter": {
    "hash": "901177bed68d7d4fbadb3177e755ced472e86ce1c03620f2ee52eeaae03fd4ab"
   }
  }
 },
 "nbformat": 4,
 "nbformat_minor": 2
}
