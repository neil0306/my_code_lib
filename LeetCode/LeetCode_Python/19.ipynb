{
 "cells": [
  {
   "cell_type": "markdown",
   "metadata": {},
   "source": [
    "# 题目 19. 删除链表的倒数第 N 个结点\n",
    "\n",
    "* 示例 1：\n",
    "    * 输入：head = [1,2,3,4,5], n = 2\n",
    "    * 输出：[1,2,3,5]\n",
    "\n",
    "![jupyter](https://assets.leetcode.com/uploads/2020/10/03/remove_ex1.jpg)\n",
    "\n",
    "* 示例 2：\n",
    "\n",
    "    * 输入：head = [1], n = 1\n",
    "    * 输出：[]\n",
    "\n",
    "\n",
    "* 示例 3：\n",
    "\n",
    "    * 输入：head = [1,2], n = 1\n",
    "    * 输出：[1]\n",
    " \n",
    "\n",
    "* 提示：\n",
    "\n",
    "    * 链表中结点的数目为 sz\n",
    "    * 1 <= sz <= 30\n",
    "    * 0 <= Node.val <= 100\n",
    "    * 1 <= n <= sz\n",
    "\n",
    "来源：力扣（LeetCode）\n",
    "链接：https://leetcode.cn/problems/remove-nth-node-from-end-of-list\n",
    "著作权归领扣网络所有。商业转载请联系官方授权，非商业转载请注明出处。"
   ]
  },
  {
   "cell_type": "markdown",
   "metadata": {},
   "source": [
    "# 分析：\n",
    "* 倒数第 n 个节点是从1开始数的！\n",
    "    * 例如倒数第1个节点指的是链表的尾部节点\n",
    "* 难点在于：\n",
    "    * 怎么找到 倒数第N个节点\n",
    "    * 操作的指针怎么移动到第N个节点的 前一个节点位置\n",
    "\n",
    "\n",
    "# 思路：\n",
    "* 这是经典的双指针法题目。\n",
    "* 具体操作过程为：\n",
    "    * 定义两个指针 fast 和 slow\n",
    "    * 让 fast 先走 N+1 步，此时他们俩间隔为 N+1（原因往下看）\n",
    "    * fast走了足够多的步数后，slow 和 fast 一起往后移动，直到 fast 走到 None 为止   —— 注意此时 fast 和 slow 之间相差 N 个节点\n",
    "        * 此时，因为 slow 和 fast 间隔为 N ，slow 恰好停在 倒数第N个节点的前一个位置，也就是我们想要操作的位置\n",
    "\n",
    "![jupyter](https://code-thinking.cdn.bcebos.com/pics/19.%E5%88%A0%E9%99%A4%E9%93%BE%E8%A1%A8%E7%9A%84%E5%80%92%E6%95%B0%E7%AC%ACN%E4%B8%AA%E8%8A%82%E7%82%B9.png)\n",
    "![jupyter](https://code-thinking.cdn.bcebos.com/pics/19.%E5%88%A0%E9%99%A4%E9%93%BE%E8%A1%A8%E7%9A%84%E5%80%92%E6%95%B0%E7%AC%ACN%E4%B8%AA%E8%8A%82%E7%82%B91.png)\n",
    "![jupyter](https://code-thinking.cdn.bcebos.com/pics/19.%E5%88%A0%E9%99%A4%E9%93%BE%E8%A1%A8%E7%9A%84%E5%80%92%E6%95%B0%E7%AC%ACN%E4%B8%AA%E8%8A%82%E7%82%B92.png)\n",
    "![jupyter](https://code-thinking.cdn.bcebos.com/pics/19.%E5%88%A0%E9%99%A4%E9%93%BE%E8%A1%A8%E7%9A%84%E5%80%92%E6%95%B0%E7%AC%ACN%E4%B8%AA%E8%8A%82%E7%82%B93.png)"
   ]
  },
  {
   "cell_type": "markdown",
   "metadata": {},
   "source": [
    "# 单链表实现 （leetcode的代码框架给的就是单链表）"
   ]
  },
  {
   "cell_type": "code",
   "execution_count": null,
   "metadata": {},
   "outputs": [],
   "source": [
    "\n",
    "# Definition for singly-linked list.\n",
    "class ListNode:\n",
    "    def __init__(self, val=0, next=None):\n",
    "        self.val = val\n",
    "        self.next = next\n",
    "\n",
    "class Solution:\n",
    "    def removeNthFromEnd(self, head: Optional[ListNode], n: int) -> Optional[ListNode]:\n",
    "        # 定义虚拟头结点，统一操作逻辑（否则需要单独讨论删除的目标为head的情况）\n",
    "        dummy_head = ListNode()\n",
    "        dummy_head.next = head                  # 相当于备份了一下 【指向head】 的指针\n",
    "        \n",
    "        fast, slow = dummy_head, dummy_head     # fast 和 slow 都初始化在同一个位置\n",
    "\n",
    "        n += 1                                  # 安全起见，不要在 while 里写 n+1，而是先+1 再丢到while里\n",
    "        while n and fast != None:               # fast 移动 n+1 位, 如果 n+1 比链表大，fast就会提前停止到None位置\n",
    "            fast = fast.next\n",
    "            n -= 1\n",
    "        \n",
    "        while fast != None:                     # fast 移动完 n+1 次后，若 fast 还没到 None，则 fast 和 slow 一起移动\n",
    "            fast = fast.next\n",
    "            slow = slow.next\n",
    "        \n",
    "        slow.next = slow.next.next              # 删除了slow后一个节点 \n",
    "                                                # 分析一下空链表的情况： 假如是空链表，那么 head.next 就是 None，此时 slow 仍在 dummy_head 位置，所以 slow.next 指向 head，不会报错，\n",
    "                                                # slow.next.next 此时为 None，也不会报错。\n",
    "        \n",
    "        return dummy_head.next                  # 如果返回 head 的话，当测试链表为[1]且n=1的话，由于原来的head节点指向[1]，但是我们的操作逻辑是让dummy_head直接指向了None，我们并没有改变head的next，所以返回head会得到[1]，得到的是错误的结果\n",
    "        "
   ]
  },
  {
   "cell_type": "markdown",
   "metadata": {},
   "source": [
    "# 下面是对 while 判断语句里对变量进行操作的小实验，目的是看看 判断语句里如果包含了「可变类型」的变量会不会出bug"
   ]
  },
  {
   "cell_type": "code",
   "execution_count": 5,
   "metadata": {},
   "outputs": [
    {
     "name": "stdout",
     "output_type": "stream",
     "text": [
      "this is the 1-th loop: 5\n",
      "this is the 2-th loop: 4\n",
      "this is the 3-th loop: 3\n",
      "this is the 4-th loop: 2\n",
      "this is the 5-th loop: 1\n",
      "this is the 6-th loop: 0\n",
      "Total number of loops: 6\n",
      "This is the 0-th loop: [1, 2, 3, 4]\n",
      "This is the 1-th loop: [2, 3, 4, 11]\n",
      "This is the 2-th loop: [3, 4, 11, 11]\n",
      "This is the 3-th loop: [4, 11, 11, 11]\n",
      "This is the 4-th loop: [11, 11, 11, 11]\n",
      "This is the 5-th loop: [11, 11, 11, 11]\n",
      "This is the 6-th loop: [11, 11, 11, 11]\n",
      "This is the 7-th loop: [11, 11, 11, 11]\n",
      "This is the 8-th loop: [11, 11, 11, 11]\n",
      "This is the 9-th loop: [11, 11, 11, 11]\n",
      "This is the 10-th loop: [11, 11, 11, 11]\n",
      "break due to cnt>10\n"
     ]
    }
   ],
   "source": [
    "# 验证一下 while 里的变量发生改变时怎么样\n",
    "\n",
    "\n",
    "# 测试不可变的变量类型\n",
    "a = 5 \n",
    "cnt = 1\n",
    "while a+1:              # int 类型的变量是不可变类型，每次赋值都是重新创建一个内存空间，所以这里还是没问题\n",
    "    print(f'this is the {cnt}-th loop: {a}')\n",
    "    a -= 1\n",
    "    cnt += 1 \n",
    "\n",
    "print(f'Total number of loops: {cnt-1}')\n",
    "\n",
    "\n",
    "\n",
    "# 测试一下可变类型：如list\n",
    "a = [1,2,3,4]\n",
    "b = [11,12,13,14,15]\n",
    "cnt = 0\n",
    "while a:                                            # 如果把判断语句写成 a+[b[0]] 的话会陷入死循环，因为每次 while 都会对a进行一次拼接操作，此时 得到的临时结果永远不为空\n",
    "    print(f'This is the {cnt}-th loop: {a}')\n",
    "    if len(a)>0:\n",
    "        a.remove(a[0])\n",
    "    a = a + [b[0]]\n",
    "    cnt += 1\n",
    "    \n",
    "    if cnt > 10:\n",
    "        print('break due to cnt>10')\n",
    "        break\n",
    "\n",
    "# 实验证明，while 里如果对可变类型进行判断，一定要小心\n",
    "\n"
   ]
  }
 ],
 "metadata": {
  "kernelspec": {
   "display_name": "Python 3.9.12 ('base')",
   "language": "python",
   "name": "python3"
  },
  "language_info": {
   "codemirror_mode": {
    "name": "ipython",
    "version": 3
   },
   "file_extension": ".py",
   "mimetype": "text/x-python",
   "name": "python",
   "nbconvert_exporter": "python",
   "pygments_lexer": "ipython3",
   "version": "3.9.12"
  },
  "orig_nbformat": 4,
  "vscode": {
   "interpreter": {
    "hash": "901177bed68d7d4fbadb3177e755ced472e86ce1c03620f2ee52eeaae03fd4ab"
   }
  }
 },
 "nbformat": 4,
 "nbformat_minor": 2
}
