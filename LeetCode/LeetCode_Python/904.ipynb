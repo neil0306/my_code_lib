{
 "cells": [
  {
   "cell_type": "markdown",
   "metadata": {},
   "source": [
    "# 题目 904. 水果成篮（和209同一类型）\n",
    "\n",
    "你正在探访一家农场，农场从左到右种植了一排果树。这些树用一个整数数组 fruits 表示，其中 fruits[i] 是第 i 棵树上的水果 种类 。\n",
    "\n",
    "你想要尽可能多地收集水果。然而，农场的主人设定了一些严格的规矩，你必须按照要求采摘水果：\n",
    "\n",
    "你只有 两个 篮子，并且每个篮子只能装 单一类型 的水果。每个篮子能够装的水果总量没有限制。\n",
    "你可以选择任意一棵树开始采摘，你必须从 每棵 树（包括开始采摘的树）上 恰好摘一个水果 。采摘的水果应当符合篮子中的水果类型。每采摘一次，你将会向右移动到下一棵树，并继续采摘。\n",
    "一旦你走到某棵树前，但水果不符合篮子的水果类型，那么就必须停止采摘。\n",
    "给你一个整数数组 fruits ，返回你可以收集的水果的 最大 数目。\n",
    "\n",
    "* 示例 1：\n",
    "\n",
    "    * 输入：fruits = [1,2,1]\n",
    "    * 输出：3\n",
    "    * 解释：可以采摘全部 3 棵树。\n",
    "\n",
    "\n",
    "* 示例 2：\n",
    "\n",
    "    * 输入：fruits = [0,1,2,2]\n",
    "    * 输出：3\n",
    "    * 解释：可以采摘 [1,2,2] 这三棵树。\n",
    "    * 如果从第一棵树开始采摘，则只能采摘 [0,1] 这两棵树。\n",
    "\n",
    "\n",
    "* 示例 3：\n",
    "\n",
    "    * 输入：fruits = [1,2,3,2,2]\n",
    "    * 输出：4\n",
    "    * 解释：可以采摘 [2,3,2,2] 这四棵树。\n",
    "    * 如果从第一棵树开始采摘，则只能采摘 [1,2] 这两棵树。\n",
    "\n",
    "\n",
    "* 示例 4：\n",
    "\n",
    "    * 输入：fruits = [3,3,3,1,2,1,1,2,3,3,4]\n",
    "    * 输出：5\n",
    "    * 解释：可以采摘 [1,2,1,1,2] 这五棵树。\n",
    "\n",
    "\n",
    "\n",
    "来源：力扣（LeetCode）\n",
    "链接：https://leetcode.cn/problems/fruit-into-baskets\n",
    "著作权归领扣网络所有。商业转载请联系官方授权，非商业转载请注明出处。"
   ]
  },
  {
   "cell_type": "markdown",
   "metadata": {},
   "source": [
    "# 分析\n",
    "    * 本质上来说，它要求的是寻找数组的最长子序列，并且要求子序列里最多只有2种不同的数字，可以使用滑动窗口去寻找。\n",
    "\n",
    "    * 滑动窗口的使用需要注意：\n",
    "        * 窗口里的东西是什么？代表什么含义？\n",
    "        * 怎么移动滑动窗口的终止位置？\n",
    "        * 怎么移动滑动窗口的起始位置？\n",
    "\n",
    "# 写法一 （滑动窗口，使用缩小窗口的方式）：\n",
    "    * 使用滑动窗口方法：\n",
    "        * 窗口里的是最多只有两种不同整数的数组\n",
    "        * 循环时，for循环应该是末尾指针\n",
    "            * 遍历时，使用字典记录每一种元素最后出现的index\n",
    "            * 循环体中需要设置条件判断，以移动 起始指针\n",
    "                * 移动起始指针的条件：当字典记录的数值超过2种就删除index最小的，然后更新star_p为最小index +1\n"
   ]
  },
  {
   "cell_type": "code",
   "execution_count": 40,
   "metadata": {},
   "outputs": [],
   "source": [
    "class Solution:\n",
    "    def totalFruit(self, fruits):\n",
    "        star_p = 0          # 起始指针\n",
    "        val_type = {}       # 用字典不断更新、记录子数组的数值类型，方便判断\n",
    "        res = 1             # 初始化最长子数组的长度, 题目的提示里要求最小是1\n",
    "        \n",
    "        for end_p in range(len(fruits)):\n",
    "            \n",
    "            val_type[fruits[end_p]] = end_p             # 不断记录当前类型数值的最后一个位置\n",
    "            \n",
    "            if len(val_type) > 2:                       # 子数组超过2种数值，更新子数组\n",
    "                \n",
    "                # 移动 起始指针 的方式： val_type 里记录的最小指针的位置+1，此时可以避免诸如 0,0,1,0,2 这种数组出错的情况\n",
    "                min_index = 1e9\n",
    "                for key in val_type.keys():\n",
    "                    if val_type[key] < min_index:\n",
    "                        min_index = val_type[key]\n",
    "                \n",
    "                val_type.pop( fruits[min_index] )       # 删除最靠近开始位置的数值类型\n",
    "                star_p = min_index +1\n",
    "                \n",
    "            res = max(res, end_p - star_p +1)\n",
    "            # print(f'val_type > 2| sub_fruits: {fruits[star_p : end_p+1]}')\n",
    "        return res"
   ]
  },
  {
   "cell_type": "markdown",
   "metadata": {},
   "source": [
    "# 时间复杂度：\n",
    "    O(n): 每一个元素只背操作了一次\n",
    "# 空间复杂度：\n",
    "    O(1): 不随着数组增大而增大，最多只用了包含3个key的字典，以及几个中间变量"
   ]
  },
  {
   "cell_type": "code",
   "execution_count": 42,
   "metadata": {},
   "outputs": [
    {
     "name": "stdout",
     "output_type": "stream",
     "text": [
      "val_type > 2| sub_fruits: [3]\n",
      "val_type > 2| sub_fruits: [3, 3]\n",
      "val_type > 2| sub_fruits: [3, 3, 3]\n",
      "val_type > 2| sub_fruits: [3, 3, 3, 1]\n",
      "val_type > 2| sub_fruits: [1, 2]\n",
      "val_type > 2| sub_fruits: [1, 2, 1]\n",
      "val_type > 2| sub_fruits: [1, 2, 1, 1]\n",
      "val_type > 2| sub_fruits: [1, 2, 1, 1, 2]\n",
      "val_type > 2| sub_fruits: [2, 3]\n",
      "val_type > 2| sub_fruits: [2, 3, 3]\n",
      "val_type > 2| sub_fruits: [3, 3, 4]\n"
     ]
    },
    {
     "data": {
      "text/plain": [
       "5"
      ]
     },
     "execution_count": 42,
     "metadata": {},
     "output_type": "execute_result"
    }
   ],
   "source": [
    "s = Solution()\n",
    "# fruits = [1,2,1]\n",
    "# fruits = [0,1,2,2]\n",
    "# fruits = [1,2,3,2,2]\n",
    "fruits = [3,3,3,1,2,1,1,2,3,3,4]\n",
    "# fruits = [1,0,1,4,1,4,1,2,3]\n",
    "s.totalFruit(fruits)"
   ]
  },
  {
   "cell_type": "markdown",
   "metadata": {},
   "source": [
    "# 写法二 —— 滑动窗口 （使用增大窗口的方式）\n",
    "    * 核心思想是：\n",
    "        * 先移动 end_p，直到遇到3种不同数值类型，然后把 star_p 放到 end_p 的前一个位置，开始增大窗口\n",
    "        * end_p 是否指向新的数值类型，如果是，开始调整窗口\n",
    "        * 当 star_p 的元素与前一个元素不相同时，停止倒退 star_p，否则继续倒退"
   ]
  },
  {
   "cell_type": "code",
   "execution_count": null,
   "metadata": {},
   "outputs": [],
   "source": [
    "# class Solution:\n",
    "#     def totalFruit(self, fruits: List[int]) -> int:\n",
    "#         if len(fruits) == 1:  ## 数组只有一个元素的话直接返回1\n",
    "#             return 1\n",
    "        \n",
    "#         l = 0                          ## 窗口左指针\n",
    "#         res = 0                        ## 最终结果\n",
    "#         fruit_type = [fruits[0]]       ## 窗口需要满足的条件： 数字/水果种类不能大于2种\n",
    "\n",
    "#         for r in range(1,len(fruits)):   ## 直接跳过第一个元素， r 也代表了窗口右指针\n",
    "\n",
    "#             if fruits[r] != fruits[ r-1 ] and fruits[r] not in fruit_type:   ## 判断 r 是否指向一个新的水果种类, 第一个条件同时也是进行窗口调整的条件\n",
    "#                 fruit_type.append(fruits[r])\n",
    "#                 if len(fruit_type) > 2:\n",
    "#                     res = max( res, r-l ) ## 更新窗口大小，注意 r-l 得到的长度是不包含新增元素的 （ 注意是窗口增大之前就记录 ）\n",
    "#                     l = r-1               ## 直接把左指针丢到 r 的前一个位置，准备增大窗口\n",
    "                    \n",
    "#                     while fruits[l] == fruits[l-1]:  \n",
    "#                         l -= 1            ## 左指针倒退，窗口变大\n",
    "#                     fruit_type = [fruits[l], fruits[r]]\n",
    "\n",
    "#         return max(res, r-l+1)    ## 最后再更新一波，防止窗口增大后没更新, 注意，此时的 r-l+1 相当于计算了新增元素的值。如果是 while 循环，则不需要+1\n",
    "\n",
    "class Solution:\n",
    "    def totalFruit(self, fruits: List[int]) -> int:\n",
    "        if len(fruits) == 1:  ## 数组只有一个元素的话直接返回1\n",
    "            return 1\n",
    "        \n",
    "        l = 0                          ## 窗口左指针\n",
    "        r = 1  ## 从1开始遍历\n",
    "        res = 0                        ## 最终结果\n",
    "        fruit_type = [fruits[0]]       ## 窗口需要满足的条件： 数字/水果种类不能大于2种\n",
    "\n",
    "        while r < len(fruits):  ## 直接跳过第一个元素， r 也代表了窗口右指针\n",
    "\n",
    "            if fruits[r] != fruits[ r-1 ] and fruits[r] not in fruit_type:   ## 判断 r 是否指向一个新的水果种类, 第一个条件同时也是进行窗口调整的条件\n",
    "                fruit_type.append(fruits[r])\n",
    "                if len(fruit_type) > 2:\n",
    "                    res = max( res, r-l ) ## 更新窗口大小，注意 r-l 得到的长度是不包含新增元素的 （ 注意是窗口增大之前就记录 ）\n",
    "                    l = r-1               ## 直接把左指针丢到 r 的前一个位置，准备增大窗口\n",
    "                    \n",
    "                    while fruits[l] == fruits[l-1]:  \n",
    "                        l -= 1            ## 左指针倒退，窗口变大\n",
    "                    fruit_type = [fruits[l], fruits[r]]\n",
    "            r += 1\n",
    "        return max(res, r-l)    ## 最后再更新一波，防止窗口增大后没更新, 注意，如果是 for 循环，要替换为 r-l+1，相当于计算了新增元素的值。 while 这里不用加1是因为最后一次 while 已经把 r+1 了\n",
    "\n"
   ]
  }
 ],
 "metadata": {
  "kernelspec": {
   "display_name": "Python 3.9.12 ('base')",
   "language": "python",
   "name": "python3"
  },
  "language_info": {
   "codemirror_mode": {
    "name": "ipython",
    "version": 3
   },
   "file_extension": ".py",
   "mimetype": "text/x-python",
   "name": "python",
   "nbconvert_exporter": "python",
   "pygments_lexer": "ipython3",
   "version": "3.9.12"
  },
  "orig_nbformat": 4,
  "vscode": {
   "interpreter": {
    "hash": "901177bed68d7d4fbadb3177e755ced472e86ce1c03620f2ee52eeaae03fd4ab"
   }
  }
 },
 "nbformat": 4,
 "nbformat_minor": 2
}
