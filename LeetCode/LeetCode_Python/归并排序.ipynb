{
 "cells": [
  {
   "cell_type": "markdown",
   "metadata": {},
   "source": [
    "# 归并排序 -- Merge Sort\n",
    "\n",
    "参考博客： \n",
    "* [掘金] https://juejin.cn/post/6860273835074617358#heading-32\n",
    "* [菜鸟教程] https://www.runoob.com/python3/python-merge-sort.html"
   ]
  },
  {
   "cell_type": "markdown",
   "metadata": {},
   "source": [
    "## 归并排序的特点：\n",
    "* 时间复杂度 O(nlogn)\n",
    "* 空间复杂度 O(n)\n",
    "* 稳定排序\n",
    "    * 如果原始序列中两个元素相等，排序后两个元素的**相对位置不变**\n",
    "\n",
    "\n",
    "\n",
    "\n",
    "* 比选择排序快（ 选择排序是 O(n^2) ），但是需要额外的空间。\n"
   ]
  },
  {
   "cell_type": "markdown",
   "metadata": {},
   "source": [
    "## 归并排序(图解)\n",
    "1. 先把整个序列按照【左、右子序列】的方式进行细分\n",
    "    * 先把整个序列分成左右两个子序列\n",
    "    * 再把左右两个子序列分成左右两个子序列，如此重复，直到无法再分\n",
    "2. 然后按照【从左到右】的顺序对每个子序列进行排序\n",
    "    * 左到右指的是：先对整个序列划分的最大的左子序列进行排序，再对最大的右子序列进行排序（递归进行）\n",
    "3. 最后再把排序好的子序列进行合并\n",
    "    * 排序完最小的左右侧子序列后，马上合并，然后再搞上一层更大的左右子序列，直到最后合并成一个完整的序列\n",
    "\n",
    "![jupyter](https://www.runoob.com/wp-content/uploads/2019/03/mergeSort.gif)"
   ]
  },
  {
   "cell_type": "code",
   "execution_count": 1,
   "metadata": {},
   "outputs": [],
   "source": [
    "class Solution():\n",
    "    def mergeSort(self, arr, l, r):\n",
    "        if l< r:\n",
    "            m = int((l+ (r-1))/2)\n",
    "            \n",
    "            self.mergeSort(arr, l, m)           # 左闭右闭\n",
    "            self.mergeSort(arr, m+1, r)\n",
    "            self.merge(arr, l, m, r)\n",
    "    \n",
    "    def merge(self, arr, l, m, r):\n",
    "        n1 = m - l + 1\n",
    "        n2 = r - m \n",
    "        \n",
    "        # 创建临时数组\n",
    "        L = [0] * (n1)\n",
    "        R = [0] * (n2)\n",
    "        \n",
    "        # 拷贝数据到临时数组 arrays L[] and R[]\n",
    "        for i in range(0 , n1):\n",
    "            L[i] = arr[l + i]\n",
    "        \n",
    "        for j in range(0 , n2):\n",
    "            R[j] = arr[m + 1 + j]\n",
    "        \n",
    "        # 归并临时数组到 arr[l..r]\n",
    "        i = 0     # 初始化第一个子数组的索引\n",
    "        j = 0     # 初始化第二个子数组的索引\n",
    "        k = l     # 初始归并子数组的索引\n",
    "        while i < n1 and j < n2 :\n",
    "            if L[i] <= R[j]:\n",
    "                arr[k] = L[i]           \n",
    "                i += 1\n",
    "            else:\n",
    "                arr[k] = R[j]\n",
    "                j += 1\n",
    "            k += 1\n",
    "            \n",
    "        # 拷贝 L[] 的保留元素\n",
    "        while i < n1:\n",
    "            arr[k] = L[i]\n",
    "            i += 1\n",
    "            k += 1\n",
    "        \n",
    "        # 拷贝 R[] 的保留元素\n",
    "        while j < n2:\n",
    "            arr[k] = R[j]\n",
    "            j += 1\n",
    "            k += 1"
   ]
  },
  {
   "cell_type": "code",
   "execution_count": 2,
   "metadata": {},
   "outputs": [
    {
     "name": "stdout",
     "output_type": "stream",
     "text": [
      "排序前: [44 47 64 67 67  9 83 21 36 87]\n",
      "排序后: [ 9 21 36 44 47 64 67 67 83 87]\n"
     ]
    }
   ],
   "source": [
    "Ans = Solution()\n",
    "\n",
    "import numpy as np\n",
    "np.random.seed(0)\n",
    "arr = np.random.randint(0, 100, 10)\n",
    "n = len(arr)\n",
    "\n",
    "print(f\"排序前: {arr}\")\n",
    "Ans.mergeSort(arr, 0, n-1)\n",
    "print(f\"排序后: {arr}\")"
   ]
  }
 ],
 "metadata": {
  "kernelspec": {
   "display_name": "Python 3.9.12 ('base')",
   "language": "python",
   "name": "python3"
  },
  "language_info": {
   "codemirror_mode": {
    "name": "ipython",
    "version": 3
   },
   "file_extension": ".py",
   "mimetype": "text/x-python",
   "name": "python",
   "nbconvert_exporter": "python",
   "pygments_lexer": "ipython3",
   "version": "3.9.12"
  },
  "orig_nbformat": 4,
  "vscode": {
   "interpreter": {
    "hash": "901177bed68d7d4fbadb3177e755ced472e86ce1c03620f2ee52eeaae03fd4ab"
   }
  }
 },
 "nbformat": 4,
 "nbformat_minor": 2
}
