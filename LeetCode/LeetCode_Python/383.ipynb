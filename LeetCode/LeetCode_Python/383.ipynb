{
 "cells": [
  {
   "cell_type": "markdown",
   "metadata": {},
   "source": [
    "# 题目 赎金信\n",
    "\n",
    "* 给你两个字符串：ransomNote 和 magazine ，判断 ransomNote 能不能由 magazine 里面的字符构成。\n",
    "\n",
    "* 如果可以，返回 true ；否则返回 false 。\n",
    "\n",
    "* magazine 中的每个字符只能在 ransomNote 中使用一次。\n",
    "\n",
    " \n",
    "\n",
    "* 示例 1：\n",
    "\n",
    "    * 输入：ransomNote = \"a\", magazine = \"b\"\n",
    "    * 输出：false\n",
    "\n",
    "* 示例 2：\n",
    "    * 输入：ransomNote = \"aa\", magazine = \"ab\"\n",
    "    * 输出：false\n",
    "\n",
    "* 示例 3：\n",
    "\n",
    "    * 输入：ransomNote = \"aa\", magazine = \"aab\"\n",
    "    * 输出：true\n",
    " \n",
    "\n",
    "* 提示：\n",
    "\n",
    "    * 1 <= ransomNote.length, magazine.length <= 105\n",
    "    * ransomNote 和 magazine 由小写英文字母组成\n",
    "\n",
    "来源：力扣（LeetCode）\n",
    "链接：https://leetcode.cn/problems/ransom-note\n",
    "著作权归领扣网络所有。商业转载请联系官方授权，非商业转载请注明出处。"
   ]
  },
  {
   "cell_type": "markdown",
   "metadata": {},
   "source": [
    "# 分析:\n",
    "* 题目问的问题本质上就是: 字符有没有在另一个给定的字符串中出现过\n",
    "    # 问是否出现过, 通常使用哈希表去做\n",
    "\n",
    "# 思路:\n",
    "* 题目中不仅要求验证字母是否出现过, 还要求统计出现的次数, 因此我们不仅需要存储 字符本身(key), 还需记录出现的次数 (value)\n",
    "    * 数组和set都无法同时记录 key 和 value, 故用map"
   ]
  },
  {
   "cell_type": "code",
   "execution_count": null,
   "metadata": {},
   "outputs": [],
   "source": [
    "class Solution:\n",
    "    def canConstruct(self, ransomNote: str, magazine: str) -> bool:\n",
    "        \n",
    "        # 构建哈希表\n",
    "        hash_map = {}\n",
    "        for _, s in enumerate(magazine):\n",
    "            hash_map[ s ] = hash_map.get(s, 0) +1 \n",
    "        \n",
    "        # 遍历ransom, 检查元素是否够用\n",
    "        for _, s in enumerate(ransomNote):\n",
    "            hash_map[s] = hash_map.get(s, 0) - 1   # 没找到的话得到的结果是-1\n",
    "            if hash_map[s] == -1:\n",
    "                return False\n",
    "        \n",
    "        return True "
   ]
  },
  {
   "cell_type": "markdown",
   "metadata": {},
   "source": [
    "# 方法二 -- 讨巧用数组:\n",
    "* 因为题目里提到所有的字符都是小谢字母, 因此可以通过 ASCII 码 给转换成数组来统计\n",
    "    * 用数组的好处就是它比map 更快, 因为不需要计算 key 对应的 hashcode"
   ]
  },
  {
   "cell_type": "code",
   "execution_count": null,
   "metadata": {},
   "outputs": [],
   "source": [
    "class Solution:\n",
    "    def canConstruct(self, ransomNote: str, magazine: str) -> bool:\n",
    "        hash_array = [0]*26\n",
    "        for _, s in enumerate(magazine):\n",
    "            hash_array[ ord(s) - ord('a') ] += 1\n",
    "        \n",
    "        for _, s in enumerate(ransomNote):\n",
    "            hash_array[ ord(s) - ord('a') ] -= 1\n",
    "            if hash_array[ ord(s) - ord('a') ] < 0: \n",
    "                return False \n",
    "        return True"
   ]
  }
 ],
 "metadata": {
  "language_info": {
   "name": "python"
  },
  "orig_nbformat": 4
 },
 "nbformat": 4,
 "nbformat_minor": 2
}
