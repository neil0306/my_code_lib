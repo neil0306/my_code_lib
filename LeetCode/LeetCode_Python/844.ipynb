{
 "cells": [
  {
   "cell_type": "markdown",
   "metadata": {},
   "source": [
    "# 题目 -  844 比较含退格的字符串\n",
    "给定 s 和 t 两个字符串，当它们分别被输入到空白的文本编辑器后，如果两者相等，返回 true 。# 代表退格字符。\n",
    "\n",
    "注意：如果对空文本输入退格字符，文本继续为空。\n",
    "\n",
    "\n",
    "* 示例：\n",
    "输入：s = \"ab#c\", t = \"ad#c\"\n",
    "输出：true\n",
    "解释：s 和 t 都会变成 \"ac\"。    \n",
    "\n",
    "\n",
    "输入：s = \"ab##\", t = \"c#d#\"\n",
    "输出：true\n",
    "解释：s 和 t 都会变成 \"\"。\n",
    "\n",
    "\n",
    "输入：s = \"a#c\", t = \"b\"\n",
    "输出：false\n",
    "解释：s 会变成 \"c\"，但 t 仍然是 \"b\"。\n",
    "\n",
    "来源：力扣（LeetCode）\n",
    "链接：https://leetcode.cn/problems/backspace-string-compare\n",
    "著作权归领扣网络所有。商业转载请联系官方授权，非商业转载请注明出处。"
   ]
  },
  {
   "cell_type": "markdown",
   "metadata": {},
   "source": [
    "# 思路;\n",
    "    双指针法 —— 快慢指针：\n",
    "        定义处理退格符的函数：\n",
    "            当 fast 指向的元素为 #号 时，slow指针退一格\n",
    "            当 fast 指向元素为 非#号 时，将 fast 元素 与 slow 元素交换，并将 fast 和 slow 都前进一格\n",
    "            最后返回原字符串的 [0, slow] 范围的字符\n",
    "        比较处理退格后的字符串。"
   ]
  },
  {
   "cell_type": "code",
   "execution_count": 25,
   "metadata": {},
   "outputs": [],
   "source": [
    "class Solution:\n",
    "    def backspaceCompare(self, s, t) :\n",
    "        if self.remove_backspace(s) == self.remove_backspace(t):\n",
    "            return True\n",
    "        else:\n",
    "            return False \n",
    "    \n",
    "    def remove_backspace(self, string):\n",
    "        slow = 0\n",
    "        temp_string = list(string)\n",
    "        for fast in range(len(string)):\n",
    "            if temp_string[fast] != '#':\n",
    "                temp_string[slow] = temp_string[fast]\n",
    "                slow += 1\n",
    "                continue\n",
    "            slow -= 1\n",
    "            if slow < 0:\n",
    "                slow = 0    # 当出现多个#号时，可能退格到负数\n",
    "        return \"\".join(temp_string[:slow])"
   ]
  },
  {
   "cell_type": "code",
   "execution_count": 27,
   "metadata": {},
   "outputs": [
    {
     "data": {
      "text/plain": [
       "False"
      ]
     },
     "execution_count": 27,
     "metadata": {},
     "output_type": "execute_result"
    }
   ],
   "source": [
    "ans = Solution()\n",
    "s = \"a#c\"; t = \"cb##\"\n",
    "ans.backspaceCompare(s,t)"
   ]
  },
  {
   "cell_type": "code",
   "execution_count": 29,
   "metadata": {},
   "outputs": [
    {
     "name": "stdout",
     "output_type": "stream",
     "text": [
      "f\n",
      "f\n"
     ]
    }
   ],
   "source": [
    "s = \"y#fo##f\"\n",
    "t = \"y#f#o##f\"\n",
    "print(ans.remove_backspace(s))\n",
    "print(ans.remove_backspace(t))\n"
   ]
  }
 ],
 "metadata": {
  "kernelspec": {
   "display_name": "Python 3.9.12 ('base')",
   "language": "python",
   "name": "python3"
  },
  "language_info": {
   "codemirror_mode": {
    "name": "ipython",
    "version": 3
   },
   "file_extension": ".py",
   "mimetype": "text/x-python",
   "name": "python",
   "nbconvert_exporter": "python",
   "pygments_lexer": "ipython3",
   "version": "3.9.12"
  },
  "orig_nbformat": 4,
  "vscode": {
   "interpreter": {
    "hash": "901177bed68d7d4fbadb3177e755ced472e86ce1c03620f2ee52eeaae03fd4ab"
   }
  }
 },
 "nbformat": 4,
 "nbformat_minor": 2
}
