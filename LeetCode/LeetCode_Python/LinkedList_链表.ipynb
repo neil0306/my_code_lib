{
 "cells": [
  {
   "cell_type": "markdown",
   "metadata": {},
   "source": [
    "# 链表结构\n",
    "    * 单链表：\n",
    "        * 由 value（节点数据） 和 next 指针 组成\n",
    "        * 单链表中的指针域只能指向节点的下一个节点。\n",
    "\n",
    "![jupyter](https://img-blog.csdnimg.cn/20200806194529815.png)\n",
    "\n",
    "    * 双链表\n",
    "        * 每一个节点有两个指针域，一个指向下一个节点，一个指向上一个节点。\n",
    "        * 既可以向前查询也可以向后查询。    \n",
    "\n",
    "![jupyter](https://img-blog.csdnimg.cn/20200806194559317.png)\n",
    "\n",
    "    * 循环链表：\n",
    "        * 链表首尾相连。\n",
    "        * 循环链表可以用来解决约瑟夫环问题。\n",
    "![jupyter](https://img-blog.csdnimg.cn/20200806194629603.png)"
   ]
  },
  {
   "cell_type": "markdown",
   "metadata": {},
   "source": [
    "# 链表结构的代码构成：\n",
    "    * value\n",
    "    * next 指针, pre 指针\n",
    "    * 节点构造函数"
   ]
  },
  {
   "cell_type": "code",
   "execution_count": 1,
   "metadata": {},
   "outputs": [],
   "source": [
    "# Python 代码示例\n",
    "class ListNode:\n",
    "    def __init__(self, Val=0, Next = None, Pre = None):     ## 节点的构造函数，同时指定了「节点上存储的元素」、「指向下一个节点的指针」和「指向前一个节点的指针」；\n",
    "        self.val = Val\n",
    "        self.next = Next\n",
    "        self.pre = Pre    # 单链表的话没有pre"
   ]
  },
  {
   "cell_type": "markdown",
   "metadata": {},
   "source": [
    "# 链表的基本操作\n",
    "    * 删除节点\n",
    "        * 节点从链表上移出后，在C++中需要手动回收内存，Python中会自动回收\n",
    "![jupyter](https://img-blog.csdnimg.cn/20200806195114541.png)\n",
    "\n",
    "    * 增加节点\n",
    "![jupyter](https://img-blog.csdnimg.cn/20200806195134331.png)\n",
    "\n",
    "\n",
    "## 复杂度\n",
    "    * 删除时，最好的情况是删除第二个节点，此时只需要操作1次就行，时间复杂度是O(1)，最坏的情况是删除最后一个节点，我们需要访问到倒数第二个节点才能获得最后一个节点的指针，因此时间复杂度是O(n)\n",
    "\n",
    "    * 新增节点时间复杂度是O(1)\n",
    "    \n",
    "    * 空间复杂度都是O(1)"
   ]
  },
  {
   "cell_type": "markdown",
   "metadata": {},
   "source": [
    "# 链表 对比 数组\n",
    "![jupyter](https://img-blog.csdnimg.cn/20200806195200276.png)\n",
    "\n",
    "* 数组适用场景：\n",
    "    * 多查询: 时间复杂度 O(1) \n",
    "    * 少修改: 时间复杂度 O(n)\n",
    "    * 数据量固定: 增加数据要重新生成数组空间\n",
    "\n",
    "* 链表适用场景：\n",
    "    * 多修改: 增、删的时间复杂度都还好，大多数时候是O(1)\n",
    "    * 少查询: 查询需要遍历完前面所有节点\n",
    "    * 数据量不固定: 随时增、删"
   ]
  },
  {
   "cell_type": "markdown",
   "metadata": {},
   "source": [
    "# 相关题目：\n",
    "* 203 移除链表元素\n",
    "* 707 设计链表\n",
    "* 206 反转链表\n",
    "* 24 两两交换链表中的节点\n",
    "* 19 删除链表的倒数第N个节点\n",
    "* 160 链表相交（面试题）\n",
    "* 142 环形链表\n"
   ]
  },
  {
   "cell_type": "markdown",
   "metadata": {},
   "source": [
    "# 链表要点总结：\n",
    "![jupyter](https://code-thinking-1253855093.file.myqcloud.com/pics/%E9%93%BE%E8%A1%A8%E6%80%BB%E7%BB%93.png)"
   ]
  },
  {
   "cell_type": "code",
   "execution_count": null,
   "metadata": {},
   "outputs": [],
   "source": []
  }
 ],
 "metadata": {
  "kernelspec": {
   "display_name": "Python 3.9.12 ('base')",
   "language": "python",
   "name": "python3"
  },
  "language_info": {
   "codemirror_mode": {
    "name": "ipython",
    "version": 3
   },
   "file_extension": ".py",
   "mimetype": "text/x-python",
   "name": "python",
   "nbconvert_exporter": "python",
   "pygments_lexer": "ipython3",
   "version": "3.9.12"
  },
  "orig_nbformat": 4,
  "vscode": {
   "interpreter": {
    "hash": "901177bed68d7d4fbadb3177e755ced472e86ce1c03620f2ee52eeaae03fd4ab"
   }
  }
 },
 "nbformat": 4,
 "nbformat_minor": 2
}
