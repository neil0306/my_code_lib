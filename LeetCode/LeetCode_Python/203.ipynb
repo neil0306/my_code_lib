{
 "cells": [
  {
   "cell_type": "markdown",
   "metadata": {},
   "source": [
    "# 题目 203 移除链表元素\n",
    "\n",
    "给你一个链表的头节点 head 和一个整数 val ，请你删除链表中所有满足 Node.val == val 的节点，并返回 新的头节点 。\n",
    "\n",
    "* 示例 1：\n",
    "    * 输入：head = [1,2,6,3,4,5,6], val = 6\n",
    "    * 输出：[1,2,3,4,5]\n",
    "\n",
    "* 示例 2：\n",
    "    * 输入：head = [], val = 1\n",
    "    * 输出：[]\n",
    "\n",
    "* 示例 3：\n",
    "    * 输入：head = [7,7,7,7], val = 7\n",
    "    * 输出：[]\n",
    "\n",
    "* 提示：\n",
    "    * 列表中的节点数目在范围 [0, 104] 内\n",
    "    * 1 <= Node.val <= 50\n",
    "    * 0 <= val <= 50\n",
    "\n",
    "\n",
    "![jupyter](https://assets.leetcode.com/uploads/2021/03/06/removelinked-list.jpg)\n",
    "\n",
    "来源：力扣（LeetCode）\n",
    "链接：https://leetcode.cn/problems/remove-linked-list-elements\n",
    "著作权归领扣网络所有。商业转载请联系官方授权，非商业转载请注明出处。"
   ]
  },
  {
   "cell_type": "markdown",
   "metadata": {},
   "source": [
    "# 分析：\n",
    "    * 删除节点，本质上来说可以用下面的通用图来表示这个过程：\n",
    "        * 此时需要分成两种情况：\n",
    "        1. head 指向的值恰好是我们要移除的目标（因为head没有前一个元素，所以必须单独拿出来处理）\n",
    "        2. 移除的目标在链表的中间，直接使用下图的方式去移除即可\n",
    "![jupyter](https://img-blog.csdnimg.cn/20200806195114541.png)\n",
    "\n",
    "\n",
    "# 思路：\n",
    "    * 使用「原始/通用的移除方式」\n",
    "    * 使用虚拟头结点的方式"
   ]
  },
  {
   "cell_type": "code",
   "execution_count": 1,
   "metadata": {},
   "outputs": [],
   "source": [
    "# leetcode 中给好的[单链表节点]的定义代码：\n",
    "\n",
    "class ListNode:\n",
    "    def __init__(self, val=0, next=None):\n",
    "        self.val = val\n",
    "        self.next = next\n",
    "        \n",
    "        \n",
    "# 初始化一个链表的代码（利用上面的单链表定义）\n",
    "\n",
    "class LinkList:\n",
    "    def __init__(self):\n",
    "        self.head = None\n",
    "    \n",
    "    def initList(self, data):\n",
    "        '''\n",
    "        Convert List into a LinkList.\n",
    "        '''\n",
    "        if len(data) == 0:\n",
    "            return ListNode([])\n",
    "        \n",
    "        # 初始化头结点（先给value，next在for循环里赋值）\n",
    "        self.head = ListNode(data[0])  \n",
    "        res = self.head         # 头节点单独备份一下\n",
    "        pre = self.head         # 初始化 current 节点的前一个节点为 head\n",
    "        \n",
    "        # 用循环为 data 的其他元素创建链表节点\n",
    "        # 循环体里完成的内容： 1、 初始化current节点的val； 2、给current 节点的前一个节点的next赋值； 3、把 pre 节点更新为 current 节点\n",
    "        for i in data[1:]:\n",
    "            current_node = ListNode(i)  # 给 data 的第 i 个值创建节点, 此时 current_node 的 next 指向 None\n",
    "            pre.next = current_node     # head 的 next 在这里完成赋值，同时利用循环不断更新 current 节点的前一个节点的 next\n",
    "            \n",
    "            pre = pre.next              # 把 pre 更新成 current 节点， 此时 pre.next 为 None，如果下一次不再进入循环，则 pre.next 保持为 None，即pre或叫current就是链表最后一个节点\n",
    "        \n",
    "        return res\n",
    "\n",
    "# 打印已有链表\n",
    "def print_linked_list(head):\n",
    "    if head.next == None:\n",
    "        print('The given Head links to a Null LinkList!')\n",
    "        return 0\n",
    "    \n",
    "    current_node = head\n",
    "    while current_node != None:         \n",
    "        print(current_node.val, end=' ')\n",
    "        current_node = current_node.next            # current_node 最后一次会更新到 None，因为链表末尾的next为None"
   ]
  },
  {
   "cell_type": "code",
   "execution_count": 2,
   "metadata": {},
   "outputs": [
    {
     "name": "stdout",
     "output_type": "stream",
     "text": [
      "<class '__main__.ListNode'>\n",
      "1 2 3 4 5 6 "
     ]
    }
   ],
   "source": [
    "# 测试链表函数\n",
    "data = [1,2,3,4,5,6]\n",
    "L = LinkList()\n",
    "test_ll = L.initList(data)\n",
    "print(type(test_ll))\n",
    "\n",
    "# 打印链表（需要一个个node遍历才能打印出来）\n",
    "print_linked_list(test_ll)"
   ]
  },
  {
   "cell_type": "markdown",
   "metadata": {},
   "source": [
    "# 写法一： 分成head和非head节点进行删除"
   ]
  },
  {
   "cell_type": "code",
   "execution_count": 28,
   "metadata": {},
   "outputs": [],
   "source": [
    "# 写法 1： 原始方法移除节点\n",
    "\n",
    "# Definition for singly-linked list.\n",
    "from copy import deepcopy\n",
    "\n",
    "class Solution:\n",
    "    def removeElements(self, head, val: int):\n",
    "        # if type(head) is not ListNode:                    # 在leetcode中，head会被自动初始化，我们不做这个判断也行\n",
    "        #     return head\n",
    "        \n",
    "        # 当头指针指向target时\n",
    "        while (head != None and head.val == val):            # 用 while 防止在 head 之后连续出现多个 target 的情况下报错\n",
    "            head = head.next                                      # head一直移动到非target的位置\n",
    "        \n",
    "        # 通用的删除 node 操作\n",
    "        current = head                                            # 虚拟一个current指针，用来操作，head 留着，不然会找不到链表的表头 （此时head指向的对象是可能会发生变化的，因为head指针所指发生了变化）\n",
    "        # current = deepcopy(head)                                  # 经过测试，如果使用deepcopy的话，最后返回的链表并不会发生变化，会得到错误结果       \n",
    "        \n",
    "        while (current != None and current.next != None):         # 必须保证 current 本身是有效节点，同时，current之后还有节点才可以进行操作\n",
    "            if current.next.val == val:          \n",
    "                current.next = current.next.next                  # 被删除的节点永远是 「current.next」！！！！！！\n",
    "            else:\n",
    "                current = current.next\n",
    "        \n",
    "        return head"
   ]
  },
  {
   "cell_type": "code",
   "execution_count": 29,
   "metadata": {},
   "outputs": [
    {
     "name": "stdout",
     "output_type": "stream",
     "text": [
      "1 2 6 3 4 5 6 "
     ]
    }
   ],
   "source": [
    "s = Solution()\n",
    "\n",
    "# 测试用例 \n",
    "head = [1,2,6,3,4,5,6]; val = 6\n",
    "# head = []; val = 1\n",
    "# head = [7,7,7,7]; val = 7\n",
    "\n",
    "\n",
    "L = LinkList()\n",
    "test_ll = L.initList(head)\n",
    "\n",
    "res = s.removeElements(head=test_ll,val=val)\n",
    "if (res is not None) and res.val != []:\n",
    "    print_linked_list(res)"
   ]
  },
  {
   "cell_type": "markdown",
   "metadata": {},
   "source": [
    "# 写法二：使用虚拟头结点，把操作方式进行统一，代码显得简洁"
   ]
  },
  {
   "cell_type": "code",
   "execution_count": 20,
   "metadata": {},
   "outputs": [],
   "source": [
    "# 写法二 —— 虚拟头结点\n",
    "class Solution:\n",
    "    def removeElements(self, head, val: int):\n",
    "        \n",
    "        # 创建一个新的节点，作为虚拟头结点，它的next指向head\n",
    "        dummy_head = ListNode(0)        # dummy_head 取什么值无所谓\n",
    "        dummy_head.next = head\n",
    "        \n",
    "        current = dummy_head            # 被删除的节点永远是 「current.next」，所以current被放在虚拟头结点的位置，这样next就是head了，此时要删除头结点时，操作规则就和删除普通节点一致了\n",
    "        while current != None and current.next != None :\n",
    "            if current.next.val == val:\n",
    "                current.next = current.next.next    # 被删除的节点永远是 「current.next」！！！！！！\n",
    "            else:\n",
    "                current = current.next\n",
    "        \n",
    "        return dummy_head.next         # 不要 return head ！！ 因为head可能已经被我们删除了！我们返回的东西一定是与current最开始赋值的时候相关的变量，写法一是直接返回那时候的head，这里是返回虚拟头结点指向的head"
   ]
  },
  {
   "cell_type": "code",
   "execution_count": 23,
   "metadata": {},
   "outputs": [],
   "source": [
    "s = Solution()\n",
    "\n",
    "# 测试用例 \n",
    "head = [1,2,6,3,4,5,6]; val = 6\n",
    "head = []; val = 1\n",
    "head = [7,7,7,7]; val = 7\n",
    "\n",
    "\n",
    "L = LinkList()\n",
    "test_ll = L.initList(head)\n",
    "\n",
    "res = s.removeElements(head=test_ll,val=val)\n",
    "if (res is not None) and res.val != []:\n",
    "    print_linked_list(res)"
   ]
  }
 ],
 "metadata": {
  "kernelspec": {
   "display_name": "Python 3.9.12 ('base')",
   "language": "python",
   "name": "python3"
  },
  "language_info": {
   "codemirror_mode": {
    "name": "ipython",
    "version": 3
   },
   "file_extension": ".py",
   "mimetype": "text/x-python",
   "name": "python",
   "nbconvert_exporter": "python",
   "pygments_lexer": "ipython3",
   "version": "3.9.12"
  },
  "orig_nbformat": 4,
  "vscode": {
   "interpreter": {
    "hash": "901177bed68d7d4fbadb3177e755ced472e86ce1c03620f2ee52eeaae03fd4ab"
   }
  }
 },
 "nbformat": 4,
 "nbformat_minor": 2
}
