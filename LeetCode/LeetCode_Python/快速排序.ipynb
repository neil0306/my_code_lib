{
 "cells": [
  {
   "cell_type": "markdown",
   "metadata": {},
   "source": [
    "# 零碎知识收集 -- 快速排序(Quick Sort)\n",
    "* 快排思想:\n",
    "    1. 通常选取一个元素作为 **基准元素**, 通常选第一个元素, 称为基准元素.\n",
    "    2. 将待排序的元素进行区域划分 (分成2部分,一左一右), 比基准元素大的放在左侧, 比基准元素大的放在右侧\n",
    "    3. 重复 step 1 和 step 2, 这是一个递归过程, 直到所有元素都是有序状态\n",
    "\n",
    "\n",
    "* 所以可以把快速排序联想成东拆西补或西拆东补，一边拆一边补，直到所有元素达到有序状态。\n",
    "\n",
    "## 过程解析\n",
    "![jupyter](https://images0.cnblogs.com/blog2015/776259/201507/280754329387398.png)\n"
   ]
  },
  {
   "cell_type": "code",
   "execution_count": 1,
   "metadata": {},
   "outputs": [],
   "source": [
    "# class QuickSort():\n",
    "def quick_sort( arr, left, right):   # 因为要递归调用, 所以这里必须给两个指针\n",
    "    origin_left  = left\n",
    "    origin_right = right \n",
    "    \n",
    "    if (left<=right):                                           # 排序的时候起码两个元素\n",
    "        temp = arr[left]                                        # 取出基准元素\n",
    "        \n",
    "        # 排除掉元素不大于2的情况\n",
    "        while (left != right):                                  # 跳出递归的条件\n",
    "            \n",
    "            # 元素划分到左区:\n",
    "            while (left < right and arr[right] >= temp):        # 右向左遍历, 找到第一个小于 temp 的元素\n",
    "                right -= 1\n",
    "            arr[left] = arr[right]                              # 覆盖掉 left 的元素, 此时right的元素是重复的\n",
    "            \n",
    "            # 元素划分到右区\n",
    "            while (left < right and arr[left]<= temp):          # 左向右遍历, 找到第一个大于 temp 的元素, left刚被覆盖掉的元素是小于temp的, 所以无论如何 left 都会先右移一次\n",
    "                left += 1             \n",
    "            arr[right] = arr[left]                              # right 位置的元素被覆盖掉, 此时left的元素是重复的\n",
    "        \n",
    "        # 基准元素放回到数组里\n",
    "        arr[left] = temp                                        # 此时 left 和 right 是相等的\n",
    "        \n",
    "        # debug\n",
    "        print(arr)\n",
    "        \n",
    "        quick_sort(arr, origin_left, left -1)                   # 对左区间递归, 别忘记 left -1, 因为此时left=right\n",
    "        quick_sort(arr, right +1, origin_right)                 # 对右区间递归, 别忘记 right +1, 因为此时left=right\n",
    "    return arr"
   ]
  },
  {
   "cell_type": "code",
   "execution_count": 2,
   "metadata": {},
   "outputs": [
    {
     "name": "stdout",
     "output_type": "stream",
     "text": [
      "[1, 3, 5, 2, 4, 6, 11, 7]\n",
      "[1, 2, 3, 5, 4, 6, 11, 7]\n",
      "[1, 2, 3, 5, 4, 6, 11, 7]\n",
      "[1, 2, 3, 4, 5, 6, 11, 7]\n",
      "[1, 2, 3, 4, 5, 6, 11, 7]\n",
      "[1, 2, 3, 4, 5, 6, 11, 7]\n",
      "[1, 2, 3, 4, 5, 6, 7, 11]\n",
      "[1, 2, 3, 4, 5, 6, 7, 11]\n"
     ]
    },
    {
     "data": {
      "text/plain": [
       "[1, 2, 3, 4, 5, 6, 7, 11]"
      ]
     },
     "execution_count": 2,
     "metadata": {},
     "output_type": "execute_result"
    }
   ],
   "source": [
    "a = [1,3,5,2,4,6,11,7]\n",
    "# a = [0]\n",
    "# a = []\n",
    "quick_sort(a, 0, len(a)-1)"
   ]
  }
 ],
 "metadata": {
  "kernelspec": {
   "display_name": "Python 3.9.12 ('base')",
   "language": "python",
   "name": "python3"
  },
  "language_info": {
   "codemirror_mode": {
    "name": "ipython",
    "version": 3
   },
   "file_extension": ".py",
   "mimetype": "text/x-python",
   "name": "python",
   "nbconvert_exporter": "python",
   "pygments_lexer": "ipython3",
   "version": "3.9.12"
  },
  "orig_nbformat": 4,
  "vscode": {
   "interpreter": {
    "hash": "901177bed68d7d4fbadb3177e755ced472e86ce1c03620f2ee52eeaae03fd4ab"
   }
  }
 },
 "nbformat": 4,
 "nbformat_minor": 2
}
