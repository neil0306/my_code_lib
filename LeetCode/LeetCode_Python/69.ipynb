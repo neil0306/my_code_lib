{
 "cells": [
  {
   "cell_type": "markdown",
   "metadata": {},
   "source": [
    "# 题目\n",
    "给你一个非负整数 x ，计算并返回 x 的 算术平方根 。\n",
    "\n",
    "由于返回类型是整数，结果只保留 整数部分 ，小数部分将被 舍去 。\n",
    "\n",
    "注意：不允许使用任何内置指数函数和算符，例如 pow(x, 0.5) 或者 x ** 0.5 。\n",
    "\n",
    "示例：\n",
    "输入：x = 4\n",
    "输出：2\n",
    "\n",
    "输入：x = 8\n",
    "输出：2\n",
    "解释：8 的算术平方根是 2.82842..., 由于返回类型是整数，小数部分将被舍去。\n",
    "\n",
    "\n",
    "\n",
    "* 提示：\n",
    "    * 0 <= x <= 2^31 - 1\n",
    "\n",
    "来源：力扣（LeetCode）\n",
    "链接：https://leetcode.cn/problems/sqrtx\n",
    "著作权归领扣网络所有。商业转载请联系官方授权，非商业转载请注明出处。"
   ]
  },
  {
   "cell_type": "markdown",
   "metadata": {},
   "source": [
    "# （Ning） 思路：\n",
    "## 二分法\n",
    "    * 题目中虽然没有明确给出二分法的特征（有序，不重复），但是从给的示例中可以看出来，它是向左侧取整的，本质上，向右侧取整也是可以使用二分的。\n",
    "    * 二分法的思路是，先找到一个中间值，然后判断中间值的平方是否等于x，如果不等于，就判断中间值的平方是否大于x，如果大于，就在中间值的左边继续找，如果小于，就在中间值的右边继续找，直到找到一个平方等于x的值，或者找不到，就返回最后一个小于x的值。"
   ]
  },
  {
   "cell_type": "code",
   "execution_count": 17,
   "metadata": {},
   "outputs": [],
   "source": [
    "class Solution:\n",
    "    def mySqrt(self, x):\n",
    "        return self.dichotomy(x)\n",
    "\n",
    "    def dichotomy(self, target):\n",
    "        '''\n",
    "        找左边界\n",
    "        '''\n",
    "        left = 0\n",
    "        right = target\n",
    "        \n",
    "        while left <= right:\n",
    "            mid = left + (right-left)//2\n",
    "            mid_value = mid * mid\n",
    "\n",
    "            if mid_value < target:\n",
    "                left = mid +1   \n",
    "            elif mid_value > target:\n",
    "                right = mid -1\n",
    "            else:\n",
    "                return mid\n",
    "        \n",
    "        return left -1            # left 最后一次更新是 left = mid +1，此时 left 是「最靠近target的左侧元素的下一个」，所以，如果target在nums里，则此时返回的left必定是target的index"
   ]
  },
  {
   "cell_type": "code",
   "execution_count": 20,
   "metadata": {},
   "outputs": [
    {
     "data": {
      "text/plain": [
       "2"
      ]
     },
     "execution_count": 20,
     "metadata": {},
     "output_type": "execute_result"
    }
   ],
   "source": [
    "s=Solution()\n",
    "\n",
    "x=8\n",
    "s.mySqrt(x)"
   ]
  },
  {
   "cell_type": "markdown",
   "metadata": {},
   "source": [
    "# 哔哩哔哩的解法：\n",
    "https://www.bilibili.com/video/BV16L411P7Ju/?spm_id_from=333.788&vd_source=7cf7026bc2c23d0b0b88a3094e5ce55a\n",
    "\n",
    "# 解法思路：\n",
    "    * 假设k是答案，则k满足：\n",
    "        * k一定位于 [0,x] 之间\n",
    "        * 把 [0,x] 进行二分，左侧区间 [0,k] 一定满足 k^2 <= x， 右侧区间一定满足 k^2 > x\n",
    "            * 针对左区间的边界更新 (k有可能是答案) ： left = k\n",
    "            * 针对右区间的边界更新 (k不可能是答案)： right = k -1\n",
    "    * 复杂度：二分的时间复杂度是 O(log n)， 不需要根据nums 的大小开辟更大的空间，空间复杂度是 O(1)"
   ]
  },
  {
   "cell_type": "code",
   "execution_count": 37,
   "metadata": {},
   "outputs": [],
   "source": [
    "class Solution:\n",
    "    def mySqrt(self, x):\n",
    "        left = 0\n",
    "        right = x\n",
    "        \n",
    "        # 写法1： 左闭右开\n",
    "        # while (left < right):                   # 注意是 left < right ， 左闭右开\n",
    "        #     mid = left + (right-left)//2 + 1    # +1 防止死循环\n",
    "            \n",
    "        #     # if mid*mid <= x:    # 左侧区间 （k就是mid）\n",
    "        #     if mid <= x/mid:      # 左区间，用除法防止溢出\n",
    "        #         left = mid\n",
    "        #     else:\n",
    "        #         right = mid -1  # 右侧区间\n",
    "        # return left\n",
    "    \n",
    "        # 写法2：左闭右闭（需要仔细调整 mid 和 right）\n",
    "        while (left <= right):    # 区间是 左闭右闭\n",
    "            mid = left + (right-left)//2   + 1    # +1 防止死循环，如果不+1, 最后一次更新 left = mid 的时候（right保持 mid-1）， left会等于right，陷入死循环\n",
    "            \n",
    "            # if mid*mid <= x:    # 左侧区间 （k就是mid）\n",
    "            if mid <= x/mid:      # 左区间，用除法防止溢出，k就是mid，但是k要包含在区间的左侧\n",
    "                left = mid\n",
    "            else:\n",
    "                right = mid -2    # 右侧区间, 正常情况下应该是 mid -1，但是为了防止死循环，mid在上面+1了，所以这里调整为-2\n",
    "        return left"
   ]
  },
  {
   "cell_type": "code",
   "execution_count": 38,
   "metadata": {},
   "outputs": [
    {
     "data": {
      "text/plain": [
       "2"
      ]
     },
     "execution_count": 38,
     "metadata": {},
     "output_type": "execute_result"
    }
   ],
   "source": [
    "s = Solution()\n",
    "\n",
    "x = 8\n",
    "s.mySqrt(x)"
   ]
  }
 ],
 "metadata": {
  "kernelspec": {
   "display_name": "Python 3.9.12 ('base')",
   "language": "python",
   "name": "python3"
  },
  "language_info": {
   "codemirror_mode": {
    "name": "ipython",
    "version": 3
   },
   "file_extension": ".py",
   "mimetype": "text/x-python",
   "name": "python",
   "nbconvert_exporter": "python",
   "pygments_lexer": "ipython3",
   "version": "3.9.12"
  },
  "orig_nbformat": 4,
  "vscode": {
   "interpreter": {
    "hash": "901177bed68d7d4fbadb3177e755ced472e86ce1c03620f2ee52eeaae03fd4ab"
   }
  }
 },
 "nbformat": 4,
 "nbformat_minor": 2
}
