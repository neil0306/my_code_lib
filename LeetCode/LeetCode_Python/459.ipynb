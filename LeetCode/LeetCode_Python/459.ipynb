{
 "cells": [
  {
   "cell_type": "markdown",
   "metadata": {},
   "source": [
    "# 题目: 459 重复的子字符串\n",
    "\n",
    "* 给定一个非空的字符串 s ，检查是否可以通过由它的一个子串重复多次构成。\n",
    "\n",
    "\n",
    "\n",
    "* 示例 1:\n",
    "\n",
    "    * 输入: s = \"abab\"\n",
    "    * 输出: true\n",
    "    * 解释: 可由子串 \"ab\" 重复两次构成。\n",
    "\n",
    "\n",
    "* 示例 2:\n",
    "\n",
    "    * 输入: s = \"aba\"\n",
    "    * 输出: false\n",
    "\n",
    "* 示例 3:\n",
    "\n",
    "    * 输入: s = \"abcabcabcabc\"\n",
    "    * 输出: true\n",
    "    * 解释: 可由子串 \"abc\" 重复四次构成。 (或子串 \"abcabc\" 重复两次构成。)\n",
    " \n",
    "\n",
    "* 提示：\n",
    "\n",
    "    * 1 <= s.length <= $10^4$\n",
    "    * s 由小写英文字母组成\n",
    "\n",
    "来源：力扣（LeetCode）\n",
    "链接：https://leetcode.cn/problems/repeated-substring-pattern\n",
    "著作权归领扣网络所有。商业转载请联系官方授权，非商业转载请注明出处。\n"
   ]
  },
  {
   "cell_type": "markdown",
   "metadata": {},
   "source": [
    "# 思路(不详细解释版本):\n",
    "* 这道题可以用 KMP算法 进行求解, 求解的关键就是理解 '最长相等前后缀的长度' 指的是什么意思\n",
    "    * 拿到最长相等前后缀之后, 假设原字符串是 s, 那么只需要判断  len(s) % (len(s)-next[-1]) == 0 即可, 如果为 True, 则说明这个子串重复出现并构成了s.\n",
    "\n",
    "![jupyter](https://code-thinking-1253855093.file.myqcloud.com/pics/20220728205249.png)\n",
    "\n",
    "![jupyter](https://code-thinking-1253855093.file.myqcloud.com/pics/20220728212157.png)\n",
    "\n",
    "## 实现方法: \n",
    "* 对 s 求出 next 数组\n",
    "    * 判断 len(s) % (len(s) - next[-1]) == 0"
   ]
  },
  {
   "cell_type": "code",
   "execution_count": 14,
   "metadata": {},
   "outputs": [],
   "source": [
    "class Solution:\n",
    "    def repeatedSubstringPattern(self, s: str) -> bool:\n",
    "        \n",
    "        next_arr =  self.next_arr(s)\n",
    "        \n",
    "        if next_arr[-1] == -1:                                   # 说明字符串有最长相同的前后缀\n",
    "            return False \n",
    "        elif len(s) % (len(s) - (next_arr[-1] +1) ) == 0:        # next_arr[-1] 这里表示的不是 \"最长相等前后缀的长度的下标\", 而是这个下标减1, 所以需要补偿回来\n",
    "            return True\n",
    "        \n",
    "        return False\n",
    "    \n",
    "    def next_arr(self, s):\n",
    "        \"\"\"\n",
    "        构建 next 数组, 这里用 \"最长相等前后缀的长度减1\" 的方式实现 next 数组.\n",
    "            j 指向前缀末尾(同时也是 j 之前[包含j] 子串的最长相等前后缀的长度减1, 减1是next数组的实现方式决定的 ), i 指向后缀末尾.\n",
    "        \"\"\"\n",
    "        # 初始化:\n",
    "        res = [\"\" for _ in range(len(s))]           # next 数组\n",
    "        j = -1\n",
    "        res[0] = j \n",
    "        \n",
    "        for i in range(1, len(s)):                  # 注意 i 从1开始遍历\n",
    "            \n",
    "            # 处理 不相等 的情况\n",
    "            while j > -1 and s[i] != s[j+1]:\n",
    "                j = res[j]                          # 当前字符不匹配, 跳转到前一个字符对应的最长相等前后缀的位置, 用 while 可以不断往字符串的起始方向寻找\n",
    "            \n",
    "            # 处理 相等的情况\n",
    "            if s[i] == s[j+1]:\n",
    "                j += 1\n",
    "            \n",
    "            res[i] = j\n",
    "        \n",
    "        return res "
   ]
  },
  {
   "cell_type": "code",
   "execution_count": 13,
   "metadata": {},
   "outputs": [
    {
     "name": "stdout",
     "output_type": "stream",
     "text": [
      "[-1, -1, -1, 0, 1, 2, 3, 4, 5, 6, 7, 8]\n"
     ]
    },
    {
     "data": {
      "text/plain": [
       "True"
      ]
     },
     "execution_count": 13,
     "metadata": {},
     "output_type": "execute_result"
    }
   ],
   "source": [
    "ans = Solution()\n",
    "\n",
    "s = \"abab\"\n",
    "s = \"abcabcabcabc\"\n",
    "# s = \"1\"\n",
    "# s = \"abac\"\n",
    "print(ans.next_arr(s))\n",
    "ans.repeatedSubstringPattern(s)"
   ]
  },
  {
   "cell_type": "code",
   "execution_count": 3,
   "metadata": {},
   "outputs": [
    {
     "data": {
      "text/plain": [
       "[-1, -1, -1, 0, 1, 2, 3, 4, 5, 6, 7, 8]"
      ]
     },
     "execution_count": 3,
     "metadata": {},
     "output_type": "execute_result"
    }
   ],
   "source": [
    "# 草稿, 默写一次生成next矩阵(减1版本)\n",
    "def next_arr(s):\n",
    "    j = -1\n",
    "    next_arr = [0]*len(s)\n",
    "    next_arr[0] = -1\n",
    "    \n",
    "    for i in range(1, len(s)):\n",
    "        \n",
    "        while j>-1 and s[i] != s[j+1]:\n",
    "            j = next_arr[j]\n",
    "        \n",
    "        if s[i] == s[j+1]:\n",
    "            j+=1\n",
    "        \n",
    "        next_arr[i] = j\n",
    "        \n",
    "    return next_arr\n",
    "\n",
    "# 测试一下:\n",
    "s = \"abcabcabcabc\"     # [-1, -1, -1, 0, 1, 2, 3, 4, 5, 6, 7, 8]\n",
    "next_arr(s)"
   ]
  }
 ],
 "metadata": {
  "kernelspec": {
   "display_name": "Python 3.9.12 ('base')",
   "language": "python",
   "name": "python3"
  },
  "language_info": {
   "codemirror_mode": {
    "name": "ipython",
    "version": 3
   },
   "file_extension": ".py",
   "mimetype": "text/x-python",
   "name": "python",
   "nbconvert_exporter": "python",
   "pygments_lexer": "ipython3",
   "version": "3.9.12"
  },
  "orig_nbformat": 4,
  "vscode": {
   "interpreter": {
    "hash": "901177bed68d7d4fbadb3177e755ced472e86ce1c03620f2ee52eeaae03fd4ab"
   }
  }
 },
 "nbformat": 4,
 "nbformat_minor": 2
}
