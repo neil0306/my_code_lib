{
 "cells": [
  {
   "cell_type": "markdown",
   "metadata": {},
   "source": [
    "# 题目: 四数之和 (先做完3数之和再做这题)\n",
    "\n",
    "* 给你一个由 n 个整数组成的数组 nums ，和一个目标值 target 。请你找出并返回满足下述全部条件且不重复的四元组 [nums[a], nums[b], nums[c], nums[d]] （若两个四元组元素一一对应，则认为两个四元组重复）：\n",
    "\n",
    "    * 0 <= a, b, c, d < n\n",
    "    * a、b、c 和 d 互不相同\n",
    "    * nums[a] + nums[b] + nums[c] + nums[d] == target\n",
    "    * 你可以按 任意顺序 返回答案 。\n",
    "\n",
    " \n",
    "\n",
    "* 示例 1：\n",
    "\n",
    "    * 输入：nums = [1,0,-1,0,-2,2], target = 0\n",
    "    * 输出：[[-2,-1,1,2],[-2,0,0,2],[-1,0,0,1]]\n",
    "\n",
    "* 示例 2：\n",
    "\n",
    "    * 输入：nums = [2,2,2,2,2], target = 8\n",
    "    * 输出：[[2,2,2,2]]\n",
    " \n",
    "\n",
    "* 提示：\n",
    "\n",
    "    * 1 <= nums.length <= 200\n",
    "    * -$10^9$ <= nums[i] <= $10^9$\n",
    "    * -$10^9$ <= target <= $10^9$\n",
    "\n",
    "来源：力扣（LeetCode）\n",
    "链接：https://leetcode.cn/problems/4sum\n",
    "著作权归领扣网络所有。商业转载请联系官方授权，非商业转载请注明出处。"
   ]
  },
  {
   "cell_type": "markdown",
   "metadata": {},
   "source": [
    "# 分析\n",
    "* a b c d 是数组的下标, 4个数的下标不能相同\n",
    "* 这里返回的还是数值, 不需要返回 index, 所以可以提前进行一次排序\n",
    "\n",
    "\n",
    "# 思路:\n",
    "* 执行逻辑和 [15 三数之和](https://leetcode.cn/problems/3sum/) 很像, 都需要进行剪枝和去重的操作\n",
    "    * 剪枝在这里指的是 减少 无意义的遍历\n",
    "    * 因为是4个数, 所以本质上就是自爱 三数之和 题目的基础上再加一层for循环去遍历, 同样的, 用哈希表法由于构建哈希表太耗时, 不推荐\n",
    "    * 用双指针法进行求解\n",
    "\n",
    "# 代码需要注意的细节:\n",
    "* 不要判断nums[k] > target 就返回了，三数之和 可以通过 nums[i] > 0 就返回了，因为 0 已经是确定的数了，四数之和这道题目 target是任意值。\n",
    "    * 比如：数组是[-4, -3, -2, -1]，target是-10，不能因为-4 > -10而跳过。\n",
    "    * 但是我们依旧可以去做剪枝，逻辑变成nums[i] > target && (nums[i] >=0 || target >= 0)就可以了。\n",
    "    * 这里不对 k 进行判断\n",
    "\n",
    "* [15.三数之和](https://leetcode.cn/problems/3sum/) 的双指针解法是一层for循环num[i]为确定值，然后循环内有left和right下标作为双指针，找到nums[i] + nums[left] + nums[right] == 0。\n",
    "\n",
    "    * 四数之和的双指针解法是两层for循环, 最外层是k里层是i, nums[k] + nums[i]为确定值，依然是循环内有left和right下标作为双指针，找出nums[k] + nums[i] + nums[left] + nums[right] == target的情况，三数之和的时间复杂度是$O(n^2)$，四数之和的时间复杂度是$O(n^3)$\n",
    "\n",
    "    * 之后的 x 数之和 也是用这样的思路即可:\n",
    "        * 以三数之和为基准, 里面用双指针,\n",
    "        * 多一个数求和就在外面加一层循环, 这层循环里要针对这个数进行一次去重和剪枝, 否则效率不高\n",
    "\n"
   ]
  },
  {
   "cell_type": "code",
   "execution_count": 3,
   "metadata": {},
   "outputs": [],
   "source": [
    "class Solution:\n",
    "    def fourSum(self, nums, target) :\n",
    "        res = []\n",
    "        \n",
    "        # 先排序\n",
    "        nums = sorted(nums)\n",
    "        \n",
    "        # 先遍历第一个数 a\n",
    "        for k in range(len(nums)):\n",
    "            if nums[k] > target and (nums[k]>=0 or target >=0 ):            # 一级剪枝: 需要注意 target 可以是负数, 所以需要添加第二个判断条件\n",
    "                    break\n",
    "            if k > 0 and nums[k] == nums[k-1]:                              # 一级去重, 注意是 k 和 k-1 对比, 去重逻辑可以参考 三数之和\n",
    "                continue                \n",
    "            \n",
    "            # 遍历 第二个数 b, 从 k+1 开始 \n",
    "            for i in range( k+1, len(nums)):\n",
    "                temp_sec = nums[i] + nums[k]                  \n",
    "                if temp_sec > target and  temp_sec >= 0:                        # 二级剪枝, 注意第二个判断条件是 >=0\n",
    "                                                                                # 更简单的剪枝判断写法是 temp_sec > target and nums[i]>0, 因为满足第一个条件之后, \n",
    "                                                                                # 只要 nums[i]>0, 后面的两个元素就必然大于0, 这说明之后的c d 数值都不可能满足条件\n",
    "                    break\n",
    "                \n",
    "                if i > k+1 and nums[i] == nums[i-1]:                            # 二级去重 -- 针对 nums[i]去重, 即对 b 去重, 注意 i 要在k+2时才进行去重 \n",
    "                                                                                # 此时可以实现 a 与 b 非相连的情况 \n",
    "                    continue \n",
    "                \n",
    "                # 双指针法: \n",
    "                left = i + 1\n",
    "                right = len(nums) -1\n",
    "                \n",
    "                # 双指针的移动  \n",
    "                while left < right:\n",
    "                    if nums[k] + nums[i] + nums[left] + nums[right] > target:    # 如果是 C++ 的话, 这里需要注意溢出问题, 使用long类型可以防止溢出\n",
    "                        right -= 1\n",
    "                    elif nums[k] + nums[i] + nums[left] + nums[right] < target:\n",
    "                        left += 1\n",
    "                    else:\n",
    "                        res.append([nums[k], nums[i], nums[left], nums[right]])\n",
    "                        \n",
    "                        # 针对 left, right 去重, 也就是 c d 去重\n",
    "                        while left<right and nums[left]==nums[left +1]:\n",
    "                            left +=1 \n",
    "                        while left<right and nums[right]==nums[right -1]:\n",
    "                            right -=1\n",
    "                        \n",
    "                        right -=1\n",
    "                        left +=1 \n",
    "        return res\n",
    "        \n",
    "        "
   ]
  },
  {
   "cell_type": "code",
   "execution_count": 4,
   "metadata": {},
   "outputs": [
    {
     "data": {
      "text/plain": [
       "[[2, 2, 2, 2]]"
      ]
     },
     "execution_count": 4,
     "metadata": {},
     "output_type": "execute_result"
    }
   ],
   "source": [
    "s = Solution()\n",
    "nums = [1,0,-1,0,-2,2]; target = 0 \n",
    "nums = [2,2,2,2,2]; target = 8\n",
    "\n",
    "s.fourSum(nums, target)"
   ]
  }
 ],
 "metadata": {
  "kernelspec": {
   "display_name": "Python 3.9.12 ('base')",
   "language": "python",
   "name": "python3"
  },
  "language_info": {
   "codemirror_mode": {
    "name": "ipython",
    "version": 3
   },
   "file_extension": ".py",
   "mimetype": "text/x-python",
   "name": "python",
   "nbconvert_exporter": "python",
   "pygments_lexer": "ipython3",
   "version": "3.9.12"
  },
  "orig_nbformat": 4,
  "vscode": {
   "interpreter": {
    "hash": "901177bed68d7d4fbadb3177e755ced472e86ce1c03620f2ee52eeaae03fd4ab"
   }
  }
 },
 "nbformat": 4,
 "nbformat_minor": 2
}
