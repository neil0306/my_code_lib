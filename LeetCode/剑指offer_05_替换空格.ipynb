{
 "cells": [
  {
   "cell_type": "markdown",
   "metadata": {},
   "source": [
    "# 题目: 剑指offer 05 替换空格\n",
    "\n",
    "* 请实现一个函数，把字符串 s 中的每个空格替换成\"%20\"。\n",
    "\n",
    " \n",
    "\n",
    "* 示例 1：\n",
    "\n",
    "    * 输入：s = \"We are happy.\"\n",
    "    * 输出：\"We%20are%20happy.\"\n",
    "\n",
    "来源：力扣（LeetCode）\n",
    "链接：https://leetcode.cn/problems/ti-huan-kong-ge-lcof\n",
    "著作权归领扣网络所有。商业转载请联系官方授权，非商业转载请注明出处。"
   ]
  },
  {
   "cell_type": "markdown",
   "metadata": {},
   "source": [
    "# 思路一: (我自己的想法) -- 使用额外空间\n",
    "* 由于string类型是不可变类型, 我们需要先把它转成 list, 修改好之后再拼接回来"
   ]
  },
  {
   "cell_type": "code",
   "execution_count": null,
   "metadata": {},
   "outputs": [],
   "source": [
    "# 遍历两次字符串\n",
    "class Solution:\n",
    "    def replaceSpace(self, s) -> str:\n",
    "        # temp_s = [i for i in s]\n",
    "        temp_s = list(s)                # 分词 并转成 list, 本质上是遍历了一次字符串\n",
    "        \n",
    "        for i in range(len(temp_s)):\n",
    "            if temp_s[i] == ' ':\n",
    "                temp_s[i] = '%20'\n",
    "        return \"\".join(temp_s)\n"
   ]
  },
  {
   "cell_type": "code",
   "execution_count": 1,
   "metadata": {},
   "outputs": [],
   "source": [
    "# 上面写法的改进, 只遍历一次字符串\n",
    "class Solution:\n",
    "    def replaceSpace(self, s) -> str:\n",
    "        temp_s = []\n",
    "        for i in range(len(s)):\n",
    "            if s[i] == ' ':\n",
    "                temp_s.append('%20')\n",
    "            else:\n",
    "                temp_s.append(s[i])\n",
    "        return \"\".join(temp_s)"
   ]
  },
  {
   "cell_type": "markdown",
   "metadata": {},
   "source": [
    "# 思路二 (代码随想录的做法) -- 额外空间+双指针\n",
    "* 先调用库函数, 把 空格符号的个数 统计出来  -- 时间复杂度O(n)\n",
    "* 创建一个额外空间, 空间大小比数组大, 增大的部分是 空格数量*2   (*2 是因为空格替换成3个字符, 空格本身占一个, 另外还需要2个空间)\n",
    "\n",
    "![juoyter](https://code-thinking.cdn.bcebos.com/gifs/%E6%9B%BF%E6%8D%A2%E7%A9%BA%E6%A0%BC.gif)"
   ]
  },
  {
   "cell_type": "code",
   "execution_count": 2,
   "metadata": {},
   "outputs": [],
   "source": [
    "class Solution:\n",
    "    def replaceSpace(self, s) -> str:\n",
    "        counter = s.count(' ')      # 统计字符串中空格的数量\n",
    "        \n",
    "        res = list(s)               # 本质上遍历了一次字符串, 同时使用了额外空间\n",
    "        \n",
    "        res.extend( [' ' ] * counter * 2 )   # 扩展空间,  每碰到一个空格就多拓展两个格子，1 + 2 = 3个位置存’%20‘\n",
    "        \n",
    "        # 双指针, 注意从末尾开始遍历\n",
    "        left, right = len(s)-1, len(res) -1 \n",
    "        while left >= 0:        \n",
    "            if res[left] != ' ':        # 没遇到空格时, 直接交换元素\n",
    "                res[right] = res[left]\n",
    "                right -= 1\n",
    "        \n",
    "            else:\n",
    "                res[right-2: right+1] = '%20'         # 注意索引的时候是 左闭右开的空间: [right-2, right)\n",
    "                right -= 3\n",
    "\n",
    "            left -= 1                   # 不管怎么跳, left 每次移动一格, 因为它是从 len(s)-1 开始遍历的\n",
    "        \n",
    "        return \"\".join(res)"
   ]
  }
 ],
 "metadata": {
  "kernelspec": {
   "display_name": "Python 3.9.12 ('base')",
   "language": "python",
   "name": "python3"
  },
  "language_info": {
   "codemirror_mode": {
    "name": "ipython",
    "version": 3
   },
   "file_extension": ".py",
   "mimetype": "text/x-python",
   "name": "python",
   "nbconvert_exporter": "python",
   "pygments_lexer": "ipython3",
   "version": "3.9.12"
  },
  "orig_nbformat": 4,
  "vscode": {
   "interpreter": {
    "hash": "901177bed68d7d4fbadb3177e755ced472e86ce1c03620f2ee52eeaae03fd4ab"
   }
  }
 },
 "nbformat": 4,
 "nbformat_minor": 2
}
