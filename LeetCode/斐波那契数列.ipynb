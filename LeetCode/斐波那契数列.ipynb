{
 "cells": [
  {
   "cell_type": "markdown",
   "metadata": {},
   "source": [
    "# 斐波那契数列\n",
    "* 题目来自浦发银行曾经出过的题目: 求N阶楼梯共有多少种上楼方式，每次只能上1个或2个台阶。\n",
    "    * 题目变体: 兔子在出生两个月后，就有繁殖能力，一对兔子每个月能生出一对小兔子来。如果所有兔子都不死，那么一年以后可以繁殖多少对兔子？\n",
    "\n",
    "* 分析: \n",
    "    * 除了n=1和n=2两种情况,是固定的走法外;\n",
    "\n",
    "    * 走n阶台阶时,可以在n-2个台阶的基础上一次走2个台阶,也可以在n-1个台阶的基础上走1个台阶; 总共走法是: (每次只走1个台阶的走法 + 每次只走2个台阶的走法);\n",
    "    * 也就是f(n)=f(n-1)+f(n-2),这个公式就是著名的斐波那契数列,也叫黄金分割数列、兔子数列."
   ]
  },
  {
   "cell_type": "code",
   "execution_count": 5,
   "metadata": {},
   "outputs": [
    {
     "data": {
      "text/plain": [
       "89"
      ]
     },
     "execution_count": 5,
     "metadata": {},
     "output_type": "execute_result"
    }
   ],
   "source": [
    "# 未优化版本  --- 直接按照公式递归\n",
    "def febonachi(n):\n",
    "    if n == 1:\n",
    "        return 1\n",
    "    if n == 2:\n",
    "        return 2\n",
    "    return febonachi(n-1) + febonachi(n-2)\n",
    "\n",
    "# 时间复杂度 O(n^n)\n",
    "\n",
    "# 测试\n",
    "n = 10\n",
    "febonachi(n)"
   ]
  },
  {
   "cell_type": "markdown",
   "metadata": {},
   "source": [
    "## 优化理由 -- 明显在计算n时,会计算两次n-2,时间复杂度是 $O(n^n)$, 效率相当低的算法了.\n",
    "\n",
    "* 既然在计算f(n-1)时,已经计算了f(n-2),那只要将计算值记录下来,加运算的f(n-2)部分也就不需要二次计算了;\n",
    "* 再优化下,在计算f(n)时需要先计算出来f(n-1),这样就需要压栈,这在空间复杂度上也不是最优,既然需要先计算出f(n-1),才能计算出f(n),那按此思路实现下,先计算f(n-1),再计算f(n).\n"
   ]
  },
  {
   "cell_type": "code",
   "execution_count": 6,
   "metadata": {},
   "outputs": [
    {
     "data": {
      "text/plain": [
       "89"
      ]
     },
     "execution_count": 6,
     "metadata": {},
     "output_type": "execute_result"
    }
   ],
   "source": [
    "# 优化版本  --- 递归 + 缓存\n",
    "def febonachi(n):\n",
    "    if n == 1:\n",
    "        return 1\n",
    "    if n == 2:\n",
    "        return 2\n",
    "    n1 = 2          # n-1, 走1步, 有两种走法\n",
    "    n2 = 1          # n-2, 走2步, 有一种走法  \n",
    "    nn = 0          \n",
    "    for _ in range(3,n+1,1):\n",
    "        nn = n1 + n2\n",
    "        n2 = n1\n",
    "        n1 = nn\n",
    "    \n",
    "    return nn\n",
    "\n",
    "# 时间复杂度 O(n)\n",
    "\n",
    "n = 10\n",
    "febonachi(n)"
   ]
  }
 ],
 "metadata": {
  "kernelspec": {
   "display_name": "Python 3.9.12 ('base')",
   "language": "python",
   "name": "python3"
  },
  "language_info": {
   "codemirror_mode": {
    "name": "ipython",
    "version": 3
   },
   "file_extension": ".py",
   "mimetype": "text/x-python",
   "name": "python",
   "nbconvert_exporter": "python",
   "pygments_lexer": "ipython3",
   "version": "3.9.12"
  },
  "orig_nbformat": 4,
  "vscode": {
   "interpreter": {
    "hash": "901177bed68d7d4fbadb3177e755ced472e86ce1c03620f2ee52eeaae03fd4ab"
   }
  }
 },
 "nbformat": 4,
 "nbformat_minor": 2
}
