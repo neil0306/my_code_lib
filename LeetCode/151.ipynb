{
 "cells": [
  {
   "cell_type": "markdown",
   "metadata": {},
   "source": [
    "# 题目 反转字符串中的单词\n",
    "\n",
    "* 给你一个字符串 s ，请你反转字符串中 单词 的顺序。\n",
    "\n",
    "* 单词 是由非空格字符组成的字符串。s 中使用至少一个空格将字符串中的 单词 分隔开。\n",
    "\n",
    "* 返回 单词 顺序颠倒且 单词 之间用单个空格连接的结果字符串。\n",
    "\n",
    "* 注意：输入字符串 s中可能会存在前导空格、尾随空格或者单词间的多个空格。返回的结果字符串中，单词间应当仅用单个空格分隔，且不包含任何额外的空格。\n",
    "\n",
    "\n",
    "* 示例 1：\n",
    "\n",
    "    * 输入：s = \"the sky is blue\"\n",
    "    * 输出：\"blue is sky the\"\n",
    "\n",
    "* 示例 2：\n",
    "\n",
    "    * 输入：s = \"  hello world  \"\n",
    "    * 输出：\"world hello\"\n",
    "    * 解释：反转后的字符串中不能存在前导空格和尾随空格。\n",
    "\n",
    "* 示例 3：\n",
    "\n",
    "    * 输入：s = \"a good   example\"\n",
    "    * 输出：\"example good a\"\n",
    "    * 解释：如果两个单词间有多余的空格，反转后的字符串需要将单词间的空格减少到仅有一个。\n",
    " \n",
    "\n",
    "* 提示：\n",
    "\n",
    "    * 1 <= s.length <= $10^4$\n",
    "    * s 包含英文大小写字母、数字和空格 ' '\n",
    "    * s 中 至少存在一个 单词\n",
    "\n",
    "来源：力扣（LeetCode）\n",
    "链接：https://leetcode.cn/problems/reverse-words-in-a-string\n",
    "著作权归领扣网络所有。商业转载请联系官方授权，非商业转载请注明出处。"
   ]
  },
  {
   "cell_type": "markdown",
   "metadata": {},
   "source": [
    "# 思路 (我自己的) -- 使用双指针\n",
    "* 使用双指针, 把字符串里所有的单词都找出来, 存放到临时空间里:\n",
    "    * 第一个指针 i 遍历到 非空格的位置\n",
    "    * 第二个指针 j 从 第一个指针i 的位置开始, 走到'指向空格'的位置停下来\n",
    "    * 把 s[i:j] 这个单词取出来, 放到临时空间里\n",
    "\n",
    "* 对临时空间里的单词进行 位置的反转, 然后拼接, 返回即可"
   ]
  },
  {
   "cell_type": "code",
   "execution_count": 20,
   "metadata": {},
   "outputs": [],
   "source": [
    "class Solution:\n",
    "    def reverseWords(self, s) -> str:\n",
    "        res = []\n",
    "        \n",
    "        # 寻找字符串中的单词, 并提取出来放到res中\n",
    "        i = 0\n",
    "        while i <= len(s)-1:\n",
    "            if s[i] != ' ':\n",
    "                j = i\n",
    "                while j <= len(s)-1 and s[j] != ' ':\n",
    "                    j +=1\n",
    "                res.append(s[i:j])\n",
    "                i = j                   # i 直接从 j 位置开始, 寻找下一个单词\n",
    "            i +=1\n",
    "        \n",
    "        # 反转 res 里的单词位置\n",
    "        i = 0\n",
    "        j = len(res) -1\n",
    "        \n",
    "        while i<=j:\n",
    "            res[i], res[j] = res[j], res[i]\n",
    "            i += 1\n",
    "            j -= 1\n",
    "        \n",
    "        return \" \".join(res)"
   ]
  },
  {
   "cell_type": "code",
   "execution_count": 31,
   "metadata": {},
   "outputs": [
    {
     "data": {
      "text/plain": [
       "'2222 1'"
      ]
     },
     "execution_count": 31,
     "metadata": {},
     "output_type": "execute_result"
    }
   ],
   "source": [
    "ans = Solution()\n",
    "\n",
    "s = \"    the      sky is     blue      \"\n",
    "s = '     1    2222'\n",
    "\n",
    "ans.reverseWords(s)"
   ]
  },
  {
   "cell_type": "markdown",
   "metadata": {},
   "source": [
    "# 难度提升, 要求空间复杂度为 O(1) \n",
    "* 代码随想录的思路:\n",
    "    * 先去掉多余的空格, \n",
    "    * 然后把字符串整体进行一次反转, \n",
    "    * 最后再对每一个单词进行反转\n",
    "        * 举个例子，源字符串为：\"the sky is blue \"\n",
    "            * 移除多余空格 : \"the sky is blue\"\n",
    "            * 字符串反转：\"eulb si yks eht\"\n",
    "            * 单词反转：\"blue is sky the\"\n",
    "\n",
    "    * 移除多余空格的思路:\n",
    "\n",
    "![jupyter](https://code-thinking.cdn.bcebos.com/gifs/27.移除元素-双指针法.gif)"
   ]
  },
  {
   "cell_type": "markdown",
   "metadata": {},
   "source": [
    "## 先写 删除多余空格的函数 "
   ]
  },
  {
   "cell_type": "code",
   "execution_count": 13,
   "metadata": {},
   "outputs": [],
   "source": [
    "# 删除多余空格的函数\n",
    "def removeExtraSpace(s):\n",
    "    '''\n",
    "    双指针法:\n",
    "        slow: 停在需要删除的元素位置, 覆盖该元素元素之后才继续往后走\n",
    "        i:    用来标定 非空格 的字符\n",
    "    先移除单词之间多余的空格, 然后在单词之间补上 1个空格\n",
    "    '''\n",
    "    s = list(s)\n",
    "\n",
    "    slow = 0\n",
    "    i = 0                                   # fast 指针\n",
    "    while i < len(s):\n",
    "        if s[i] != ' ':                     # (跳过所有空格) 遇到 非空格 就把该元素赋值到 slow, 相当于删除所有空格\n",
    "            \n",
    "            # 用下面的 if 语句在单词后面补空格 (跑程序时先走下面的删除空格, 然后再到这里补单词后的空格)\n",
    "            if slow != 0:                   # slow !=0 表示不是第一个单词 (因为第一个单词的前面不需要补空格), 需要在单词之间添加空格\n",
    "                s[slow] = ' '\n",
    "                slow += 1\n",
    "            \n",
    "            # while 循环用来删除 往右遍历,遇到新单词之前 的所有空格\n",
    "            while i < len(s) and s[i] != \" \":       # 若还没遍历到末尾, 则 i 移动到 单词 后的第一个空格就停止移动\n",
    "                s[slow] = s[i]\n",
    "                slow += 1\n",
    "                i +=1 \n",
    "        i += 1\n",
    "    return \"\".join(s[:slow])"
   ]
  },
  {
   "cell_type": "code",
   "execution_count": 14,
   "metadata": {},
   "outputs": [
    {
     "data": {
      "text/plain": [
       "'the sky is blue'"
      ]
     },
     "execution_count": 14,
     "metadata": {},
     "output_type": "execute_result"
    }
   ],
   "source": [
    "test_s = \"    the      sky is     blue      \"\n",
    "removeExtraSpace(test_s)"
   ]
  },
  {
   "cell_type": "markdown",
   "metadata": {},
   "source": [
    "## 再写反转字符串的函数"
   ]
  },
  {
   "cell_type": "code",
   "execution_count": 22,
   "metadata": {},
   "outputs": [],
   "source": [
    "def reverse(s, start, end):\n",
    "    '''\n",
    "    注意这里操作区间为 左闭右闭 区间\n",
    "    '''\n",
    "    s = list(s)\n",
    "    i, j  = start, end\n",
    "    \n",
    "    while i<j:\n",
    "        s[i], s[j] = s[j], s[i]\n",
    "        i += 1\n",
    "        j -= 1\n",
    "        \n",
    "    return \"\".join(s)"
   ]
  },
  {
   "cell_type": "code",
   "execution_count": 23,
   "metadata": {},
   "outputs": [
    {
     "data": {
      "text/plain": [
       "'      eulb     si yks      eht    '"
      ]
     },
     "execution_count": 23,
     "metadata": {},
     "output_type": "execute_result"
    }
   ],
   "source": [
    "test_s = \"    the      sky is     blue      \"\n",
    "reverse(test_s, 0, len(test_s)-1)"
   ]
  },
  {
   "cell_type": "markdown",
   "metadata": {},
   "source": [
    "## 完整代码"
   ]
  },
  {
   "cell_type": "code",
   "execution_count": 9,
   "metadata": {},
   "outputs": [],
   "source": [
    "class Solution:\n",
    "    def reverseWords(self, s) -> str:\n",
    "        def removeExtraSpace(s):\n",
    "            '''\n",
    "            双指针法:\n",
    "                slow: 停在需要删除的元素位置, 覆盖该元素元素之后才继续往后走\n",
    "                i:    用来标定 非空格 的字符\n",
    "            先移除单词之间多余的空格, 然后在单词之间补上 1个空格\n",
    "            '''\n",
    "            s = list(s)\n",
    "\n",
    "            slow = 0\n",
    "            i = 0                                   # fast 指针\n",
    "            while i < len(s):\n",
    "                if s[i] != ' ':                     # (跳过所有空格) 遇到 非空格 就把该元素赋值到 slow, 相当于删除所有空格\n",
    "                    \n",
    "                    # 用下面的 if 语句在单词后面补空格 (跑程序时先走下面的删除空格, 然后再到这里补单词后的空格)\n",
    "                    if slow != 0:                   # slow !=0 表示不是第一个单词 (因为第一个单词的前面不需要补空格), 需要在单词之间添加空格\n",
    "                        s[slow] = ' '\n",
    "                        slow += 1\n",
    "                    \n",
    "                    # while 循环用来删除 往右遍历,遇到新单词之前 的所有空格\n",
    "                    while i < len(s) and s[i] != \" \":       # 若还没遍历到末尾, 则 i 移动到 单词 后的第一个空格就停止移动\n",
    "                        s[slow] = s[i]\n",
    "                        slow += 1\n",
    "                        i +=1 \n",
    "                i += 1\n",
    "            return \"\".join(s[:slow])\n",
    "\n",
    "        def reverse(s, start, end):\n",
    "            '''\n",
    "            注意这里操作区间为 左闭右闭 区间\n",
    "            '''\n",
    "            s = list(s)\n",
    "            i, j  = start, end\n",
    "            \n",
    "            while i<j:\n",
    "                s[i], s[j] = s[j], s[i]\n",
    "                i += 1\n",
    "                j -= 1\n",
    "                \n",
    "            return \"\".join(s)\n",
    "        \n",
    "        s = removeExtraSpace(s)                         # 去除多余的空格 \n",
    "        print('去除多余空格:',s)\n",
    "        s = reverse(s, 0, len(s)-1)                     # 反转整个字符串\n",
    "        print('第一次反转:',s)\n",
    "        \n",
    "        # 只反转单词\n",
    "        start = 0\n",
    "        for i in range(0, len(s)+1):                    \n",
    "            if i == len(s) or s[i]==' ':                # i 到达字符串末尾, 或者i遍历到字符串末尾\n",
    "                s = reverse(s, start, i-1)              # 反转单词, 注意操作区间是左闭右闭\n",
    "                start = i+1                             # start 移动到下一个单词的起始位置 \n",
    "        \n",
    "        return s"
   ]
  },
  {
   "cell_type": "code",
   "execution_count": 10,
   "metadata": {},
   "outputs": [
    {
     "name": "stdout",
     "output_type": "stream",
     "text": [
      "去除多余空格: the sky is blue\n",
      "第一次反转: eulb si yks eht\n"
     ]
    },
    {
     "data": {
      "text/plain": [
       "'blue is sky the'"
      ]
     },
     "execution_count": 10,
     "metadata": {},
     "output_type": "execute_result"
    }
   ],
   "source": [
    "ans = Solution()\n",
    "\n",
    "\n",
    "test_s = \"    the      sky is     blue      \"\n",
    "ans.reverseWords(test_s)"
   ]
  }
 ],
 "metadata": {
  "kernelspec": {
   "display_name": "Python 3.9.12 ('base')",
   "language": "python",
   "name": "python3"
  },
  "language_info": {
   "codemirror_mode": {
    "name": "ipython",
    "version": 3
   },
   "file_extension": ".py",
   "mimetype": "text/x-python",
   "name": "python",
   "nbconvert_exporter": "python",
   "pygments_lexer": "ipython3",
   "version": "3.9.12"
  },
  "orig_nbformat": 4,
  "vscode": {
   "interpreter": {
    "hash": "901177bed68d7d4fbadb3177e755ced472e86ce1c03620f2ee52eeaae03fd4ab"
   }
  }
 },
 "nbformat": 4,
 "nbformat_minor": 2
}
