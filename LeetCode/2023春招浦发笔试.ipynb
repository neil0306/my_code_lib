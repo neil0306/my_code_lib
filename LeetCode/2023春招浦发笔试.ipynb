{
 "cells": [
  {
   "cell_type": "markdown",
   "metadata": {},
   "source": [
    "# 3-18笔试\n",
    "* 综合部分分三个部分\n",
    "1. 英语 ： 蛮简单的，感觉就是46级水平\n",
    "2. 金融知识 ： 一窍不通\n",
    "3. 行测： 不知道在考什么（找规律，和看小作文）\n",
    "\n",
    "* 考完要等30分钟啥也不能干就等着\n",
    "\n",
    "* 专业笔试部分：\n",
    "1. 选择题：这个好难，什么方面的都有，有一些网络攻击的也有操作系统相关的\n",
    "\n",
    "* 编程题：\n",
    "1. 给一个字符串，里面的字符出现的次数要都是偶次，有奇数次的就返回false；（拿map存一下）\n",
    "2. 给一个字符串，要先增长后减小 如 【1，2，3，2，1】，不符合就返回false；（先while循环到最大值）（在while循环到最小值，中间如果有不符合规律的就直接返回false）\n",
    "3. 最后一题给一个链表看看有没有环（leetcode中等题，快慢指针就行）"
   ]
  },
  {
   "cell_type": "code",
   "execution_count": 9,
   "metadata": {},
   "outputs": [],
   "source": [
    "# 第一个字符串题\n",
    "def check_odd(s):\n",
    "    if len(s) ==0:\n",
    "        return False\n",
    "    \n",
    "    res = {}\n",
    "    for i in s:\n",
    "        res[i] = res.get(i, 0)+1\n",
    "    \n",
    "    print(res)\n",
    "    \n",
    "    for key in res.keys():\n",
    "        if res[key] % 2 != 0:\n",
    "            return False\n",
    "    return True"
   ]
  },
  {
   "cell_type": "code",
   "execution_count": 11,
   "metadata": {},
   "outputs": [
    {
     "name": "stdout",
     "output_type": "stream",
     "text": [
      "{' ': 2}\n"
     ]
    },
    {
     "data": {
      "text/plain": [
       "True"
      ]
     },
     "execution_count": 11,
     "metadata": {},
     "output_type": "execute_result"
    }
   ],
   "source": [
    "s = '  '\n",
    "check_odd(s)"
   ]
  },
  {
   "cell_type": "code",
   "execution_count": 11,
   "metadata": {},
   "outputs": [
    {
     "data": {
      "text/plain": [
       "''"
      ]
     },
     "execution_count": 11,
     "metadata": {},
     "output_type": "execute_result"
    }
   ],
   "source": [
    "# 第二个字符串题\n",
    "\n",
    "\"\"\"\n",
    "分析：\n",
    "    题目的要求是将字符串的数字按照 波浪形 进行排序， 如 1,2,3,4,3,2,1,2,3....\n",
    "    \n",
    "思路：\n",
    "    1. 先统计所有元素出现的次数， 构成一个 dict \n",
    "    2. 然后把 key 按升序排序 （从大->小）\n",
    "    3. 把 排序的key用掉一次 添加到 res 里，作为最终字符串的最前面的一段\n",
    "    4. 因为 这些 key 已经用掉里一次， 所以 dict 记录的出现次数全部 -1， 出现次数减成0的需要从dict中删除   ==> 这一步 dict 的元素可能变少\n",
    "    5. 重新获取 dict 的 key(因为可能已经被更新), 此时的排序模式与前一次相反(前一次是升序,这里就用降序), \n",
    "    6. 重复step3-5, 直到 dict 变成空字典\n",
    "\"\"\"\n",
    "\n",
    "\n",
    "# import collections\n",
    "def sortString( s) -> str:\n",
    "    str_counter = collections.Counter(s)        # 统计每一个数字出现的次数, 时间复杂度 O(n)\n",
    "    # str_counter = my_counter(s)\n",
    "    result = []\n",
    "    flag = False\n",
    "    while str_counter:\n",
    "        keys = list(str_counter.keys())\n",
    "        keys.sort(reverse=flag)                 # 一开始升序排列所有数字， 之后降序  \n",
    "        flag = not flag\n",
    "        result.append(''.join(keys))            # 拼接升序部分\n",
    "        str_counter -= collections.Counter(keys)        # 字符串的提取， 做减法的时候，counter这个方法会自动把对应的value-1， 如果value为零， 则这个key-value 会被删除\n",
    "        # str_counter = dict_minus_1(str_counter)         # 字符串的提取\n",
    "    return ''.join(result)\n",
    "\n",
    "def dict_minus_1(aa):\n",
    "    temp = {}\n",
    "    for key in aa.keys():\n",
    "        if aa.get(key, 1) > 1:\n",
    "            temp[key] = aa[key] -1\n",
    "    return temp\n",
    "\n",
    "def my_counter(s):\n",
    "    res = {}\n",
    "    for i in s:\n",
    "        res[i] = res.get(i, 0)+1\n",
    "    return res\n",
    "\n",
    "s = '578112233345'    # ans: '123457853213'  \n",
    "\n",
    "sortString(s)"
   ]
  },
  {
   "cell_type": "code",
   "execution_count": 7,
   "metadata": {},
   "outputs": [
    {
     "name": "stdout",
     "output_type": "stream",
     "text": [
      "{'5': 2, '7': 1, '8': 1, '1': 2, '2': 2, '3': 3, '4': 1}\n",
      "{'5': 1, '1': 1, '2': 1, '3': 2}\n"
     ]
    }
   ],
   "source": [
    "a = {1:2,3:4,5:1}\n",
    "dict_minus_1(a)\n",
    "\n",
    "print(my_counter(s))\n",
    "print(dict_minus_1(my_counter(s)))"
   ]
  },
  {
   "cell_type": "markdown",
   "metadata": {},
   "source": []
  },
  {
   "cell_type": "markdown",
   "metadata": {},
   "source": [
    "# 判断环形性链表"
   ]
  },
  {
   "cell_type": "code",
   "execution_count": null,
   "metadata": {},
   "outputs": [],
   "source": [
    "def detectCycle(head):\n",
    "    fast, slow = head, head\n",
    "    while fast != None and fast.next != None:\n",
    "        fast = fast.next.next\n",
    "        slow = slow.next\n",
    "        if fast == slow and fast != None:       # fast 不是 None 这个不要漏掉\n",
    "            return True \n",
    "    return False\n",
    "\n",
    "\n",
    "\n",
    "\n",
    "# 如果需要进一步找到环的入口, 则:\n",
    "def detect_find_entrance(head):\n",
    "    fast, slow = head, head \n",
    "    while fast != None and fast.next != None:\n",
    "        fast = fast.next.next\n",
    "        slow = slow.next\n",
    "        \n",
    "        if fast == slow and fast != None:       # fast 不是 None 这个不要漏掉\n",
    "            idx1 = fast\n",
    "            idx2 = head\n",
    "            while idx1 != idx2:\n",
    "                idx1 = idx1.next\n",
    "                idx2 = idx2.next\n",
    "            return idx1                         # 入口\n",
    "    \n",
    "    return None"
   ]
  }
 ],
 "metadata": {
  "kernelspec": {
   "display_name": "Python 3.9.12 ('base')",
   "language": "python",
   "name": "python3"
  },
  "language_info": {
   "codemirror_mode": {
    "name": "ipython",
    "version": 3
   },
   "file_extension": ".py",
   "mimetype": "text/x-python",
   "name": "python",
   "nbconvert_exporter": "python",
   "pygments_lexer": "ipython3",
   "version": "3.9.12"
  },
  "orig_nbformat": 4,
  "vscode": {
   "interpreter": {
    "hash": "901177bed68d7d4fbadb3177e755ced472e86ce1c03620f2ee52eeaae03fd4ab"
   }
  }
 },
 "nbformat": 4,
 "nbformat_minor": 2
}
