{
 "cells": [
  {
   "cell_type": "markdown",
   "metadata": {},
   "source": [
    "# 求一个数的奇偶检验位"
   ]
  },
  {
   "cell_type": "code",
   "execution_count": 47,
   "metadata": {},
   "outputs": [],
   "source": [
    "def computing_parity(num):\n",
    "    '''\n",
    "    0 means even, 1 means odd.\n",
    "    '''\n",
    "    \n",
    "    parity = 0                      # 由于 num==0 时不走 while, 此时默认输出是偶数, 因此这里需要初始化为0\n",
    "    \n",
    "    while(num):\n",
    "        num = num & (num-1)         # 这句代码整体效果是 \"去掉二进制数最靠右侧的1\", & 是与运算\n",
    "        parity = not parity         # 去掉最右侧的1之后, 奇偶校验位就要翻转1次\n",
    "\n",
    "    if parity:\n",
    "        # return \"odd\"                # 这里的逻辑是与 parity 初始化的定义相搭配的!\n",
    "        return 1\n",
    "    else:\n",
    "        # return \"even\"\n",
    "        return 0"
   ]
  },
  {
   "cell_type": "code",
   "execution_count": 48,
   "metadata": {},
   "outputs": [
    {
     "name": "stdout",
     "output_type": "stream",
     "text": [
      "0\n"
     ]
    }
   ],
   "source": [
    "print(computing_parity(0x0))\n"
   ]
  }
 ],
 "metadata": {
  "kernelspec": {
   "display_name": "Python 3.9.12 ('base')",
   "language": "python",
   "name": "python3"
  },
  "language_info": {
   "codemirror_mode": {
    "name": "ipython",
    "version": 3
   },
   "file_extension": ".py",
   "mimetype": "text/x-python",
   "name": "python",
   "nbconvert_exporter": "python",
   "pygments_lexer": "ipython3",
   "version": "3.9.12"
  },
  "orig_nbformat": 4,
  "vscode": {
   "interpreter": {
    "hash": "901177bed68d7d4fbadb3177e755ced472e86ce1c03620f2ee52eeaae03fd4ab"
   }
  }
 },
 "nbformat": 4,
 "nbformat_minor": 2
}
