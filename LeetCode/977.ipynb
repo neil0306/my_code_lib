{
 "cells": [
  {
   "cell_type": "markdown",
   "metadata": {},
   "source": [
    "# 977 - 有序数组的平方\n",
    "给你一个按 非递减顺序 排序的整数数组 nums，返回 每个数字的平方 组成的新数组，要求也按 非递减顺序 排序。\n",
    "\n",
    "输入：nums = [-4,-1,0,3,10]\n",
    "输出：[0,1,9,16,100]\n",
    "解释：平方后，数组变为 [16,1,0,9,100]\n",
    "排序后，数组变为 [0,1,9,16,100]\n",
    "\n",
    "输入：nums = [-7,-3,2,3,11]\n",
    "输出：[4,9,9,49,121]\n",
    "\n",
    "* 提示\n",
    "    * 1 <= nums.length <= 104\n",
    "    * -104 <= nums[i] <= 104\n",
    "    * nums 已按 非递减顺序 排序\n",
    "\n",
    "来源：力扣（LeetCode）\n",
    "链接：https://leetcode.cn/problems/squares-of-a-sorted-array\n",
    "著作权归领扣网络所有。商业转载请联系官方授权，非商业转载请注明出处。"
   ]
  },
  {
   "cell_type": "markdown",
   "metadata": {},
   "source": [
    "# 思路：\n",
    "    * 双指针 —— 头尾指针\n",
    "        * 创建两个指针，一个指向数组头部，另一个指向数组末尾\n",
    "        * 创建一个新数组，用于[倒序]存放较大的平方值，每次只更新被放入新数组的下标。\n",
    "            * 如：nums[fast] 的平方值被放入新数组，则当前只有 fast 被更新。"
   ]
  },
  {
   "cell_type": "code",
   "execution_count": 33,
   "metadata": {},
   "outputs": [],
   "source": [
    "class Solution:\n",
    "    def sortedSquares(self, nums):\n",
    "        slow = 0\n",
    "        fast = len(nums)-1\n",
    "        new_nums = [0]*len(nums)\n",
    "        indx = len(nums)-1\n",
    "        while slow <= fast:                     # 当两个指针相遇时，这个数值还没有处理，不要啊忘记！\n",
    "            if nums[fast]* nums[fast] < nums[slow]* nums[slow]: # 不使用 nums[fast]**2 这种方法会快很多\n",
    "                new_nums[indx] = nums[slow] * nums[slow]  # 把大的数值倒序放入新数组，然后更新被拿走数值的index\n",
    "                slow += 1\n",
    "            else:\n",
    "                new_nums[indx] = nums[fast] * nums[fast]\n",
    "                fast -= 1\n",
    "            indx -= 1   # 更新新数组的index\n",
    "\n",
    "        return new_nums"
   ]
  },
  {
   "cell_type": "code",
   "execution_count": 34,
   "metadata": {},
   "outputs": [
    {
     "name": "stdout",
     "output_type": "stream",
     "text": [
      "[4, 9, 9, 49, 121]\n"
     ]
    }
   ],
   "source": [
    "s = Solution()\n",
    "nums = [-7,-3,2,3,11]\n",
    "print(s.sortedSquares(nums))"
   ]
  },
  {
   "cell_type": "code",
   "execution_count": 7,
   "metadata": {},
   "outputs": [
    {
     "name": "stdout",
     "output_type": "stream",
     "text": [
      "4\n",
      "3\n",
      "2\n",
      "1\n"
     ]
    }
   ],
   "source": [
    "for i in range(len(nums)-1,0,-1):\n",
    "    print(i)"
   ]
  }
 ],
 "metadata": {
  "kernelspec": {
   "display_name": "Python 3.9.12 ('base')",
   "language": "python",
   "name": "python3"
  },
  "language_info": {
   "codemirror_mode": {
    "name": "ipython",
    "version": 3
   },
   "file_extension": ".py",
   "mimetype": "text/x-python",
   "name": "python",
   "nbconvert_exporter": "python",
   "pygments_lexer": "ipython3",
   "version": "3.9.12"
  },
  "orig_nbformat": 4,
  "vscode": {
   "interpreter": {
    "hash": "901177bed68d7d4fbadb3177e755ced472e86ce1c03620f2ee52eeaae03fd4ab"
   }
  }
 },
 "nbformat": 4,
 "nbformat_minor": 2
}
