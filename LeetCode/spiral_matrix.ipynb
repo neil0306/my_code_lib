{
 "cells": [
  {
   "cell_type": "markdown",
   "metadata": {},
   "source": [
    "# Spiral Matrix —— 螺旋矩阵\n",
    "\n",
    "目标是生成如下样式的矩阵：\n",
    "\n",
    "![jupyter](https://assets.leetcode.com/uploads/2020/11/13/spiraln.jpg)"
   ]
  },
  {
   "cell_type": "markdown",
   "metadata": {},
   "source": [
    "# 注意事项\n",
    "    * 坚持「循环不变量」原则！\n",
    "        * 边界条件要从头到尾遵守「左闭右开」或者「左开右闭」中的一个，否则容易写乱。\n",
    "\n",
    "# 思路：\n",
    "    * 按照规律，一个 n*n 的矩阵需要「转 n//2 圈」\n",
    "        * 当n是奇数时，我们转完 n//2圈之后会留下中心位置的一个空位，此时只需要使用 「n%2」是否为0就能知道n是不是偶数了，奇数时，再生成一个值赋给它即可。\n",
    "\n",
    "    * 因为每一圈的起始位置 start_x,start_y（矩阵有行列两个坐标）都是会变的，所以要提前定义好一个变量，用来为每一圈更新一个起始位置。\n",
    "    \n",
    "    * 每次遍历时，终止位置都是不一样的，那么就需要定一个offset变量来指定当前遍历的长度。\n",
    "        * 例如上面3*3的矩阵，第一行遍历时，offset 就应该是 1，第一行遍历范围是 [start_y, n-offset)。  —— 按照左闭右开原则\n",
    "        * 转完一圈之后，offset、start_x、start_y 都+1 就走到下一圈了\n"
   ]
  },
  {
   "cell_type": "markdown",
   "metadata": {},
   "source": [
    "# 相关题型：\n",
    "    * Leetcode 54.螺旋矩阵\n",
    "    * 剑指Offer 29.顺时针打印矩阵\n"
   ]
  },
  {
   "cell_type": "code",
   "execution_count": null,
   "metadata": {},
   "outputs": [],
   "source": []
  }
 ],
 "metadata": {
  "language_info": {
   "name": "python"
  },
  "orig_nbformat": 4
 },
 "nbformat": 4,
 "nbformat_minor": 2
}
