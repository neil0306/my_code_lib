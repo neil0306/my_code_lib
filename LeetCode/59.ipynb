{
 "cells": [
  {
   "cell_type": "markdown",
   "metadata": {},
   "source": [
    "# 题目 59 —— 螺旋矩阵 Ⅱ\n",
    "给你一个正整数 n ，生成一个包含 1 到 n^2 所有元素，且元素按顺时针顺序螺旋排列的 n x n 正方形矩阵 matrix 。\n",
    "\n",
    "\n",
    "![jupyter](https://assets.leetcode.com/uploads/2020/11/13/spiraln.jpg)\n",
    "\n",
    "* 示例1:\n",
    "    * 输入：n = 3\n",
    "    * 输出：[[1,2,3],[8,9,4],[7,6,5]]\n",
    "\n",
    "* 示例 2：\n",
    "\n",
    "    * 输入：n = 1\n",
    "    * 输出：[[1]]\n",
    "\n",
    "\n",
    "* 提示：\n",
    "\n",
    "    * 1 <= n <= 20"
   ]
  },
  {
   "cell_type": "markdown",
   "metadata": {},
   "source": [
    "# 注意事项\n",
    "    * 坚持「循环不变量」原则！\n",
    "        * 边界条件要从头到尾遵守「左闭右开」或者「左开右闭」中的一个，否则容易写乱。\n",
    "\n",
    "# 思路：\n",
    "    * 按照规律，一个 n*n 的矩阵需要「转 n//2 圈」\n",
    "        * 当n是奇数时，我们转完 n//2 圈之后会留下中心位置的一个空位，此时只需要使用 「n%2」是否为0就能知道n是不是偶数了，奇数时，再生成一个值赋给它即可。\n",
    "\n",
    "    * 因为每一圈的起始位置 start_x,start_y（矩阵有行列两个坐标）都是会变的，所以要提前定义好一个变量，用来为每一圈更新一个起始位置。\n",
    "\n",
    "    * 每次遍历时，终止位置都是不一样的，那么就需要定一个offset变量来指定当前遍历的长度。\n",
    "        * 例如上面3*3的矩阵，第一行遍历时，offset 就应该是 1，第一行遍历范围是 [start_y, n-offset)。  —— 按照左闭右开原则\n",
    "        * 转完一圈之后，offset、start_x、start_y 都+1 就走到下一圈了"
   ]
  },
  {
   "cell_type": "code",
   "execution_count": 29,
   "metadata": {},
   "outputs": [],
   "source": [
    "class Solution:\n",
    "    def generateMatrix(self, n) :\n",
    "        '''\n",
    "        使用【左闭右开】规则\n",
    "        '''\n",
    "        offset = 1\n",
    "        start_x, start_y = 0,0\n",
    "        x,y = 0,0\n",
    "        cnt = 1                             # 初始化生成的值\n",
    "        res = [[0]*n for _ in range(n)]     # 初始化结果矩阵\n",
    "        \n",
    "        for _ in  range(n//2):   # 一共需要转 n/2 圈\n",
    "            \n",
    "            # 本圈最上面一行：\n",
    "            for y in range(start_y, n - offset, 1):\n",
    "                res[start_x][y] = cnt\n",
    "                cnt += 1\n",
    "            \n",
    "            # 本圈最右侧一列：\n",
    "            for x in range(start_x, n - offset, 1):\n",
    "                res[x][n - offset] = cnt\n",
    "                cnt += 1 \n",
    "            \n",
    "            # 本圈最底下一行：\n",
    "            for y in range(n - offset, start_y, -1 ):\n",
    "                res[n - offset][y] = cnt\n",
    "                cnt += 1\n",
    "            \n",
    "            # 本圈最左侧一行：\n",
    "            for x in range(n - offset, start_x, -1):\n",
    "                res[x][start_y] = cnt \n",
    "                cnt += 1\n",
    "\n",
    "            offset += 1\n",
    "            start_x += 1\n",
    "            start_y += 1\n",
    "        \n",
    "        if n%2 != 0:          # 若 n 是奇数，则需要额外填充中心位置\n",
    "            res[x][y] = cnt\n",
    "        \n",
    "        return res"
   ]
  },
  {
   "cell_type": "code",
   "execution_count": 30,
   "metadata": {},
   "outputs": [
    {
     "data": {
      "text/plain": [
       "[[1]]"
      ]
     },
     "execution_count": 30,
     "metadata": {},
     "output_type": "execute_result"
    }
   ],
   "source": [
    "s = Solution()\n",
    "n = 1\n",
    "s.generateMatrix(n)"
   ]
  }
 ],
 "metadata": {
  "kernelspec": {
   "display_name": "Python 3.9.12 ('base')",
   "language": "python",
   "name": "python3"
  },
  "language_info": {
   "codemirror_mode": {
    "name": "ipython",
    "version": 3
   },
   "file_extension": ".py",
   "mimetype": "text/x-python",
   "name": "python",
   "nbconvert_exporter": "python",
   "pygments_lexer": "ipython3",
   "version": "3.9.12"
  },
  "orig_nbformat": 4,
  "vscode": {
   "interpreter": {
    "hash": "901177bed68d7d4fbadb3177e755ced472e86ce1c03620f2ee52eeaae03fd4ab"
   }
  }
 },
 "nbformat": 4,
 "nbformat_minor": 2
}
