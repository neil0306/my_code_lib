{
 "cells": [
  {
   "cell_type": "markdown",
   "metadata": {},
   "source": [
    "# 题目 242 有效的字母异位词\n",
    "* 给定两个字符串 s 和 t ，编写一个函数来判断 t 是否是 s 的字母异位词。\n",
    "    * 注意：若 s 和 t 中每个字符出现的次数都相同，则称 s 和 t 互为字母异位词。\n",
    "\n",
    " \n",
    "\n",
    "* 示例 1:\n",
    "\n",
    "    * 输入: s = \"anagram\", t = \"nagaram\"\n",
    "    * 输出: true\n",
    "\n",
    "\n",
    "* 示例 2:\n",
    "\n",
    "    * 输入: s = \"rat\", t = \"car\"\n",
    "    * 输出: false\n",
    " \n",
    "\n",
    "* 提示:\n",
    "\n",
    "    * 1 <= s.length, t.length <= 5 * 104\n",
    "    * s 和 t 仅包含小写字母\n",
    "\n",
    "来源：力扣（LeetCode）\n",
    "链接：https://leetcode.cn/problems/valid-anagram\n",
    "著作权归领扣网络所有。商业转载请联系官方授权，非商业转载请注明出处。"
   ]
  },
  {
   "cell_type": "markdown",
   "metadata": {},
   "source": [
    "# 分析:\n",
    "* 题目给出了关键信息: 只要 s 和 t 中字符出现的次数相同, 则将 s 和 t 称为字母异位词\n",
    "    * 因此我们只需要统计字符串中字母出现的次数, 然后进行对比即可\n",
    "    * 考察 字符是否存在 这类题目, 通常使用哈希表\n",
    "\n",
    "# 思路:\n",
    "* 字母出现的次数相同, 则说明 s 和 t 的长度一定要相同\n",
    "    * 用 哈西表 对字符进行统计即可"
   ]
  },
  {
   "cell_type": "code",
   "execution_count": 1,
   "metadata": {},
   "outputs": [],
   "source": [
    "class Solution:\n",
    "    def isAnagram(self, s: str, t: str) -> bool:\n",
    "        if len(s) != len(t):\n",
    "            return False\n",
    "        \n",
    "        cnt_map_s, cnt_map_t = {}, {}\n",
    "        for i in range(len(s)):\n",
    "            cnt_map_s[s[i]] = cnt_map_s.get(s[i], 0) + 1            # 用 get 方法可以直接避开 key 不存在的 err\n",
    "            cnt_map_t[t[i]] = cnt_map_t.get(t[i], 0) + 1\n",
    "        \n",
    "        if cnt_map_s == cnt_map_t:\n",
    "            return True\n",
    "        else:\n",
    "            return False"
   ]
  },
  {
   "cell_type": "markdown",
   "metadata": {},
   "source": [
    "# 使用数组作为哈希表 -- 字母转换成 ASCII码"
   ]
  },
  {
   "cell_type": "code",
   "execution_count": null,
   "metadata": {},
   "outputs": [],
   "source": [
    "class Solution:\n",
    "    def isAnagram(self, s: str, t: str) -> bool:\n",
    "        record = [0] * 26       # 因为题目说只有小写字母\n",
    "        for i in s: \n",
    "            record[ord(i) - ord('a')] += 1\n",
    "        for i in t:\n",
    "            record[ord(i) - ord('a')] -= 1\n",
    "        \n",
    "        for i in range(26):\n",
    "            if record[i] !=0:\n",
    "                return False \n",
    "        return True "
   ]
  }
 ],
 "metadata": {
  "kernelspec": {
   "display_name": "Python 3.9.12 ('base')",
   "language": "python",
   "name": "python3"
  },
  "language_info": {
   "codemirror_mode": {
    "name": "ipython",
    "version": 3
   },
   "file_extension": ".py",
   "mimetype": "text/x-python",
   "name": "python",
   "nbconvert_exporter": "python",
   "pygments_lexer": "ipython3",
   "version": "3.9.12"
  },
  "orig_nbformat": 4,
  "vscode": {
   "interpreter": {
    "hash": "901177bed68d7d4fbadb3177e755ced472e86ce1c03620f2ee52eeaae03fd4ab"
   }
  }
 },
 "nbformat": 4,
 "nbformat_minor": 2
}
