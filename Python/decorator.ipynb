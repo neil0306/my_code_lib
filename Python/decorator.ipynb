{
 "cells": [
  {
   "cell_type": "markdown",
   "metadata": {},
   "source": [
    "# 装饰器\n",
    "\n",
    "1. 为函数添加额外功能\n",
    "2. 不改变原函数的调用方式\n",
    "3. 不改变原函数的源代码\n",
    "4. 装饰器本质上是一个函数\n",
    "5. 装饰器的返回值也是一个函数\n",
    "6. 装饰器的使用: 使用@装饰器名"
   ]
  },
  {
   "cell_type": "markdown",
   "metadata": {},
   "source": [
    "## 练习1 -- 定义 decorator\n",
    "设计一个decorator，它可作用于任何函数上，并打印该函数的执行时间\n"
   ]
  },
  {
   "cell_type": "code",
   "execution_count": 3,
   "metadata": {},
   "outputs": [
    {
     "name": "stdout",
     "output_type": "stream",
     "text": [
      "fast executed in 1 ms.\n",
      "slow executed in 129 ms.\n"
     ]
    }
   ],
   "source": [
    "import time, functools\n",
    "\n",
    "# 定义装饰器\n",
    "def metric(fn):\n",
    "    @functools.wraps(fn)       # 装饰器语法糖，保留原函数的元信息\n",
    "    def wrapper(*args, **kw):  \n",
    "        start = round(time.time() * 1000)\n",
    "        res = fn(*args, **kw)       # 执行一次函数, 丢掉返回值, 目的是为了计算函数执行时间\n",
    "        end = round(time.time() * 1000)\n",
    "        print(f'{fn.__name__} executed in {end - start} ms.')\n",
    "        return res                  # 注意这里返回函数的调用结果就行了, 没必要返回 func(*args, **kw), 这样会多调用一次函数\n",
    "    return wrapper\n",
    "\n",
    "\n",
    "\n",
    "#  ------------------------------ # \n",
    "# test\n",
    "@metric                # 重新包装函数\n",
    "def fast(x, y):\n",
    "    time.sleep(0.0012)\n",
    "    return x + y\n",
    "\n",
    "@metric                # 重新包装函数\n",
    "def slow(x, y, z):\n",
    "    time.sleep(0.1234)\n",
    "    return x * y * z\n",
    "\n",
    "f = fast(11, 22)       # fast 和 slow 都经过了装饰器重新包装, 执行函数时会比原函数多一些功能.\n",
    "s = slow(11, 22, 33)\n",
    "\n",
    "# 检查是否还有原函数的功能\n",
    "if f != 33:\n",
    "    print('测试失败!')\n",
    "elif s != 7986:\n",
    "    print('测试失败!')"
   ]
  },
  {
   "cell_type": "markdown",
   "metadata": {},
   "source": [
    "## 练习2  -- 定义 decorator\n",
    "编写一个decorator，能在函数调用的前后打印出 'begin call' 和 'end call' 的日志。"
   ]
  },
  {
   "cell_type": "code",
   "execution_count": 14,
   "metadata": {},
   "outputs": [
    {
     "name": "stdout",
     "output_type": "stream",
     "text": [
      "begin all fast\n",
      "end call fast\n",
      "begin all slow\n",
      "end call slow\n"
     ]
    }
   ],
   "source": [
    "import time, functools\n",
    "\n",
    "def log(func):\n",
    "    # print(\"outside wrapper\")\n",
    "    @functools.wraps(func)\n",
    "    def wrapper(*args, **kw):\n",
    "        print(f\"begin all {func.__name__}\")      # 如果这行代码写到了wrapper外面, 那么在使用 @log 的时候就会被执行, 需要注意!\n",
    "        res = func(*args, **kw)                  # 调用函数\n",
    "        print(f\"end call {func.__name__}\")\n",
    "        return res                               # 返回执行结果\n",
    "    return wrapper\n",
    "\n",
    "\n",
    "# test\n",
    "@log                # 用装饰器重新包装函数, 相当于执行一次 fast = log(fast), 此时会执行位于 log 里面同时又不在 wrapper 里的代码, 即 \"print(\"outside wrapper\")\"\n",
    "def fast(x, y):\n",
    "    time.sleep(0.0012)\n",
    "    return x + y\n",
    "\n",
    "@log\n",
    "def slow(x, y, z):\n",
    "    time.sleep(0.1234)\n",
    "    return x * y * z\n",
    "\n",
    "f = fast(11, 22)       # 执行fast时, 实际上进入了 log 里面的 wrapper 函数\n",
    "s = slow(11, 22, 33)\n",
    "\n",
    "\n",
    "# 检查是否还有原函数的功能\n",
    "if f != 33:\n",
    "    print('测试失败!')\n",
    "elif s != 7986:\n",
    "    print('测试失败!')\n",
    "\n"
   ]
  },
  {
   "cell_type": "markdown",
   "metadata": {},
   "source": [
    "## 练习3 -- 定义一个可以接受参数的decorator\n",
    "在练习 2 的基础上, 考虑如何传递参数给decorator"
   ]
  },
  {
   "cell_type": "code",
   "execution_count": 3,
   "metadata": {},
   "outputs": [
    {
     "name": "stdout",
     "output_type": "stream",
     "text": [
      "('哈哈哈哈?',) | begin call fast\n",
      "('哈哈哈哈?',) | end call fast\n",
      "begin call slow\n",
      "end call slow\n"
     ]
    }
   ],
   "source": [
    "import functools, time\n",
    "\n",
    "def log(*text):                   # 这一层函数的作用仅仅是传递参数给装饰器, 用可变参数, 用于兼容装饰器不传递参数的情况\n",
    "    def decorator(func):          # 这一层函数才是真正意义上的装饰器\n",
    "        @functools.wraps(func)\n",
    "        def wrapper(*args, **kw): # 这一层是原函数的执行\n",
    "            print(f\"{text} | begin call {func.__name__}\") if text else print(f\"begin call {func.__name__}\")\n",
    "            res = func(*args, **kw)\n",
    "            print(f\"{text} | end call {func.__name__}\") if text else print(f\"end call {func.__name__}\")\n",
    "            return res\n",
    "        return wrapper\n",
    "    return decorator\n",
    "\n",
    "\n",
    "# test\n",
    "@log(\"哈哈哈哈?\")         # 用装饰器重新包装函数, 相当于执行一次 fast = log(\"哈哈哈哈哈?\")(fast), 此时先执行 log(\"哈哈哈哈哈?\"), 传递了参数给内部的函数 decorator; 然后执行内部的 wrapper, 打印日志, 最后才执行原来的函数\n",
    "def fast(x, y):\n",
    "    time.sleep(0.0012)\n",
    "    return x + y\n",
    "\n",
    "@log()                   # 这时候, 哪怕不传参, 也得带个括号, 因为log本身也是一个函数\n",
    "def slow(x, y, z):\n",
    "    time.sleep(0.1234)\n",
    "    return x * y * z\n",
    "\n",
    "f = fast(11, 22)     \n",
    "s = slow(11, 22, 33)\n",
    "\n",
    "\n",
    "# 检查是否还有原函数的功能\n",
    "if f != 33:\n",
    "    print('测试失败!')\n",
    "elif s != 7986:\n",
    "    print('测试失败!')\n"
   ]
  },
  {
   "cell_type": "code",
   "execution_count": null,
   "metadata": {},
   "outputs": [],
   "source": []
  }
 ],
 "metadata": {
  "kernelspec": {
   "display_name": "base",
   "language": "python",
   "name": "python3"
  },
  "language_info": {
   "codemirror_mode": {
    "name": "ipython",
    "version": 3
   },
   "file_extension": ".py",
   "mimetype": "text/x-python",
   "name": "python",
   "nbconvert_exporter": "python",
   "pygments_lexer": "ipython3",
   "version": "3.11.5"
  }
 },
 "nbformat": 4,
 "nbformat_minor": 2
}
