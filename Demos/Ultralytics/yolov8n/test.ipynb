{
 "cells": [
  {
   "cell_type": "markdown",
   "metadata": {},
   "source": [
    "官方链接：https://docs.ultralytics.com/guides/queue-management/#real-world-applications\n"
   ]
  },
  {
   "cell_type": "code",
   "execution_count": null,
   "metadata": {},
   "outputs": [],
   "source": [
    "%pip install -U ultralytics\n",
    "%pip install shapely"
   ]
  },
  {
   "cell_type": "code",
   "execution_count": 2,
   "metadata": {},
   "outputs": [],
   "source": [
    "#path = \"视频文件路径.mp4\"\n",
    "path = \"demo_video.mp4\""
   ]
  },
  {
   "cell_type": "code",
   "execution_count": 3,
   "metadata": {},
   "outputs": [
    {
     "name": "stdout",
     "output_type": "stream",
     "text": [
      "Queue region initiated...\n",
      "Video frame is empty or video processing has been successfully completed.\n"
     ]
    }
   ],
   "source": [
    "import cv2\n",
    "from ultralytics import YOLO\n",
    "from ultralytics.solutions import queue_management\n",
    "\n",
    "model = YOLO(\"yolov8n.pt\")\n",
    "# cap = cv2.VideoCapture(\"path/to/video/file.mp4\")\n",
    "cap = cv2.VideoCapture(path)\n",
    "\n",
    "assert cap.isOpened(), \"Error reading video file\"\n",
    "w, h, fps = (int(cap.get(x)) for x in (cv2.CAP_PROP_FRAME_WIDTH,\n",
    "                                       cv2.CAP_PROP_FRAME_HEIGHT,\n",
    "                                       cv2.CAP_PROP_FPS))\n",
    "\n",
    "video_writer = cv2.VideoWriter(\"queue_management.avi\",\n",
    "                               cv2.VideoWriter_fourcc(*'mp4v'),\n",
    "                               fps,\n",
    "                               (w, h))\n",
    "\n",
    "\n",
    "queue_region = [(20, 400), (1080, 404), (1080, 360), (20, 360)]\n",
    "\n",
    "queue = queue_management.QueueManager()\n",
    "queue.set_args(classes_names=model.names,\n",
    "                reg_pts=queue_region,\n",
    "                line_thickness=3,\n",
    "                fontsize=1.0,\n",
    "                region_color=(255, 144, 31))\n",
    "\n",
    "while cap.isOpened():\n",
    "    success, im0 = cap.read()\n",
    "\n",
    "    if success:\n",
    "        tracks = model.track(im0, show=False, persist=True,\n",
    "                            verbose=False)\n",
    "        out = queue.process_queue(im0, tracks)\n",
    "\n",
    "        video_writer.write(im0)\n",
    "        if cv2.waitKey(1) & 0xFF == ord('q'):\n",
    "            break\n",
    "        continue\n",
    "\n",
    "    print(\"Video frame is empty or video processing has been successfully completed.\")\n",
    "    break\n",
    "\n",
    "cap.release()\n",
    "cv2.destroyAllWindows()"
   ]
  }
 ],
 "metadata": {
  "kernelspec": {
   "display_name": "base",
   "language": "python",
   "name": "python3"
  },
  "language_info": {
   "codemirror_mode": {
    "name": "ipython",
    "version": 3
   },
   "file_extension": ".py",
   "mimetype": "text/x-python",
   "name": "python",
   "nbconvert_exporter": "python",
   "pygments_lexer": "ipython3",
   "version": "3.11.5"
  }
 },
 "nbformat": 4,
 "nbformat_minor": 2
}
