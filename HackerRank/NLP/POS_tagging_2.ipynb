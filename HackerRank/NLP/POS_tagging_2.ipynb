{
 "cells": [
  {
   "cell_type": "markdown",
   "metadata": {},
   "source": [
    "https://www.hackerrank.com/challenges/nlp-pos-tagging-2/problem"
   ]
  },
  {
   "cell_type": "markdown",
   "metadata": {},
   "source": [
    "You are provided with the POS-tagged version of a sentence. The tags that are used are the most commonly used standard from the Pen Tree Tagset.\n",
    "\n",
    "Your task is to fill in the missing tags which have been replaced by question marks. The missing tags will be restricted to the set of tags which you already see in the POS tagged version of this sentence.\n",
    "\n",
    "If there are two question marks (??), it indicates a 2-letter tag (CC, JJ, NN etc.).\n",
    "If there are three question marks (???), it indicates a 3-letter tag (NNP, PPS, VBP).\n",
    "\n",
    "> People/NNS continue/VBP to/TO inquire/VB the/DT reason/?? for/IN the/DT race/NN for/IN outer/JJ space/??\n",
    "\n",
    "In the plain-text box below, submit the sentence, as is, with only the question marks filled in appropriately and nothing else changed.\n",
    "\n",
    "For example, your answer may look like this (This is not the correct answer):\n",
    "\n",
    "> People/NNS continue/VBP to/TO inquire/VB the/DT reason/TO for/IN the/DT race/NN for/IN outer/JJ space/TO"
   ]
  },
  {
   "cell_type": "markdown",
   "metadata": {},
   "source": [
    "\n",
    "\n"
   ]
  },
  {
   "cell_type": "markdown",
   "metadata": {},
   "source": [
    "Penn Treebank POS Tags:\n",
    "\n",
    "| Number | Tag  | Description                          | Description (中文)                |\n",
    "|--------|------|--------------------------------------|-----------------------------------|\n",
    "| 1      | CC   | Coordinating conjunction             | 并列连词                          |\n",
    "| 2      | CD   | Cardinal number                      | 基数词                            |\n",
    "| 3      | DT   | Determiner                           | 限定词                            |\n",
    "| 4      | EX   | Existential there                    | 存在句中的there                   |\n",
    "| 5      | FW   | Foreign word                         | 外来词                            |\n",
    "| 6      | IN   | Preposition or subordinating conjunction | 介词或从属连词                   |\n",
    "| 7      | JJ   | Adjective                            | 形容词                            |\n",
    "| 8      | JJR  | Adjective, comparative               | 比较级形容词                      |\n",
    "| 9      | JJS  | Adjective, superlative               | 最高级形容词                      |\n",
    "| 10     | LS   | List item marker                     | 列表项标记                        |\n",
    "| 11     | MD   | Modal                                | 情态动词                          |\n",
    "| 12     | NN   | Noun, singular or mass               | 名词，单数或不可数名词            |\n",
    "| 13     | NNS  | Noun, plural                         | 名词，复数                        |\n",
    "| 14     | NNP  | Proper noun, singular                | 专有名词，单数                    |\n",
    "| 15     | NNPS | Proper noun, plural                  | 专有名词，复数                    |\n",
    "| 16     | PDT  | Predeterminer                        | 前限定词                          |\n",
    "| 17     | POS  | Possessive ending                    | 所有格结尾                        |\n",
    "| 18     | PRP  | Personal pronoun                     | 人称代词                          |\n",
    "| 19     | PRP$ | Possessive pronoun                   | 物主代词                          |\n",
    "| 20     | RB   | Adverb                               | 副词                              |\n",
    "| 21     | RBR  | Adverb, comparative                  | 比较级副词                        |\n",
    "| 22     | RBS  | Adverb, superlative                  | 最高级副词                        |\n",
    "| 23     | RP   | Particle                             | 小品词                            |\n",
    "| 24     | SYM  | Symbol                               | 符号                              |\n",
    "| 25     | TO   | to                                   | to（不定式标记）                   |\n",
    "| 26     | UH   | Interjection                         | 感叹词                            |\n",
    "| 27     | VB   | Verb, base form                      | 动词，原形                        |\n",
    "| 28     | VBD  | Verb, past tense                     | 动词，过去式                      |\n",
    "| 29     | VBG  | Verb, gerund or present participle   | 动名词或现在分词                  |\n",
    "| 30     | VBN  | Verb, past participle                | 动词，过去分词                    |\n",
    "| 31     | VBP  | Verb, non-3rd person singular present| 动词，非第三人称单数现在时        |\n",
    "| 32     | VBZ  | Verb, 3rd person singular present    | 动词，第三人称单数现在时          |\n",
    "| 33     | WDT  | Wh-determiner                        | 疑问限定词                        |\n",
    "| 34     | WP   | Wh-pronoun                           | 疑问代词                          |\n",
    "| 35     | WP$  | Possessive wh-pronoun                | 物主疑问代词                      |\n",
    "| 36     | WRB  | Wh-adverb                            | 疑问副词                          |"
   ]
  },
  {
   "cell_type": "code",
   "execution_count": null,
   "metadata": {},
   "outputs": [],
   "source": [
    "# Question:\n",
    "\"People/NNS continue/VBP to/TO inquire/VB the/DT reason/?? for/IN the/DT race/NN for/IN outer/JJ space/??\""
   ]
  },
  {
   "cell_type": "code",
   "execution_count": null,
   "metadata": {},
   "outputs": [],
   "source": [
    "# Answer:\n",
    "\"People/NNS continue/VBP to/TO inquire/VB the/DT reason/NN for/IN the/DT race/NN for/IN outer/JJ space/NN\""
   ]
  },
  {
   "cell_type": "code",
   "execution_count": null,
   "metadata": {},
   "outputs": [],
   "source": []
  }
 ],
 "metadata": {
  "language_info": {
   "name": "python"
  }
 },
 "nbformat": 4,
 "nbformat_minor": 2
}
